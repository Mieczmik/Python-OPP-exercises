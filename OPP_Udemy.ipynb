{
 "cells": [
  {
   "cell_type": "markdown",
   "id": "7c2ff5fa-770c-4312-b1d2-fb9d59f206ff",
   "metadata": {},
   "source": [
    "# Class attributes"
   ]
  },
  {
   "cell_type": "markdown",
   "id": "bf533e3d-b3bd-4dd2-b26d-8dc9f12d2893",
   "metadata": {},
   "source": [
    "<div class=\"instructions--content--1JI0g\"><div class=\"udlite-heading-xl instructions--title--3vSDk\" data-purpose=\"exercise-title\">Exercise 1</div><div data-purpose=\"safely-set-inner-html:rich-text-viewer:html\" class=\"udlite-text-sm rt-scaffolding\"><p>Implement a class named <em>Phone</em>. In the <em>Phone</em> class, define a class attribute named <em>brand </em>and set its value to <code>'Apple'</code>. Then, using dot notation and <code>print()</code> function, display the value of the <em>brand</em> attribute of the<em> Phone</em> class to the console.</p><p><br></p><p><strong>Expected result:</strong></p><p><br></p><div class=\"ud-component--base-components--code-block\"><div><pre class=\"prettyprint linenums prettyprinted\" role=\"presentation\" style=\"\"><ol class=\"linenums\"><li class=\"L0\"><span class=\"typ\">Apple</span></li></ol></pre></div></div><p><br></p></div></div>"
   ]
  },
  {
   "cell_type": "code",
   "execution_count": 2,
   "id": "418169b1-c9cd-494d-bb84-117e404028f4",
   "metadata": {},
   "outputs": [
    {
     "name": "stdout",
     "output_type": "stream",
     "text": [
      "Apple\n"
     ]
    }
   ],
   "source": [
    "class Phone:\n",
    "    brand = 'Apple'\n",
    " \n",
    " \n",
    "print(Phone.brand)"
   ]
  },
  {
   "cell_type": "markdown",
   "id": "465bb051-7e04-4829-9ed1-40eac993ba9a",
   "metadata": {},
   "source": [
    "<div class=\"instructions--content--1JI0g\"><div class=\"udlite-heading-xl instructions--title--3vSDk\" data-purpose=\"exercise-title\">Exercise 2</div><div data-purpose=\"safely-set-inner-html:rich-text-viewer:html\" class=\"udlite-text-sm rt-scaffolding\"><p>Implement a class named <em>Phone.</em> In the <em>Phone</em> class, define two class attributes with names:</p><ul><li><p><em>brand</em></p></li><li><p><em>model</em></p></li></ul><p>and set their values to:</p><ul><li><p><code>'Apple'</code></p></li><li><p><code>'iPhone X'</code></p></li></ul><p>Then use the built-in functions <code>getattr()</code> and <code>print()</code> to display the values of the given attributes of the <em>Phone</em> class to the console as shown below.</p><p><br></p><p><strong>Expected result:</strong></p><p><br></p><div class=\"ud-component--base-components--code-block\"><div><pre class=\"prettyprint linenums prettyprinted\" role=\"presentation\" style=\"\"><ol class=\"linenums\"><li class=\"L0\"><span class=\"typ\">Apple</span></li><li class=\"L1\"><span class=\"pln\">iPhone&nbsp;X</span></li></ol></pre></div></div><p><br></p></div></div>"
   ]
  },
  {
   "cell_type": "code",
   "execution_count": 3,
   "id": "804ec757-7d96-49c2-88f4-8d4188170294",
   "metadata": {},
   "outputs": [
    {
     "name": "stdout",
     "output_type": "stream",
     "text": [
      "Apple\n",
      "iPhone X\n"
     ]
    }
   ],
   "source": [
    "class Phone:\n",
    "    brand = 'Apple'\n",
    "    model = 'iPhone X'\n",
    "    \n",
    "print(Phone.brand)\n",
    "print(Phone.model)"
   ]
  },
  {
   "cell_type": "markdown",
   "id": "3654ac91-71ce-4131-868b-c7b397ec3f1e",
   "metadata": {},
   "source": [
    "<div class=\"instructions--content--1JI0g\"><div class=\"udlite-heading-xl instructions--title--3vSDk\" data-purpose=\"exercise-title\">Exercise 3</div><div data-purpose=\"safely-set-inner-html:rich-text-viewer:html\" class=\"udlite-text-sm rt-scaffolding\"><p>A class named<em> Phone</em> is defined below. Using dot notation, modify the value of the attributes:</p><ul><li><p><em>brand</em> to <code>'Samsung'</code></p></li><li><p><em>model</em> to <code>'Galaxy'</code></p></li></ul><p>In response, print the values for the <em>brand </em>and <em>model </em>attributes to the console as shown below.</p><p><br></p><p><strong>Expected result:</strong></p><p><br></p><div class=\"ud-component--base-components--code-block\"><div><pre class=\"prettyprint linenums prettyprinted\" role=\"presentation\" style=\"\"><ol class=\"linenums\"><li class=\"L0\"><span class=\"pln\">brand</span><span class=\"pun\">:</span><span class=\"pln\">&nbsp;</span><span class=\"typ\">Samsung</span></li><li class=\"L1\"><span class=\"pln\">model</span><span class=\"pun\">:</span><span class=\"pln\">&nbsp;</span><span class=\"typ\">Galaxy</span></li></ol></pre></div></div><p><br></p></div></div>"
   ]
  },
  {
   "cell_type": "code",
   "execution_count": 4,
   "id": "b0bb186f-c7c4-4315-b715-ddfa530deb86",
   "metadata": {},
   "outputs": [
    {
     "name": "stdout",
     "output_type": "stream",
     "text": [
      "brand: Samsung\n",
      "model: Galaxy\n"
     ]
    }
   ],
   "source": [
    "class Phone:\n",
    "    brand = 'Apple'\n",
    "    model = 'iPhone X'\n",
    " \n",
    " \n",
    "Phone.brand = 'Samsung'\n",
    "Phone.model = 'Galaxy'\n",
    " \n",
    "print(f'brand: {Phone.brand}')\n",
    "print(f'model: {Phone.model}')"
   ]
  },
  {
   "cell_type": "markdown",
   "id": "34253968-419b-4ea4-b6e9-7d874810c795",
   "metadata": {},
   "source": [
    "<div class=\"instructions--content--1JI0g\"><div class=\"udlite-heading-xl instructions--title--3vSDk\" data-purpose=\"exercise-title\">Exercise 4</div><div data-purpose=\"safely-set-inner-html:rich-text-viewer:html\" class=\"udlite-text-sm rt-scaffolding\"><p>A class named <em>Laptop</em> is defined below. Using the <code>setattr()</code> built-in function modify the value of attributes:</p><ul><li><p><em>brand</em> to <code>'Acer'</code></p></li><li><p><em>model</em> to <code>'Predator'</code></p></li></ul><p>In response, using the built-in function <code>getattr()</code> and <code>print()</code>, print the values of the <em>brand </em>and <em>model </em>attributes to the console as shown below.</p><p><br></p><p><strong>Expected result:</strong></p><p><br></p><div class=\"ud-component--base-components--code-block\"><div><pre class=\"prettyprint linenums prettyprinted\" role=\"presentation\" style=\"\"><ol class=\"linenums\"><li class=\"L0\"><span class=\"pln\">brand</span><span class=\"pun\">:</span><span class=\"pln\">&nbsp;</span><span class=\"typ\">Acer</span></li><li class=\"L1\"><span class=\"pln\">model</span><span class=\"pun\">:</span><span class=\"pln\">&nbsp;</span><span class=\"typ\">Predator</span></li></ol></pre></div></div><p><br></p></div></div>"
   ]
  },
  {
   "cell_type": "code",
   "execution_count": 5,
   "id": "f9081b50-4da7-46a9-9e20-96224c5130c5",
   "metadata": {},
   "outputs": [
    {
     "name": "stdout",
     "output_type": "stream",
     "text": [
      "brand: Acer\n",
      "model: Predator\n"
     ]
    }
   ],
   "source": [
    "class Laptop:\n",
    "    brand = 'Lenovo'\n",
    "    model = 'ThinkPad'\n",
    "\n",
    "setattr(Laptop, 'brand', 'Acer')\n",
    "setattr(Laptop, 'model', 'Predator')\n",
    "\n",
    "print(f\"brand: {getattr(Laptop, 'brand')}\")\n",
    "print(f\"model: {getattr(Laptop, 'model')}\")"
   ]
  },
  {
   "cell_type": "markdown",
   "id": "05677632-4d3c-4aa2-8f23-ed976dda18f7",
   "metadata": {},
   "source": [
    "<div class=\"instructions--content--1JI0g\"><div class=\"udlite-heading-xl instructions--title--3vSDk\" data-purpose=\"exercise-title\">Exercise 5</div><div data-purpose=\"safely-set-inner-html:rich-text-viewer:html\" class=\"udlite-text-sm rt-scaffolding\"><p>Implement a class named <em>OnlineShop</em> with the class attributes set appropriately:</p><ul><li><p><em>sector</em> to the value <code>'electronics'</code></p></li><li><p><em>sector_code</em> to the value <code>'ELE'</code></p></li><li><p><em>is_public_company </em>to the value <code>False</code></p></li></ul><p>Then, using dot notation, add a class attribute called <em>country</em> and set its value to <code>'USA'</code>. In response, print the user-defined <em>OnlineShop</em> class <strong>attribute names</strong> as shown below.</p><p><br></p><p><strong>Expected result:</strong></p><p><br></p><div class=\"ud-component--base-components--code-block\"><div><pre class=\"prettyprint linenums prettyprinted\" role=\"presentation\" style=\"\"><ol class=\"linenums\"><li class=\"L0\"><span class=\"pun\">[</span><span class=\"str\">'sector'</span><span class=\"pun\">,</span><span class=\"pln\">&nbsp;</span><span class=\"str\">'sector_code'</span><span class=\"pun\">,</span><span class=\"pln\">&nbsp;</span><span class=\"str\">'is_public_company'</span><span class=\"pun\">,</span><span class=\"pln\">&nbsp;</span><span class=\"str\">'country'</span><span class=\"pun\">]</span></li></ol></pre></div></div><p><br></p></div></div>"
   ]
  },
  {
   "cell_type": "code",
   "execution_count": 6,
   "id": "e4b890b2-d170-4176-bdd9-50012862c3f0",
   "metadata": {},
   "outputs": [
    {
     "name": "stdout",
     "output_type": "stream",
     "text": [
      "['sector', 'sector_code', 'is_public_company', 'country']\n"
     ]
    }
   ],
   "source": [
    "class OnlineShop:\n",
    "    sector = 'electronics'\n",
    "    sector_code = 'ELE'\n",
    "    is_public_company = False\n",
    "    \n",
    "OnlineShop.country = 'USA'\n",
    "\n",
    "print([attr for attr in OnlineShop.__dict__.keys() if not attr.startswith('_')])"
   ]
  },
  {
   "cell_type": "markdown",
   "id": "b90a7287-793d-441d-9f79-7581fedcfaa5",
   "metadata": {},
   "source": [
    "<div class=\"instructions--content--1JI0g\"><div class=\"udlite-heading-xl instructions--title--3vSDk\" data-purpose=\"exercise-title\">Exercise 6</div><div data-purpose=\"safely-set-inner-html:rich-text-viewer:html\" class=\"udlite-text-sm rt-scaffolding\"><p>A class named<em> OnlineShop</em> was defined with the class attributes set accordingly:</p><ul><li><p><em>sector</em> to the value <code>'electronics'</code></p></li><li><p><em>sector_code</em> to the value <code>'ELE'</code></p></li><li><p><em>is_public_company </em>to the value <code>False</code></p></li></ul><p>Using the <code>del</code> statement remove the class attribute named <em>sector_code</em>. In response, print the rest of the user-defined <em>OnlineShop</em> class attribute names as a list as shown below.</p><p><br></p><p><strong>Expected result:</strong></p><p><br></p><div class=\"ud-component--base-components--code-block\"><div><pre class=\"prettyprint linenums prettyprinted\" role=\"presentation\" style=\"\"><ol class=\"linenums\"><li class=\"L0\"><span class=\"pun\">[</span><span class=\"str\">'sector'</span><span class=\"pun\">,</span><span class=\"pln\">&nbsp;</span><span class=\"str\">'is_public_company'</span><span class=\"pun\">]</span></li></ol></pre></div></div><p><br></p></div></div>"
   ]
  },
  {
   "cell_type": "code",
   "execution_count": 10,
   "id": "9af7662e-39d3-4802-bfed-4ec75e3f26ad",
   "metadata": {},
   "outputs": [
    {
     "name": "stdout",
     "output_type": "stream",
     "text": [
      "['sector', 'is_public_company']\n"
     ]
    }
   ],
   "source": [
    "class OnlineShop:\n",
    "    sector = 'electronics'\n",
    "    sector_code = 'ELE'\n",
    "    is_public_company = False\n",
    "\n",
    "del OnlineShop.sector_code\n",
    "print([attr for attr in OnlineShop.__dict__.keys() if not attr.startswith('_')])"
   ]
  },
  {
   "cell_type": "markdown",
   "id": "1c6686f8-70f8-4b0d-bf74-1165a6546092",
   "metadata": {},
   "source": [
    "<div class=\"instructions--content--1JI0g\"><div class=\"udlite-heading-xl instructions--title--3vSDk\" data-purpose=\"exercise-title\">Exercise 7</div><div data-purpose=\"safely-set-inner-html:rich-text-viewer:html\" class=\"udlite-text-sm rt-scaffolding\"><p>A class named <em>OnlineShop </em>was defined with the class attributes set accordingly:</p><ul><li><p><em>sector</em> to the value <code>'electronics'</code></p></li><li><p><em>sector_code</em> to the value <code>'ELE'</code></p></li><li><p><em>is_public_company </em>to the value <code>False</code></p></li></ul><p>Using the builtin <code>delattr()</code> function remove the class attribute <em>sector_code</em>. In response, print the rest of the user-defined <em>OnlineShop</em> class attribute names as a list as shown below.</p><p><br></p><p><strong>Expected result:</strong></p><p><br></p><div class=\"ud-component--base-components--code-block\"><div><pre class=\"prettyprint linenums prettyprinted\" role=\"presentation\" style=\"\"><ol class=\"linenums\"><li class=\"L0\"><span class=\"pun\">[</span><span class=\"str\">'sector'</span><span class=\"pun\">,</span><span class=\"pln\">&nbsp;</span><span class=\"str\">'is_public_company'</span><span class=\"pun\">]</span></li></ol></pre></div></div><p><br></p></div></div>"
   ]
  },
  {
   "cell_type": "code",
   "execution_count": 11,
   "id": "f2a2143b-2835-494f-8930-2cb2d57b96a9",
   "metadata": {},
   "outputs": [
    {
     "name": "stdout",
     "output_type": "stream",
     "text": [
      "['sector', 'is_public_company']\n"
     ]
    }
   ],
   "source": [
    "class OnlineShop:\n",
    "    sector = 'electronics'\n",
    "    sector_code = 'ELE'\n",
    "    is_public_company = False\n",
    "\n",
    "delattr(OnlineShop, 'sector_code')\n",
    "print([attr for attr in OnlineShop.__dict__.keys() if not attr.startswith('_')])"
   ]
  },
  {
   "cell_type": "markdown",
   "id": "b3e3a232-ea17-4e99-a4ee-d787cf9f0481",
   "metadata": {},
   "source": [
    "<div class=\"instructions--content--1JI0g\"><div class=\"udlite-heading-xl instructions--title--3vSDk\" data-purpose=\"exercise-title\">Exercise 8</div><div data-purpose=\"safely-set-inner-html:rich-text-viewer:html\" class=\"udlite-text-sm rt-scaffolding\"><p>A class named <em>OnlineShop </em>was defined with the class attributes set accordingly:</p><ul><li><p><em>sector</em> to the value <code>'electronics'</code></p></li><li><p><em>sector_code</em> to the value <code>'ELE'</code></p></li><li><p><em>is_public_company </em>to the value <code>False</code></p></li></ul><p>Display all <strong>user-defined</strong> <em>OnlineShop</em> class attribute names with their values as shown below.</p><p><br></p><p><strong>Expected result:</strong></p><p><br></p><div class=\"ud-component--base-components--code-block\"><div><pre class=\"prettyprint linenums prettyprinted\" role=\"presentation\" style=\"\"><ol class=\"linenums\"><li class=\"L0\"><span class=\"pln\">sector&nbsp;</span><span class=\"pun\">-&gt;</span><span class=\"pln\">&nbsp;electronics</span></li><li class=\"L1\"><span class=\"pln\">sector_code&nbsp;</span><span class=\"pun\">-&gt;</span><span class=\"pln\">&nbsp;ELE</span></li><li class=\"L2\"><span class=\"pln\">is_public_company&nbsp;</span><span class=\"pun\">-&gt;</span><span class=\"pln\">&nbsp;</span><span class=\"kwd\">False</span></li></ol></pre></div></div><p><br></p></div></div>"
   ]
  },
  {
   "cell_type": "code",
   "execution_count": 41,
   "id": "eaaef20e-9392-4e2b-89ec-b10d7e5b1c76",
   "metadata": {},
   "outputs": [
    {
     "name": "stdout",
     "output_type": "stream",
     "text": [
      "sector -> electronics\n",
      "sector_code -> ELE\n",
      "is_public_company -> False\n"
     ]
    }
   ],
   "source": [
    "class OnlineShop:\n",
    "    sector = 'electronics'\n",
    "    sector_code = 'ELE'\n",
    "    is_public_company = False\n",
    "    \n",
    "for attr, val in OnlineShop.__dict__.items():\n",
    "    if not attr.startswith('_'):\n",
    "        print(f'{attr} -> {val}')"
   ]
  },
  {
   "cell_type": "markdown",
   "id": "0a38a569-2536-419f-a7ec-108a831f3350",
   "metadata": {},
   "source": [
    "<div class=\"instructions--content--1JI0g\"><div class=\"udlite-heading-xl instructions--title--3vSDk\" data-purpose=\"exercise-title\">Exercise 9</div><div data-purpose=\"safely-set-inner-html:rich-text-viewer:html\" class=\"udlite-text-sm rt-scaffolding\"><p>A class named <em>OnlineShop </em>was defined with the class attributes set accordingly:</p><ul><li><p><em>sector</em> to the value <code>'electronics'</code></p></li><li><p><em>sector_code</em> to the value <code>'ELE'</code></p></li><li><p><em>is_public_company </em>to the value <code>False</code></p></li></ul><p>Outside of the class, implement a function called <code>describe_attrs()</code> that displays the names of all <strong>user-defined class attributes</strong> and their values as shown below. In response, call the <code>describe_attrs()</code> function.</p><p><br></p><p><strong>Expected result:</strong></p><p><br></p><div class=\"ud-component--base-components--code-block\"><div><pre class=\"prettyprint linenums prettyprinted\" role=\"presentation\" style=\"\"><ol class=\"linenums\"><li class=\"L0\"><span class=\"pln\">sector&nbsp;</span><span class=\"pun\">-&gt;</span><span class=\"pln\">&nbsp;electronics</span></li><li class=\"L1\"><span class=\"pln\">sector_code&nbsp;</span><span class=\"pun\">-&gt;</span><span class=\"pln\">&nbsp;ELE</span></li><li class=\"L2\"><span class=\"pln\">is_public_company&nbsp;</span><span class=\"pun\">-&gt;</span><span class=\"pln\">&nbsp;</span><span class=\"kwd\">False</span></li></ol></pre></div></div><p><br></p></div></div>"
   ]
  },
  {
   "cell_type": "code",
   "execution_count": 34,
   "id": "cd36e68b-02a5-44ac-aca8-76819c49fa52",
   "metadata": {},
   "outputs": [],
   "source": [
    "class OnlineShop:\n",
    "    sector = 'electronics'\n",
    "    sector_code = 'ELE'\n",
    "    is_public_company = False\n",
    "    \n",
    "def describe_attrs():\n",
    "    for attr, val in OnlineShop.__dict__.items():\n",
    "        if not attr.startswith('_'):\n",
    "            print(f'{attr} -> {val}')\n",
    "            \n",
    "describe_attrs()"
   ]
  },
  {
   "cell_type": "markdown",
   "id": "414a9b63-2bde-44ba-830f-57f4d5e4086f",
   "metadata": {},
   "source": [
    "<div class=\"instructions--content--1JI0g\"><div class=\"udlite-heading-xl instructions--title--3vSDk\" data-purpose=\"exercise-title\">Exercise 10</div><div data-purpose=\"safely-set-inner-html:rich-text-viewer:html\" class=\"udlite-text-sm rt-scaffolding\"><p>A class named <em>OnlineShop </em>was defined with the class attributes set accordingly:</p><ul><li><p><em>sector</em> to the value <code>'electronics'</code></p></li><li><p><em>sector_code</em> to the value <code>'ELE'</code></p></li><li><p><em>is_public_company </em>to the value <code>False</code></p></li></ul><p>Implement a function (class callable attribute) named <code>get_sector()</code> that returns the value of the <em>sector </em>attribute of <em>OnlineShop </em>class. You only need to implement this function.</p><p><br></p></div></div>"
   ]
  },
  {
   "cell_type": "code",
   "execution_count": 57,
   "id": "26809a3c-e6bf-4e52-b131-5aa42f524a08",
   "metadata": {},
   "outputs": [],
   "source": [
    "class OnlineShop:\n",
    "    sector = 'electronics'\n",
    "    sector_code = 'ELE'\n",
    "    is_public_company = False\n",
    "    \n",
    "    def get_sector():\n",
    "        return(OnlineShop.__dict__['sector'])"
   ]
  },
  {
   "cell_type": "markdown",
   "id": "4e6385b7-e64b-416a-b23d-2fb4cb81ff70",
   "metadata": {},
   "source": [
    "<div class=\"instructions--content--1JI0g\"><div class=\"udlite-heading-xl instructions--title--3vSDk\" data-purpose=\"exercise-title\">Exercise 11</div><div data-purpose=\"safely-set-inner-html:rich-text-viewer:html\" class=\"udlite-text-sm rt-scaffolding\"><p>Implement the <em>HouseProject </em>class with class attributes respectively:</p><ul><li><p><code>number_of_floors = 3</code></p></li><li><p><code>area = 100</code></p></li></ul><p>Then, in the <em>HouseProject </em>class implement a function (class callable attribute) called <code>describe_project()</code>, which displays basic information about the project as follows:</p><p><br></p><div class=\"ud-component--base-components--code-block\"><div><pre class=\"prettyprint linenums prettyprinted\" role=\"presentation\" style=\"\"><ol class=\"linenums\"><li class=\"L0\"><span class=\"typ\">Floor</span><span class=\"pln\">&nbsp;number</span><span class=\"pun\">:</span><span class=\"pln\">&nbsp;</span><span class=\"lit\">3</span></li><li class=\"L1\"><span class=\"typ\">Area</span><span class=\"pun\">:</span><span class=\"pln\">&nbsp;</span><span class=\"lit\">100</span></li></ol></pre></div></div><p>In response, call <code>describe_project()</code> function.</p><p><br></p><p><strong>Expected result:</strong></p><p><br></p><div class=\"ud-component--base-components--code-block\"><div><pre class=\"prettyprint linenums prettyprinted\" role=\"presentation\" style=\"\"><ol class=\"linenums\"><li class=\"L0\"><span class=\"typ\">Floor</span><span class=\"pln\">&nbsp;number</span><span class=\"pun\">:</span><span class=\"pln\">&nbsp;</span><span class=\"lit\">3</span></li><li class=\"L1\"><span class=\"typ\">Area</span><span class=\"pun\">:</span><span class=\"pln\">&nbsp;</span><span class=\"lit\">100</span></li></ol></pre></div></div><p><br></p></div></div>"
   ]
  },
  {
   "cell_type": "code",
   "execution_count": 67,
   "id": "7d70c563-a082-4cd2-b65a-8649061b5300",
   "metadata": {},
   "outputs": [
    {
     "name": "stdout",
     "output_type": "stream",
     "text": [
      "Floor number: 3\n",
      "Area: 100\n"
     ]
    }
   ],
   "source": [
    "class HouseProject:\n",
    "    number_of_floors = 3\n",
    "    area = 100\n",
    "    \n",
    "    def describe_project():\n",
    "        print(f'Floor number: {HouseProject.number_of_floors}')\n",
    "        print(f'Area: {HouseProject.area}')\n",
    "\n",
    "HouseProject.describe_project()        "
   ]
  },
  {
   "cell_type": "markdown",
   "id": "dcea6119-4710-46b1-a6e1-f377f4a07c84",
   "metadata": {},
   "source": [
    "# Instance attributes"
   ]
  },
  {
   "cell_type": "markdown",
   "id": "d1298a22-53ca-44d7-882a-1d466692b806",
   "metadata": {},
   "source": [
    "<div class=\"instructions--content--1JI0g\"><div class=\"udlite-heading-xl instructions--title--3vSDk\" data-purpose=\"exercise-title\">Exercise 1</div><div data-purpose=\"safely-set-inner-html:rich-text-viewer:html\" class=\"udlite-text-sm rt-scaffolding\"><p>The <em>Book </em>class is defined. Create an instance of the <em>Book</em> class named <em>book</em>. Display the value of the <code>__dict__</code> attribute for the <em>book</em> instance. Then assign two attributes to the <em>book</em> instance:</p><ul><li><p><em>author </em>to the value <code>'Dan Brown'</code></p></li><li><p><em>title</em> to the value <code>'Inferno'</code></p></li></ul><p>In response, display the <code>__dict__</code> attribute for the <em>book</em> instance again.</p><p><br></p><p><strong>Expected result:</strong></p><p><br></p><div class=\"ud-component--base-components--code-block\"><div><pre class=\"prettyprint linenums prettyprinted\" role=\"presentation\" style=\"\"><ol class=\"linenums\"><li class=\"L0\"><span class=\"pun\">{}</span></li><li class=\"L1\"><span class=\"pun\">{</span><span class=\"str\">'author'</span><span class=\"pun\">:</span><span class=\"pln\">&nbsp;</span><span class=\"str\">'Dan&nbsp;Brown'</span><span class=\"pun\">,</span><span class=\"pln\">&nbsp;</span><span class=\"str\">'title'</span><span class=\"pun\">:</span><span class=\"pln\">&nbsp;</span><span class=\"str\">'Inferno'</span><span class=\"pun\">}</span></li></ol></pre></div></div><p><br></p></div></div>"
   ]
  },
  {
   "cell_type": "code",
   "execution_count": 69,
   "id": "2050c2c9-90f7-4680-b483-5858793ab0c2",
   "metadata": {},
   "outputs": [],
   "source": [
    "class Book:\n",
    "    language = 'ENG'\n",
    "    is_ebook = True"
   ]
  },
  {
   "cell_type": "code",
   "execution_count": 75,
   "id": "a0b6933f-3fcf-487c-b22e-e521c260fbfd",
   "metadata": {},
   "outputs": [
    {
     "name": "stdout",
     "output_type": "stream",
     "text": [
      "{}\n",
      "{'author': 'Dan Brown', 'title': 'Inferno'}\n"
     ]
    }
   ],
   "source": [
    "book = Book()\n",
    "print(book.__dict__)\n",
    "book.__dict__ = {'author': 'Dan Brown', 'title': 'Inferno'}\n",
    "print(book.__dict__)"
   ]
  },
  {
   "cell_type": "markdown",
   "id": "7120c2ad-9564-4605-b313-076233e2322d",
   "metadata": {},
   "source": [
    "<div class=\"instructions--content--1JI0g\"><div class=\"udlite-heading-xl instructions--title--3vSDk\" data-purpose=\"exercise-title\">Exercise 2</div><div data-purpose=\"safely-set-inner-html:rich-text-viewer:html\" class=\"udlite-text-sm rt-scaffolding\"><p>The <em>Book</em> class is defined. Create two instances of the <em>Book</em> class named <em>book_1</em> and <em>book_2</em>. Then assign instance attributes to these objects (using dot notation) as follows:</p><ul><li><p>to object <em>book_1</em>:</p><ul><li><p><code>author = 'Dan Brown'</code></p></li><li><p><code>title = 'Inferno'</code></p></li></ul></li><li><p>to object <em>book_2</em>:</p><ul><li><p><code>author = 'Dan Brown'</code></p></li><li><p><code>title = 'The Da Vinci Code'</code></p></li><li><p><code>year_of_publishment = 2003</code></p></li></ul></li></ul><p>In response, print the value of the <code>__dict__</code> attribute of <em>book_1 </em>and <em>book_2</em>.</p><p><br></p><p><strong>Expected result:</strong></p><p><br></p><div class=\"ud-component--base-components--code-block\"><div><pre class=\"prettyprint linenums prettyprinted\" role=\"presentation\" style=\"\"><ol class=\"linenums\"><li class=\"L0\"><span class=\"pun\">{</span><span class=\"str\">'author'</span><span class=\"pun\">:</span><span class=\"pln\">&nbsp;</span><span class=\"str\">'Dan&nbsp;Brown'</span><span class=\"pun\">,</span><span class=\"pln\">&nbsp;</span><span class=\"str\">'title'</span><span class=\"pun\">:</span><span class=\"pln\">&nbsp;</span><span class=\"str\">'Inferno'</span><span class=\"pun\">}</span></li><li class=\"L1\"><span class=\"pun\">{</span><span class=\"str\">'author'</span><span class=\"pun\">:</span><span class=\"pln\">&nbsp;</span><span class=\"str\">'Dan&nbsp;Brown'</span><span class=\"pun\">,</span><span class=\"pln\">&nbsp;</span><span class=\"str\">'title'</span><span class=\"pun\">:</span><span class=\"pln\">&nbsp;</span><span class=\"str\">'The&nbsp;Da&nbsp;Vinci&nbsp;Code'</span><span class=\"pun\">,</span><span class=\"pln\">&nbsp;</span><span class=\"str\">'year_of_publishment'</span><span class=\"pun\">:</span><span class=\"pln\">&nbsp;</span><span class=\"lit\">2003</span><span class=\"pun\">}</span></li></ol></pre></div></div><p><br></p></div></div>"
   ]
  },
  {
   "cell_type": "code",
   "execution_count": 78,
   "id": "9de39280-2701-4d39-9afe-52c7082efd96",
   "metadata": {},
   "outputs": [],
   "source": [
    "class Book:\n",
    "    language = 'ENG'\n",
    "    is_ebook = True"
   ]
  },
  {
   "cell_type": "code",
   "execution_count": 77,
   "id": "e13f1fba-a9ed-444b-ae90-244e0916a5bb",
   "metadata": {},
   "outputs": [
    {
     "name": "stdout",
     "output_type": "stream",
     "text": [
      "{'author': 'Dan Brown', 'title': 'Inferno'}\n",
      "{'author': 'Dan Brown', 'title': 'The Da Vinci Code', 'year_of_publishment': 2003}\n"
     ]
    }
   ],
   "source": [
    "book_1 = Book()\n",
    "book_2 = Book()\n",
    "book_1.__dict__ = {'author': 'Dan Brown', 'title': 'Inferno'}\n",
    "print(book_1.__dict__)\n",
    "book_2.author = 'Dan Brown'\n",
    "book_2.title = 'The Da Vinci Code'\n",
    "book_2.year_of_publishment = 2003\n",
    "print(book_2.__dict__)"
   ]
  },
  {
   "cell_type": "markdown",
   "id": "972ce795-5db3-4ff8-9372-0e821a158748",
   "metadata": {},
   "source": [
    "<div class=\"instructions--content--1JI0g\"><div class=\"udlite-heading-xl instructions--title--3vSDk\" data-purpose=\"exercise-title\">Exercise 3</div><div data-purpose=\"safely-set-inner-html:rich-text-viewer:html\" class=\"udlite-text-sm rt-scaffolding\"><p>The <em>Book </em>class is defined. Two instances of the <em>Book </em>class named <em>book_1 </em>and <em>book_2 </em>was created. Then the instance attributes were assigned to these objects (using the dot notation), respectively:</p><ul><li><p>to object <em>book_1</em>:</p><ul><li><p><code>author = 'Dan Brown'</code></p></li><li><p><code>title = 'Inferno'</code></p></li></ul></li><li><p>to object <em>book_2</em>:</p><ul><li><p><code>author = 'Dan Brown'</code></p></li><li><p><code>title = 'The Da Vinci Code'</code></p></li><li><p><code>year_of_publishment = 2003</code></p></li></ul></li></ul><p>Then a <em>books </em>list was created. Create a loop to list all the attributes of the <em>book_1 </em>and <em>book_2 </em>instances with their values as shown below (separate each instance with a line of 30 <code>'-'</code> characters&nbsp; as shown below).</p><p><br></p><p><strong>Expected result:</strong></p><p><br></p><div class=\"ud-component--base-components--code-block\"><div><pre class=\"prettyprint linenums prettyprinted\" role=\"presentation\" style=\"\"><ol class=\"linenums\"><li class=\"L0\"><span class=\"pln\">author </span><span class=\"pun\">-&gt;</span><span class=\"pln\"> </span><span class=\"typ\">Dan</span><span class=\"pln\"> </span><span class=\"typ\">Brown</span></li><li class=\"L1\"><span class=\"pln\">title </span><span class=\"pun\">-&gt;</span><span class=\"pln\"> </span><span class=\"typ\">Inferno</span></li><li class=\"L2\"><span class=\"pun\">------------------------------</span></li><li class=\"L3\"><span class=\"pln\">author </span><span class=\"pun\">-&gt;</span><span class=\"pln\"> </span><span class=\"typ\">Dan</span><span class=\"pln\"> </span><span class=\"typ\">Brown</span></li><li class=\"L4\"><span class=\"pln\">title </span><span class=\"pun\">-&gt;</span><span class=\"pln\"> </span><span class=\"typ\">The</span><span class=\"pln\"> </span><span class=\"typ\">Da</span><span class=\"pln\"> </span><span class=\"typ\">Vinci</span><span class=\"pln\"> </span><span class=\"typ\">Code</span></li><li class=\"L5\"><span class=\"pln\">year_of_publishment </span><span class=\"pun\">-&gt;</span><span class=\"pln\"> </span><span class=\"lit\">2003</span></li><li class=\"L6\"><span class=\"pun\">------------------------------</span></li></ol></pre></div></div><p><br></p></div></div>"
   ]
  },
  {
   "cell_type": "code",
   "execution_count": 79,
   "id": "a305d8c4-fb51-48db-a126-2f71ab4e65c4",
   "metadata": {},
   "outputs": [],
   "source": [
    "class Book:\n",
    "    language = 'ENG'\n",
    "    is_ebook = True\n",
    "\n",
    "\n",
    "book_1 = Book()\n",
    "book_2 = Book()\n",
    "\n",
    "book_1.author = 'Dan Brown'\n",
    "book_1.title = 'Inferno'\n",
    "\n",
    "book_2.author = 'Dan Brown'\n",
    "book_2.title = 'The Da Vinci Code'\n",
    "book_2.year_of_publishment = 2003\n",
    "\n",
    "books = [book_1, book_2]"
   ]
  },
  {
   "cell_type": "code",
   "execution_count": 87,
   "id": "5557e596-fccd-4308-a270-e230f6fec0cd",
   "metadata": {},
   "outputs": [
    {
     "name": "stdout",
     "output_type": "stream",
     "text": [
      "author -> Dan Brown\n",
      "title -> Inferno\n",
      "------------------------------\n",
      "author -> Dan Brown\n",
      "title -> The Da Vinci Code\n",
      "year_of_publishment -> 2003\n",
      "------------------------------\n"
     ]
    }
   ],
   "source": [
    "for book in books:\n",
    "    for key, val in book.__dict__.items():\n",
    "        print(f'{key} -> {val}')\n",
    "    print('------------------------------')"
   ]
  },
  {
   "cell_type": "markdown",
   "id": "c548d054-9c06-433f-bfa4-56b75a4002bf",
   "metadata": {},
   "source": [
    "<div class=\"instructions--content--1JI0g\"><div class=\"udlite-heading-xl instructions--title--3vSDk\" data-purpose=\"exercise-title\">Exercise 4</div><div data-purpose=\"safely-set-inner-html:rich-text-viewer:html\" class=\"udlite-text-sm rt-scaffolding\"><p>The <em>Book </em>class is defined. A list <em>books_data</em> is also given. </p><p><br></p><div class=\"ud-component--base-components--code-block\"><div><pre class=\"prettyprint linenums prettyprinted\" role=\"presentation\" style=\"\"><ol class=\"linenums\"><li class=\"L0\"><span class=\"pln\">books_data </span><span class=\"pun\">=</span><span class=\"pln\"> </span><span class=\"pun\">[</span></li><li class=\"L1\"><span class=\"pln\">    </span><span class=\"pun\">{</span><span class=\"str\">'author'</span><span class=\"pun\">:</span><span class=\"pln\"> </span><span class=\"str\">'Dan Brown'</span><span class=\"pun\">,</span><span class=\"pln\"> </span><span class=\"str\">'title'</span><span class=\"pun\">:</span><span class=\"pln\"> </span><span class=\"str\">'Inferno'</span><span class=\"pun\">},</span></li><li class=\"L2\"><span class=\"pln\">    </span><span class=\"pun\">{</span><span class=\"str\">'author'</span><span class=\"pun\">:</span><span class=\"pln\"> </span><span class=\"str\">'Dan Brown'</span><span class=\"pun\">,</span><span class=\"pln\"> </span><span class=\"str\">'title'</span><span class=\"pun\">:</span><span class=\"pln\"> </span><span class=\"str\">'The Da Vinci Code'</span><span class=\"pun\">,</span><span class=\"pln\"> </span><span class=\"str\">'year_of_publishment'</span><span class=\"pun\">:</span><span class=\"pln\"> </span><span class=\"lit\">2003</span><span class=\"pun\">}</span></li><li class=\"L3\"><span class=\"pun\">]</span></li></ol></pre></div></div><p>Based on this data, create two instances of the <em>Book </em>class, where the instance attributes will be the keys from the given dictionaries (<em>books_data </em>list) with their corresponding values. </p><p>In response, print the <code>__dict__</code> attributes of the objects to the console as shown below.</p><p><br></p><p><strong>Expected result:</strong></p><p><br></p><div class=\"ud-component--base-components--code-block\"><div><pre class=\"prettyprint linenums prettyprinted\" role=\"presentation\" style=\"\"><ol class=\"linenums\"><li class=\"L0\"><span class=\"pun\">{</span><span class=\"str\">'author'</span><span class=\"pun\">:</span><span class=\"pln\">&nbsp;</span><span class=\"str\">'Dan&nbsp;Brown'</span><span class=\"pun\">,</span><span class=\"pln\">&nbsp;</span><span class=\"str\">'title'</span><span class=\"pun\">:</span><span class=\"pln\">&nbsp;</span><span class=\"str\">'Inferno'</span><span class=\"pun\">}</span></li><li class=\"L1\"><span class=\"pun\">{</span><span class=\"str\">'author'</span><span class=\"pun\">:</span><span class=\"pln\">&nbsp;</span><span class=\"str\">'Dan&nbsp;Brown'</span><span class=\"pun\">,</span><span class=\"pln\">&nbsp;</span><span class=\"str\">'title'</span><span class=\"pun\">:</span><span class=\"pln\">&nbsp;</span><span class=\"str\">'The&nbsp;Da&nbsp;Vinci&nbsp;Code'</span><span class=\"pun\">,</span><span class=\"pln\">&nbsp;</span><span class=\"str\">'year_of_publishment'</span><span class=\"pun\">:</span><span class=\"pln\">&nbsp;</span><span class=\"lit\">2003</span><span class=\"pun\">}</span></li></ol></pre></div></div><p><br></p></div></div>"
   ]
  },
  {
   "cell_type": "code",
   "execution_count": 88,
   "id": "87152eed-551d-4f4a-ab18-905a1ae4fc45",
   "metadata": {},
   "outputs": [],
   "source": [
    "class Book:\n",
    "    language = 'ENG'\n",
    "    is_ebook = True\n",
    "\n",
    "\n",
    "books_data = [\n",
    "    {'author': 'Dan Brown', 'title': 'Inferno'},\n",
    "    {'author': 'Dan Brown', 'title': 'The Da Vinci Code', 'year_of_publishment': 2003}\n",
    "]"
   ]
  },
  {
   "cell_type": "code",
   "execution_count": 90,
   "id": "84994ae4-4596-4384-88a0-524e24086600",
   "metadata": {},
   "outputs": [
    {
     "name": "stdout",
     "output_type": "stream",
     "text": [
      "{'author': 'Dan Brown', 'title': 'Inferno'}\n",
      "{'author': 'Dan Brown', 'title': 'The Da Vinci Code', 'year_of_publishment': 2003}\n"
     ]
    }
   ],
   "source": [
    "book_1 = Book()\n",
    "book_2 = Book()\n",
    "\n",
    "book_1.__dict__ = books_data[0]\n",
    "book_2.__dict__ = books_data[1]\n",
    "\n",
    "print(book_1.__dict__)\n",
    "print(book_2.__dict__)"
   ]
  },
  {
   "cell_type": "code",
   "execution_count": 91,
   "id": "54e26008-c45a-496f-ba60-530f7fd52b67",
   "metadata": {},
   "outputs": [
    {
     "name": "stdout",
     "output_type": "stream",
     "text": [
      "{'author': 'Dan Brown', 'title': 'Inferno'}\n",
      "{'author': 'Dan Brown', 'title': 'The Da Vinci Code', 'year_of_publishment': 2003}\n"
     ]
    }
   ],
   "source": [
    "books = []\n",
    "for book_data in books_data:\n",
    "    book = Book()\n",
    "    for attr, value in book_data.items():\n",
    "        setattr(book, attr, value)\n",
    "    books.append(book)\n",
    " \n",
    "for book in books:\n",
    "    print(book.__dict__)"
   ]
  },
  {
   "cell_type": "markdown",
   "id": "448c478c-f045-4d22-955d-8b41dcd97136",
   "metadata": {},
   "source": [
    "<div class=\"instructions--content--1JI0g\"><div class=\"udlite-heading-xl instructions--title--3vSDk\" data-purpose=\"exercise-title\">Exercise 5</div><div data-purpose=\"safely-set-inner-html:rich-text-viewer:html\" class=\"udlite-text-sm rt-scaffolding\"><p>The <em>Book </em>class is defined. Implement a method called <code>set_title()</code> that allows you to set an instance attribute called <em>title</em> (without validation). Then create an instance of the <em>Book </em>class named <em>book </em>and set the <em>title </em>attribute to <code>'Inferno'</code> using the <code>set_title()</code> method.</p><p>In response, print the value of the <em>title </em>attribute of the <em>book </em>instance.</p><p><br></p><p><strong>Expected result:</strong></p><p><br></p><div class=\"ud-component--base-components--code-block\"><div><pre class=\"prettyprint linenums prettyprinted\" role=\"presentation\" style=\"\"><ol class=\"linenums\"><li class=\"L0\"><span class=\"typ\">Inferno</span></li></ol></pre></div></div><p><br></p></div></div>"
   ]
  },
  {
   "cell_type": "code",
   "execution_count": 92,
   "id": "0cc3f203-b7d1-454a-a13f-b71613fb2204",
   "metadata": {},
   "outputs": [],
   "source": [
    "class Book:\n",
    "    language = 'ENG'\n",
    "    is_ebook = True"
   ]
  },
  {
   "cell_type": "code",
   "execution_count": 113,
   "id": "cf68cd1e-7f2a-411c-9f4a-f6b9eede8972",
   "metadata": {},
   "outputs": [],
   "source": [
    "class Book:\n",
    "    language = 'ENG'\n",
    "    is_ebook = True\n",
    "    \n",
    "    def set_title(self, value):\n",
    "        self.title = value       "
   ]
  },
  {
   "cell_type": "code",
   "execution_count": 116,
   "id": "befcd9ff-adaa-4763-8b03-dfd77d439a5a",
   "metadata": {},
   "outputs": [
    {
     "name": "stdout",
     "output_type": "stream",
     "text": [
      "Inferno\n"
     ]
    }
   ],
   "source": [
    "book = Book()\n",
    "book.set_title(\"Inferno\")\n",
    "print(book.title)"
   ]
  },
  {
   "cell_type": "markdown",
   "id": "e54b841f-3000-4a3b-82a6-b595e1af6590",
   "metadata": {},
   "source": [
    "<div class=\"instructions--content--1JI0g\"><div class=\"udlite-heading-xl instructions--title--3vSDk\" data-purpose=\"exercise-title\">Exercise 6</div><div data-purpose=\"safely-set-inner-html:rich-text-viewer:html\" class=\"udlite-text-sm rt-scaffolding\"><p>The <em>Book </em>class is defined. Implement a method named <code>set_title()</code> that sets an instance attribute named <em>title</em>. Before setting the value, check if it's an object of <code>str</code> type, if not raise a <code>TypeError</code> with the following message:</p><p><br></p><div class=\"ud-component--base-components--code-block\"><div><pre class=\"prettyprint linenums prettyprinted\" role=\"presentation\" style=\"\"><ol class=\"linenums\"><li class=\"L0\"><span class=\"str\">'The&nbsp;value&nbsp;of&nbsp;the&nbsp;title&nbsp;attribute&nbsp;must&nbsp;be&nbsp;of&nbsp;str&nbsp;type.'</span></li></ol></pre></div></div><p>Then create an instance of the <em>Book </em>class named <em>book </em>and set the <em>title </em>attribute to <code>'Inferno'</code> using the <code>set_title()</code> method.</p><p>In response, print the value of the <em>title </em>attribute of the <em>book </em>instance.</p><p><br></p><p><strong>Expected result:</strong></p><p><br></p><div class=\"ud-component--base-components--code-block\"><div><pre class=\"prettyprint linenums prettyprinted\" role=\"presentation\" style=\"\"><ol class=\"linenums\"><li class=\"L0\"><span class=\"typ\">Inferno</span></li></ol></pre></div></div><p><br></p></div></div>"
   ]
  },
  {
   "cell_type": "code",
   "execution_count": 117,
   "id": "7b8c68f7-dbdf-4f75-bd85-a2b9818705c9",
   "metadata": {},
   "outputs": [],
   "source": [
    "class Book:\n",
    "    language = 'ENG'\n",
    "    is_ebook = True"
   ]
  },
  {
   "cell_type": "code",
   "execution_count": 138,
   "id": "ceda63cb-2332-4266-b922-a376611742d8",
   "metadata": {},
   "outputs": [],
   "source": [
    "class Book:\n",
    "    language = 'ENG'\n",
    "    is_ebook = True\n",
    "    \n",
    "    def set_title(self, value):\n",
    "        if type(value) == str:\n",
    "            self.title = value\n",
    "        else:\n",
    "            raise TypeError('The value of the title attribute must be of str type.')\n",
    "\n",
    "book = Book()\n",
    "book.set_title(\"Inferno\")\n",
    "print(book.title)"
   ]
  },
  {
   "cell_type": "markdown",
   "id": "81a8096d-aa61-4eb6-b7de-a56cbbda63f4",
   "metadata": {},
   "source": [
    "<div class=\"instructions--content--1JI0g\"><div class=\"udlite-heading-xl instructions--title--3vSDk\" data-purpose=\"exercise-title\">Exercise 7</div><div data-purpose=\"safely-set-inner-html:rich-text-viewer:html\" class=\"udlite-text-sm rt-scaffolding\"><p>The <em>Book </em>class is defined. A method called <code>set_title()</code> was implemented that allows you to set an instance attribute called <em>title</em>. Create an instance of the <em>Book </em>class named <em>book</em>. Then, using the <code>try ... except ...</code> clause, try using the <code>set_title()</code> method to set the value of the <em>title </em>attribute to <code>False</code>. In case of a <code>TypeError</code>, print the error message to the console.</p><p><br></p><p><strong>Expected result:</strong></p><p><br></p><div class=\"ud-component--base-components--code-block\"><div><pre class=\"prettyprint linenums prettyprinted\" role=\"presentation\" style=\"\"><ol class=\"linenums\"><li class=\"L0\"><span class=\"typ\">The</span><span class=\"pln\"> value of the title attribute must be of str type</span><span class=\"pun\">.</span></li></ol></pre></div></div><p><br></p></div></div>"
   ]
  },
  {
   "cell_type": "code",
   "execution_count": 145,
   "id": "9bb6c4b5-0d38-4fdb-9475-07792a14a748",
   "metadata": {},
   "outputs": [],
   "source": [
    "class Book:\n",
    "    language = 'ENG'\n",
    "    is_ebook = True\n",
    "\n",
    "    def set_title(self, value):\n",
    "        if not isinstance(value, str):\n",
    "            raise TypeError('The value of the title attribute must be of str '\n",
    "                'type.')\n",
    "        self.title = value"
   ]
  },
  {
   "cell_type": "code",
   "execution_count": 146,
   "id": "8b7fccef-7787-4f97-be1c-beb149017dfa",
   "metadata": {},
   "outputs": [
    {
     "name": "stdout",
     "output_type": "stream",
     "text": [
      "The value of the title attribute must be of str type.\n"
     ]
    }
   ],
   "source": [
    "book = Book()\n",
    " \n",
    "try:\n",
    "    book.set_title(False)\n",
    "except TypeError as error:\n",
    "    print(error)"
   ]
  },
  {
   "cell_type": "markdown",
   "id": "e90ee6cb-140b-4d55-9aeb-6e4ac1f9bfe6",
   "metadata": {},
   "source": [
    "# The \\_\\_init\\_\\_ method()"
   ]
  },
  {
   "cell_type": "markdown",
   "id": "2b58d3b0-8c40-442c-adef-f71465683d55",
   "metadata": {},
   "source": [
    "<div class=\"instructions--content--1JI0g\"><div class=\"udlite-heading-xl instructions--title--3vSDk\" data-purpose=\"exercise-title\">Exercise 1</div><div data-purpose=\"safely-set-inner-html:rich-text-viewer:html\" class=\"udlite-text-sm rt-scaffolding\"><p>Implement a class called <em>Laptop </em>that sets the following instance attributes when creating an instance:</p><ul><li><p><em>brand</em></p></li><li><p><em>model</em></p></li><li><p><em>price</em></p></li></ul><p>Then create an instance named <em>laptop </em>with the following attribute values:</p><ul><li><p><code>brand = 'Acer'</code></p></li><li><p><code>model = 'Predator'</code></p></li><li><p><code>price = 5490</code></p></li></ul><p><br></p><p><strong>Tip: </strong>Use the special method <code>__init__()</code>.</p><p><br></p><p>In response, print the value of the <code>__dict__</code> attribute of the <em>laptop </em>instance.</p><p><br></p><p><strong>Expected result:</strong></p><p><br></p><div class=\"ud-component--base-components--code-block\"><div><pre class=\"prettyprint linenums prettyprinted\" role=\"presentation\" style=\"\"><ol class=\"linenums\"><li class=\"L0\"><span class=\"pun\">{</span><span class=\"str\">'brand'</span><span class=\"pun\">:</span><span class=\"pln\">&nbsp;</span><span class=\"str\">'Acer'</span><span class=\"pun\">,</span><span class=\"pln\">&nbsp;</span><span class=\"str\">'model'</span><span class=\"pun\">:</span><span class=\"pln\">&nbsp;</span><span class=\"str\">'Predator'</span><span class=\"pun\">,</span><span class=\"pln\">&nbsp;</span><span class=\"str\">'price'</span><span class=\"pun\">:</span><span class=\"pln\">&nbsp;</span><span class=\"lit\">5490</span><span class=\"pun\">}</span></li></ol></pre></div></div><p><br></p></div></div>"
   ]
  },
  {
   "cell_type": "code",
   "execution_count": 155,
   "id": "baf4bde8-4153-4b49-bc4c-5869e5aef0c6",
   "metadata": {},
   "outputs": [
    {
     "name": "stdout",
     "output_type": "stream",
     "text": [
      "{'brand': 'Acer', 'model': 'Predator', 'price': 5490}\n"
     ]
    }
   ],
   "source": [
    "class Laptop:\n",
    "    def __init__(self, brand, model, price):\n",
    "        self.brand = brand\n",
    "        self.model = model\n",
    "        self.price = price\n",
    "        \n",
    "laptop = Laptop('Acer', 'Predator', 5490)\n",
    "print(laptop.__dict__)"
   ]
  },
  {
   "cell_type": "markdown",
   "id": "da1fbd6b-bf32-4d2b-a896-22e57ce3cde7",
   "metadata": {},
   "source": [
    "<div class=\"instructions--content--1JI0g\"><div class=\"udlite-heading-xl instructions--title--3vSDk\" data-purpose=\"exercise-title\">Exercise 2</div><div data-purpose=\"safely-set-inner-html:rich-text-viewer:html\" class=\"udlite-text-sm rt-scaffolding\"><p>A class called <em>Laptop </em>was implemented.</p><p>Implement a method in the <em>Laptop </em>class called <code>display_instance_attrs()</code> that displays <strong>the names</strong> of all the attributes of the <em>Laptop </em>instance.</p><p>Then create an instance named <em>laptop </em>with the given attribute values:</p><ul><li><p><code>brand = 'Dell'</code></p></li><li><p><code>model = 'Inspiron'</code></p></li><li><p><code>price = 3699</code></p></li></ul><p>In response, call <code>display_instance_attrs()</code> method on the <em>laptop </em>instance.</p><p><br></p><p><strong>Expected result:</strong></p><p><br></p><div class=\"ud-component--base-components--code-block\"><div><pre class=\"prettyprint linenums prettyprinted\" role=\"presentation\" style=\"\"><ol class=\"linenums\"><li class=\"L0\"><span class=\"pln\">brand</span></li><li class=\"L1\"><span class=\"pln\">model</span></li><li class=\"L2\"><span class=\"pln\">price</span></li></ol></pre></div></div><p><br></p></div></div>"
   ]
  },
  {
   "cell_type": "code",
   "execution_count": 241,
   "id": "a67c39cd-bb0c-4260-9562-615e730cde39",
   "metadata": {},
   "outputs": [],
   "source": [
    "class Laptop:\n",
    "    \n",
    "    def __init__(self, brand, model, price):\n",
    "        self.brand = brand\n",
    "        self.model = model\n",
    "        self.price = price\n",
    "    \n",
    "    def display_instance_attrs(self):\n",
    "        for attr in self.__dict__.keys():\n",
    "            if not attr.startswith('_'):\n",
    "                print(attr)"
   ]
  },
  {
   "cell_type": "code",
   "execution_count": 242,
   "id": "d5fba371-12f6-405a-bf82-975c4c56cf28",
   "metadata": {},
   "outputs": [
    {
     "name": "stdout",
     "output_type": "stream",
     "text": [
      "brand\n",
      "model\n",
      "price\n"
     ]
    }
   ],
   "source": [
    "laptop = Laptop('Dell', 'Inspiron', 3699)\n",
    "laptop.display_instance_attrs()"
   ]
  },
  {
   "cell_type": "markdown",
   "id": "c844693c-2e19-4521-9192-66bc7739fc70",
   "metadata": {},
   "source": [
    "<div class=\"instructions--content--1JI0g\"><div class=\"udlite-heading-xl instructions--title--3vSDk\" data-purpose=\"exercise-title\">Exercise 3</div><div data-purpose=\"safely-set-inner-html:rich-text-viewer:html\" class=\"udlite-text-sm rt-scaffolding\"><p>A class called <em>Laptop </em>was implemented.</p><p>Implement a method in the <em>Laptop </em>class called <code>display_attrs_with_values()</code>, which displays the names of all the attributes of the <em>Laptop</em> class with their values as shown below (attribute name -&gt; attribute value).</p><p>Then create an instance named <em>laptop </em>with the following values:</p><ul><li><p><code>brand = 'Dell'</code></p></li><li><p><code>model = 'Inspiron'</code></p></li><li><p><code>price = 3699</code></p></li></ul><p>In response, call <code>display_attrs_with_values()</code> method on the <em>laptop </em>instance.</p><p><br></p><p><strong>Expected result:</strong></p><p><br></p><div class=\"ud-component--base-components--code-block\"><div><pre class=\"prettyprint linenums prettyprinted\" role=\"presentation\" style=\"\"><ol class=\"linenums\"><li class=\"L0\"><span class=\"pln\">brand </span><span class=\"pun\">-&gt;</span><span class=\"pln\"> </span><span class=\"typ\">Dell</span></li><li class=\"L1\"><span class=\"pln\">model </span><span class=\"pun\">-&gt;</span><span class=\"pln\"> </span><span class=\"typ\">Inspiron</span></li><li class=\"L2\"><span class=\"pln\">price </span><span class=\"pun\">-&gt;</span><span class=\"pln\"> </span><span class=\"lit\">3699</span></li></ol></pre></div></div><p><br></p></div></div>"
   ]
  },
  {
   "cell_type": "code",
   "execution_count": 172,
   "id": "1091186f-5352-4caa-a809-07604d29c0f3",
   "metadata": {},
   "outputs": [],
   "source": [
    "class Laptop:\n",
    "\n",
    "    def __init__(self, brand, model, price):\n",
    "        self.brand = brand\n",
    "        self.model = model\n",
    "        self.price = price\n",
    "    \n",
    "    def display_attrs_with_values(self):\n",
    "        for attr, val in self.__dict__.items():\n",
    "            if not attr.startswith('_'):\n",
    "                print(f'{attr} -> {val}')"
   ]
  },
  {
   "cell_type": "code",
   "execution_count": 174,
   "id": "ffa249c0-e8bc-45b8-bd46-688485c55600",
   "metadata": {},
   "outputs": [
    {
     "name": "stdout",
     "output_type": "stream",
     "text": [
      "brand -> Dell\n",
      "model -> Inspiron\n",
      "price -> 3699\n"
     ]
    }
   ],
   "source": [
    "laptop = Laptop('Dell', 'Inspiron', 3699)\n",
    "laptop.display_attrs_with_values()"
   ]
  },
  {
   "cell_type": "markdown",
   "id": "687e3d4e-cb78-4154-a122-1d31964fb509",
   "metadata": {},
   "source": [
    "<div class=\"instructions--content--1JI0g\"><div class=\"udlite-heading-xl instructions--title--3vSDk\" data-purpose=\"exercise-title\">Exercise 4</div><div data-purpose=\"safely-set-inner-html:rich-text-viewer:html\" class=\"udlite-text-sm rt-scaffolding\"><p>Implement a class named <em>Vector </em>that takes any number of n-dimensional vector coordinates as arguments when creating an instance (without any validation) and assign to instance attribute named <em>components</em>. Then create two instances with following coordinates:</p><ul><li><p><code>(1, 2)</code></p></li><li><p><code>(4, 5, 2)</code></p></li></ul><p>and assign to variables <em>v1 </em>and <em>v2 </em>respectively. </p><p>In response, print the value of the <em>components </em>attribute for <em>v1 </em>and v2 instance as shown below.</p><p><br></p><p><strong>Expected result:</strong></p><p><br></p><div class=\"ud-component--base-components--code-block\"><div><pre class=\"prettyprint linenums prettyprinted\" role=\"presentation\" style=\"\"><ol class=\"linenums\"><li class=\"L0\"><span class=\"pln\">v1&nbsp;</span><span class=\"pun\">-&gt;</span><span class=\"pln\">&nbsp;</span><span class=\"pun\">(</span><span class=\"lit\">1</span><span class=\"pun\">,</span><span class=\"pln\">&nbsp;</span><span class=\"lit\">2</span><span class=\"pun\">)</span></li><li class=\"L1\"><span class=\"pln\">v2&nbsp;</span><span class=\"pun\">-&gt;</span><span class=\"pln\">&nbsp;</span><span class=\"pun\">(</span><span class=\"lit\">4</span><span class=\"pun\">,</span><span class=\"pln\">&nbsp;</span><span class=\"lit\">5</span><span class=\"pun\">,</span><span class=\"pln\">&nbsp;</span><span class=\"lit\">2</span><span class=\"pun\">)</span></li></ol></pre></div></div><p><br></p></div></div>"
   ]
  },
  {
   "cell_type": "code",
   "execution_count": 176,
   "id": "74ba63c2-bea3-4bf2-99cc-ff30b3e99727",
   "metadata": {},
   "outputs": [],
   "source": [
    "class Vector:\n",
    "    def __init__(self, *components):\n",
    "        self.components = components\n",
    "        "
   ]
  },
  {
   "cell_type": "code",
   "execution_count": 182,
   "id": "a0a6f3aa-3ad4-4841-a3ef-e8a5097d1ef2",
   "metadata": {},
   "outputs": [],
   "source": [
    "v1 = Vector(1, 2)\n",
    "v2 = Vector(4, 5, 2)\n",
    "\n",
    "print(f'v1 -> {v1.components}')\n",
    "print(f'v2 -> {v2.components}')"
   ]
  },
  {
   "cell_type": "markdown",
   "id": "a49be4f5-b2e7-406a-9ed9-f9242a71b3fd",
   "metadata": {},
   "source": [
    "<div class=\"instructions--content--1JI0g\"><div class=\"udlite-heading-xl instructions--title--3vSDk\" data-purpose=\"exercise-title\">Exercise 5</div><div data-purpose=\"safely-set-inner-html:rich-text-viewer:html\" class=\"udlite-text-sm rt-scaffolding\"><p>Implement a class called <em>Bucket </em>that takes any number of named arguments (keyword arguments - use <code>**kwargs</code>) when creating an instance. The name of the argument is the name of the instance attribute, and the value for the argument is the value for the instance attribute.</p><p><br></p><p><strong>Example:</strong></p><p><br></p><div class=\"ud-component--base-components--code-block\"><div><pre class=\"prettyprint linenums prettyprinted\" role=\"presentation\" style=\"\"><ol class=\"linenums\"><li class=\"L0\"><span class=\"pun\">[</span><span class=\"pln\">IN</span><span class=\"pun\">]:</span><span class=\"pln\"> bucket&nbsp;</span><span class=\"pun\">=</span><span class=\"pln\">&nbsp;</span><span class=\"typ\">Bucket</span><span class=\"pun\">(</span><span class=\"pln\">apple</span><span class=\"pun\">=</span><span class=\"lit\">3.5</span><span class=\"pun\">)</span></li><li class=\"L1\"><span class=\"pun\">[</span><span class=\"pln\">IN</span><span class=\"pun\">]:</span><span class=\"pln\"> </span><span class=\"kwd\">print</span><span class=\"pun\">(</span><span class=\"pln\">bucket</span><span class=\"pun\">.</span><span class=\"pln\">__dict__</span><span class=\"pun\">)</span></li></ol></pre></div></div><div class=\"ud-component--base-components--code-block\"><div><pre class=\"prettyprint linenums prettyprinted\" role=\"presentation\" style=\"\"><ol class=\"linenums\"><li class=\"L0\"><span class=\"pun\">[</span><span class=\"pln\">OUT</span><span class=\"pun\">]:</span><span class=\"pln\"> </span><span class=\"pun\">{</span><span class=\"str\">'apple'</span><span class=\"pun\">:</span><span class=\"pln\">&nbsp;</span><span class=\"lit\">3.5</span><span class=\"pun\">}</span></li></ol></pre></div></div><p>Then create<em> </em>instance named <em>bucket </em>by adding the following attributes with their values:</p><ul><li><p><code>apple = 3.5</code></p></li><li><p><code>milk = 2.5</code></p></li><li><p><code>juice = 4.9</code></p></li><li><p><code>water = 2.5</code></p></li></ul><p>In response, print the value of <code>__dict__</code> attribute for the <em>bucket </em>instance.</p><p><br></p><p><strong>Expected result:</strong></p><p><br></p><div class=\"ud-component--base-components--code-block\"><div><pre class=\"prettyprint linenums prettyprinted\" role=\"presentation\" style=\"\"><ol class=\"linenums\"><li class=\"L0\"><span class=\"pun\">{</span><span class=\"str\">'apple'</span><span class=\"pun\">:</span><span class=\"pln\">&nbsp;</span><span class=\"lit\">3.5</span><span class=\"pun\">,</span><span class=\"pln\">&nbsp;</span><span class=\"str\">'milk'</span><span class=\"pun\">:</span><span class=\"pln\">&nbsp;</span><span class=\"lit\">2.5</span><span class=\"pun\">,</span><span class=\"pln\">&nbsp;</span><span class=\"str\">'juice'</span><span class=\"pun\">:</span><span class=\"pln\">&nbsp;</span><span class=\"lit\">4.9</span><span class=\"pun\">,</span><span class=\"pln\">&nbsp;</span><span class=\"str\">'water'</span><span class=\"pun\">:</span><span class=\"pln\">&nbsp;</span><span class=\"lit\">2.5</span><span class=\"pun\">}</span></li></ol></pre></div></div><p><br></p></div></div>"
   ]
  },
  {
   "cell_type": "code",
   "execution_count": 222,
   "id": "2d5bf7f3-25f7-4c81-8458-c5128d6b6d8b",
   "metadata": {},
   "outputs": [],
   "source": [
    "class Bucket():\n",
    "    def __init__(self, **kwargs):\n",
    "        for key, item in kwargs.items():\n",
    "            setattr(self, key, item)      "
   ]
  },
  {
   "cell_type": "code",
   "execution_count": 223,
   "id": "0fb498ac-232a-489a-9d27-1505cbd7b7ae",
   "metadata": {},
   "outputs": [
    {
     "name": "stdout",
     "output_type": "stream",
     "text": [
      "{'apple': 3.5, 'milk': 2.5, 'juice': 4.9, 'water': 2.5}\n"
     ]
    }
   ],
   "source": [
    "bucket = Bucket(apple=3.5, milk=2.5, juice=4.9, water=2.5)\n",
    "print(bucket.__dict__)"
   ]
  },
  {
   "cell_type": "markdown",
   "id": "967c6776-1338-4210-8ca0-cec5e7a721b9",
   "metadata": {},
   "source": [
    "<div class=\"instructions--content--1JI0g\"><div class=\"udlite-heading-xl instructions--title--3vSDk\" data-purpose=\"exercise-title\">Exercise 6</div><div data-purpose=\"safely-set-inner-html:rich-text-viewer:html\" class=\"udlite-text-sm rt-scaffolding\"><p>Implement a class called <em>Car </em>that sets the following instance attributes when creating an instance:</p><ul><li><p><em>brand</em></p></li><li><p><em>model</em></p></li><li><p><em>price</em></p></li><li><p><em>type_of_car</em>, by default <code>'sedan'</code></p></li></ul><p>Then create an instance<em> </em>named <em>car </em>with the given values:</p><ul><li><p><code>brand = 'Opel'</code></p></li><li><p><code>model = 'Insignia'</code></p></li><li><p><code>price = 115000</code></p></li></ul><p>In response, print the value of the <code>__dict__</code> attribute of the <em>car </em>instance.</p><p><br></p><p><strong>Expected result:</strong></p><p><br></p><div class=\"ud-component--base-components--code-block\"><div><pre class=\"prettyprint linenums prettyprinted\" role=\"presentation\" style=\"\"><ol class=\"linenums\"><li class=\"L0\"><span class=\"pun\">{</span><span class=\"str\">'brand'</span><span class=\"pun\">:</span><span class=\"pln\">&nbsp;</span><span class=\"str\">'Opel'</span><span class=\"pun\">,</span><span class=\"pln\">&nbsp;</span><span class=\"str\">'model'</span><span class=\"pun\">:</span><span class=\"pln\">&nbsp;</span><span class=\"str\">'Insignia'</span><span class=\"pun\">,</span><span class=\"pln\">&nbsp;</span><span class=\"str\">'price'</span><span class=\"pun\">:</span><span class=\"pln\">&nbsp;</span><span class=\"lit\">115000</span><span class=\"pun\">,</span><span class=\"pln\">&nbsp;</span><span class=\"str\">'type_of_car'</span><span class=\"pun\">:</span><span class=\"pln\">&nbsp;</span><span class=\"str\">'sedan'</span><span class=\"pun\">}</span></li></ol></pre></div></div><p><br></p></div></div>"
   ]
  },
  {
   "cell_type": "code",
   "execution_count": 228,
   "id": "99a7dd4d-4981-4754-aa38-ef7c37da0566",
   "metadata": {},
   "outputs": [],
   "source": [
    "class Car:\n",
    "    \n",
    "    def __init__(self, brand, model, price, type_of_car = 'sedan'):\n",
    "        self.brand = brand\n",
    "        self.model = model\n",
    "        self.price = price\n",
    "        self.type_of_car = type_of_car"
   ]
  },
  {
   "cell_type": "code",
   "execution_count": 229,
   "id": "f361ef1c-e914-43f5-badb-ecd63bd453bd",
   "metadata": {},
   "outputs": [
    {
     "name": "stdout",
     "output_type": "stream",
     "text": [
      "{'brand': 'Opel', 'model': 'Insignia', 'price': 115000, 'type_of_car': 'sedan'}\n"
     ]
    }
   ],
   "source": [
    "car = Car('Opel', 'Insignia', 115000)\n",
    "print(car.__dict__)"
   ]
  },
  {
   "cell_type": "markdown",
   "id": "bc4a47d7-7ec2-4afc-bb25-3acc66dfbb3b",
   "metadata": {},
   "source": [
    "<div class=\"instructions--content--1JI0g\"><div class=\"udlite-heading-xl instructions--title--3vSDk\" data-purpose=\"exercise-title\">Exercise 7</div><div data-purpose=\"safely-set-inner-html:rich-text-viewer:html\" class=\"udlite-text-sm rt-scaffolding\"><p>A class called <em>Car </em>was implemented that sets the following instance attributes when creating an instance:</p><ul><li><p><em>brand</em></p></li><li><p><em>model</em></p></li><li><p><em>price</em></p></li><li><p><em>type_of_car</em>, by default <code>'sedan'</code></p></li></ul><p>Then create an instance of this<em> </em>named <em>car </em>with the given values:</p><ul><li><p><code>brand = 'BMW'</code></p></li><li><p><code>model = 'X3'</code></p></li><li><p><code>price = 200000</code></p></li><li><p><code>type_of_car = 'SUV'</code></p></li></ul><p>In response, print the value of the <code>__dict__</code> attribute of the <em>car </em>instance.</p><p><br></p><p><strong>Expected result:</strong></p><p><br></p><div class=\"ud-component--base-components--code-block\"><div><pre class=\"prettyprint linenums prettyprinted\" role=\"presentation\" style=\"\"><ol class=\"linenums\"><li class=\"L0\"><span class=\"pun\">{</span><span class=\"str\">'brand'</span><span class=\"pun\">:</span><span class=\"pln\"> </span><span class=\"str\">'BMW'</span><span class=\"pun\">,</span><span class=\"pln\"> </span><span class=\"str\">'model'</span><span class=\"pun\">:</span><span class=\"pln\"> </span><span class=\"str\">'X3'</span><span class=\"pun\">,</span><span class=\"pln\"> </span><span class=\"str\">'price'</span><span class=\"pun\">:</span><span class=\"pln\"> </span><span class=\"lit\">200000</span><span class=\"pun\">,</span><span class=\"pln\"> </span><span class=\"str\">'type_of_car'</span><span class=\"pun\">:</span><span class=\"pln\"> </span><span class=\"str\">'SUV'</span><span class=\"pun\">}</span></li></ol></pre></div></div><p><br></p></div></div>"
   ]
  },
  {
   "cell_type": "code",
   "execution_count": 231,
   "id": "958c9874-b359-4b98-9022-9acf5ababc9d",
   "metadata": {},
   "outputs": [],
   "source": [
    "class Car:\n",
    "\n",
    "    def __init__(self, brand, model, price, type_of_car=None):\n",
    "        self.brand = brand\n",
    "        self.model = model\n",
    "        self.price = price\n",
    "        self.type_of_car = type_of_car if type_of_car else 'sedan'"
   ]
  },
  {
   "cell_type": "code",
   "execution_count": 232,
   "id": "c2a3be40-3ab4-4dbc-8acb-943aaf37a922",
   "metadata": {},
   "outputs": [
    {
     "name": "stdout",
     "output_type": "stream",
     "text": [
      "{'brand': 'BMW', 'model': 'X3', 'price': 200000, 'type_of_car': 'SUV'}\n"
     ]
    }
   ],
   "source": [
    "car = Car('BMW', 'X3', 200000, 'SUV')\n",
    "print(car.__dict__)"
   ]
  },
  {
   "cell_type": "markdown",
   "id": "522fc213-3eea-499d-a568-f2b96d9d12ef",
   "metadata": {},
   "source": [
    "<div class=\"instructions--content--1JI0g\"><div class=\"udlite-heading-xl instructions--title--3vSDk\" data-purpose=\"exercise-title\">Exercise 8</div><div data-purpose=\"safely-set-inner-html:rich-text-viewer:html\" class=\"udlite-text-sm rt-scaffolding\"><p>Implement a class called <em>Laptop </em>that sets the following instance attributes when creating an instance:</p><ul><li><p><em>brand</em></p></li><li><p><em>model</em></p></li><li><p><em>price</em></p></li></ul><p>When creating an instance, add validation for the <em>price </em>attribute. The value of the <em>price </em>attribute must be an <code>int</code> or <code>float</code> type greater than zero. If it is not, raise the <code>TypeError </code>with the following message:</p><p><br></p><div class=\"ud-component--base-components--code-block\"><div><pre class=\"prettyprint linenums prettyprinted\" role=\"presentation\" style=\"\"><ol class=\"linenums\"><li class=\"L0\"><span class=\"str\">'The&nbsp;price&nbsp;attribute&nbsp;must&nbsp;be&nbsp;a&nbsp;positive&nbsp;int&nbsp;or&nbsp;float.'</span></li></ol></pre></div></div><p>Then create an instance called <em>laptop </em>with the given attributes:</p><ul><li><p><code>brand = 'Acer'</code></p></li><li><p><code>model = 'Predator'</code></p></li><li><p><code>price = 5490</code></p></li></ul><p>In response, print the value of the <code>__dict__</code> attribute of the <em>laptop </em>instance.</p><p><br></p><p><strong>Expected result:</strong></p><p><br></p><div class=\"ud-component--base-components--code-block\"><div><pre class=\"prettyprint linenums prettyprinted\" role=\"presentation\" style=\"\"><ol class=\"linenums\"><li class=\"L0\"><span class=\"pun\">{</span><span class=\"str\">'brand'</span><span class=\"pun\">:</span><span class=\"pln\">&nbsp;</span><span class=\"str\">'Acer'</span><span class=\"pun\">,</span><span class=\"pln\">&nbsp;</span><span class=\"str\">'model'</span><span class=\"pun\">:</span><span class=\"pln\">&nbsp;</span><span class=\"str\">'Predator'</span><span class=\"pun\">,</span><span class=\"pln\">&nbsp;</span><span class=\"str\">'price'</span><span class=\"pun\">:</span><span class=\"pln\">&nbsp;</span><span class=\"lit\">5490</span><span class=\"pun\">}</span></li></ol></pre></div></div><p><br></p></div></div>"
   ]
  },
  {
   "cell_type": "code",
   "execution_count": 72,
   "id": "1debe634-03bd-44a2-b248-4b51528ac54a",
   "metadata": {},
   "outputs": [],
   "source": [
    "class Laptop:\n",
    "\n",
    "    def __init__(self, brand, model, price):\n",
    "        self.brand = brand\n",
    "        self.model = model\n",
    "        if isinstance(price, (int, float))  and price >= 0:\n",
    "            self.price = price\n",
    "        else:\n",
    "            raise TypeError('The price attribute must be a positive int or float.')"
   ]
  },
  {
   "cell_type": "code",
   "execution_count": 75,
   "id": "54da5c88-9469-4844-91e2-2e490ad2ae55",
   "metadata": {},
   "outputs": [
    {
     "name": "stdout",
     "output_type": "stream",
     "text": [
      "{'brand': 'Acer', 'model': 'Predator', 'price': 5490}\n"
     ]
    }
   ],
   "source": [
    "laptop = Laptop('Acer', 'Predator', 5490)\n",
    "print(laptop.__dict__)"
   ]
  },
  {
   "cell_type": "markdown",
   "id": "8a3cc11a-f646-46c9-9c79-2d5c2bdc79cc",
   "metadata": {},
   "source": [
    "<div class=\"instructions--content--1JI0g\"><div class=\"udlite-heading-xl instructions--title--3vSDk\" data-purpose=\"exercise-title\">Exercise 9</div><div data-purpose=\"safely-set-inner-html:rich-text-viewer:html\" class=\"udlite-text-sm rt-scaffolding\"><p>A class called <em>Laptop </em>was implemented.</p><p>Try to create an instance named <em>laptop </em>with the given attribute values:</p><ul><li><p><code>brand = 'Acer'</code></p></li><li><p><code>model = 'Predator'</code></p></li><li><p><code>price = '5900'</code></p></li></ul><p>Note that in this case the value of the <em>price </em>attribute is passed as a <code>str</code> type. In case of error, print the error message to the console (use the <code>try ... except ...</code> clause).</p><p><br></p><p><strong>Expected result:</strong></p><p><br></p><div class=\"ud-component--base-components--code-block\"><div><pre class=\"prettyprint linenums prettyprinted\" role=\"presentation\" style=\"\"><ol class=\"linenums\"><li class=\"L0\"><span class=\"typ\">The</span><span class=\"pln\"> price attribute must be a positive </span><span class=\"kwd\">int</span><span class=\"pln\"> </span><span class=\"kwd\">or</span><span class=\"pln\"> </span><span class=\"kwd\">float</span><span class=\"pun\">.</span></li></ol></pre></div></div><p><br></p></div></div>"
   ]
  },
  {
   "cell_type": "code",
   "execution_count": null,
   "id": "8755d9fe-0c89-48c2-8cc3-f0f423982b14",
   "metadata": {},
   "outputs": [],
   "source": [
    "class Laptop:\n",
    "\n",
    "    def __init__(self, brand, model, price):\n",
    "        self.brand = brand\n",
    "        self.model = model\n",
    "        if isinstance(price, (int, float)) and price > 0:\n",
    "            self.price = price\n",
    "        else:\n",
    "            raise TypeError('The price attribute must be a positive int or float.')"
   ]
  },
  {
   "cell_type": "code",
   "execution_count": 239,
   "id": "db6b5ec7-a578-4689-8a40-d72a3cc35670",
   "metadata": {},
   "outputs": [
    {
     "name": "stdout",
     "output_type": "stream",
     "text": [
      "The price attribute must be a positive int or float.\n"
     ]
    }
   ],
   "source": [
    "try:\n",
    "    laptop = Laptop('Acer', 'Predator', '5900')\n",
    "except TypeError as error:\n",
    "    print(error)"
   ]
  },
  {
   "cell_type": "markdown",
   "id": "ef431ccc-5f0c-490c-b697-48a970b4caad",
   "metadata": {},
   "source": [
    "# Visibility of variables"
   ]
  },
  {
   "cell_type": "markdown",
   "id": "33fa435d-d071-4318-aae1-6494b855414b",
   "metadata": {},
   "source": [
    "<div class=\"instructions--content--1JI0g\"><div class=\"udlite-heading-xl instructions--title--3vSDk\" data-purpose=\"exercise-title\">Exercise 1</div><div data-purpose=\"safely-set-inner-html:rich-text-viewer:html\" class=\"udlite-text-sm rt-scaffolding\"><p>Implement a class called <em>Laptop </em>that sets the following instance attributes when creating an instance:</p><ul><li><p><em>brand </em>as a bare instance attribute</p></li><li><p><em>model </em>as a protected attribute</p></li><li><p><em>price</em> as a private attribute</p></li></ul><p>Then create an instance named <em>laptop </em>with the following arguments:</p><ul><li><p><code>'Acer'</code></p></li><li><p><code>'Predator'</code></p></li><li><p><code>5490</code></p></li></ul><p>In response, print the value of the <code>__dict__</code> attribute of the <em>laptop </em>instance.</p><p><br></p><p><strong>Expected result:</strong></p><p><br></p><div class=\"ud-component--base-components--code-block\"><div><pre class=\"prettyprint linenums prettyprinted\" role=\"presentation\" style=\"\"><ol class=\"linenums\"><li class=\"L0\"><span class=\"pun\">{</span><span class=\"str\">'brand'</span><span class=\"pun\">:</span><span class=\"pln\">&nbsp;</span><span class=\"str\">'Acer'</span><span class=\"pun\">,</span><span class=\"pln\">&nbsp;</span><span class=\"str\">'_model'</span><span class=\"pun\">:</span><span class=\"pln\">&nbsp;</span><span class=\"str\">'Predator'</span><span class=\"pun\">,</span><span class=\"pln\">&nbsp;</span><span class=\"str\">'_Laptop__price'</span><span class=\"pun\">:</span><span class=\"pln\">&nbsp;</span><span class=\"lit\">5490</span><span class=\"pun\">}</span></li></ol></pre></div></div><p><br></p></div></div>"
   ]
  },
  {
   "cell_type": "code",
   "execution_count": 240,
   "id": "d9682379-c342-4488-a12e-904959e5ecf9",
   "metadata": {},
   "outputs": [
    {
     "name": "stdout",
     "output_type": "stream",
     "text": [
      "{'brand': 'Acer', '_model': 'Predator', '_Laptop__price': 5490}\n"
     ]
    }
   ],
   "source": [
    "class Laptop:\n",
    "    def __init__(self, brand, model, price):\n",
    "        self.brand = brand\n",
    "        self._model = model\n",
    "        self.__price = price\n",
    "        \n",
    "laptop = Laptop('Acer', 'Predator', 5490)\n",
    "print(laptop.__dict__)"
   ]
  },
  {
   "cell_type": "markdown",
   "id": "29f109b7-381a-4ec9-8786-29a300c5fdbb",
   "metadata": {},
   "source": [
    "<div class=\"instructions--content--1JI0g\"><div class=\"udlite-heading-xl instructions--title--3vSDk\" data-purpose=\"exercise-title\">Exercise 2</div><div data-purpose=\"safely-set-inner-html:rich-text-viewer:html\" class=\"udlite-text-sm rt-scaffolding\"><p>A class called <em>Laptop </em>was implemented. Then, an instance of the <em>Laptop </em>class named <em>laptop </em>was created with the following arguments:</p><ul><li><p><code>'Acer'</code></p></li><li><p><code>'Predator'</code></p></li><li><p><code>5490</code></p></li></ul><p>In response, print the value for each instance attribute (on a separate line) of the <em>laptop</em> instance as shown below.</p><p><br></p><p><strong>Expected result:</strong></p><p><br></p><div class=\"ud-component--base-components--code-block\"><div><pre class=\"prettyprint linenums prettyprinted\" role=\"presentation\" style=\"\"><ol class=\"linenums\"><li class=\"L0\"><span class=\"pln\">brand </span><span class=\"pun\">-&gt;</span><span class=\"pln\"> </span><span class=\"typ\">Acer</span></li><li class=\"L1\"><span class=\"pln\">model </span><span class=\"pun\">-&gt;</span><span class=\"pln\"> </span><span class=\"typ\">Predator</span></li><li class=\"L2\"><span class=\"pln\">price </span><span class=\"pun\">-&gt;</span><span class=\"pln\"> </span><span class=\"lit\">5490</span></li></ol></pre></div></div><p><br></p></div></div>"
   ]
  },
  {
   "cell_type": "code",
   "execution_count": 250,
   "id": "c661815a-4047-40cd-a75f-951db9ddd981",
   "metadata": {},
   "outputs": [],
   "source": [
    "class Laptop:\n",
    "\n",
    "    def __init__(self, brand, model, price):\n",
    "        self.brand = brand\n",
    "        self._model = model\n",
    "        self.__price = price"
   ]
  },
  {
   "cell_type": "code",
   "execution_count": 252,
   "id": "51b536e7-9199-4436-80b2-65a71f9d718e",
   "metadata": {},
   "outputs": [
    {
     "name": "stdout",
     "output_type": "stream",
     "text": [
      "brand -> Acer\n",
      "model -> Predator\n",
      "price -> 5490\n"
     ]
    }
   ],
   "source": [
    "laptop = Laptop('Acer', 'Predator', 5490)\n",
    "print(f'brand -> {laptop.brand}')\n",
    "print(f'model -> {laptop._model}')\n",
    "print(f'price -> {laptop._Laptop__price}')"
   ]
  },
  {
   "cell_type": "code",
   "execution_count": null,
   "id": "4d25578f-3421-4db0-9963-6c6b15ce4493",
   "metadata": {},
   "outputs": [],
   "source": [
    "# class Laptop:\n",
    "\n",
    "#     def __init__(self, brand, model, price):\n",
    "#         self.brand = brand\n",
    "#         self._model = model\n",
    "#         self.__price = price\n",
    "    \n",
    "#     def display_attrs_with_values(self):\n",
    "#         for attr, val in self.__dict__.items():\n",
    "#             print(f'{attr} -> {val}')\n",
    "\n",
    "\n",
    "# laptop = Laptop('Acer', 'Predator', 5490)\n",
    "# laptop.display_attrs_with_values()"
   ]
  },
  {
   "cell_type": "markdown",
   "id": "33be6255-4a86-435e-b90c-f65b7240e713",
   "metadata": {},
   "source": [
    "<div class=\"instructions--content--1JI0g\"><div class=\"udlite-heading-xl instructions--title--3vSDk\" data-purpose=\"exercise-title\">Exercise 3</div><div data-purpose=\"safely-set-inner-html:rich-text-viewer:html\" class=\"udlite-text-sm rt-scaffolding\"><p>An implementation of the <em>Laptop </em>class is given. Implement a method in the <em>Laptop </em>class called <code>display_private_attrs()</code> that displays the names of all private attributes of the instance. Then create an instance with the given arguments:</p><ul><li><p><code>'Acer'</code></p></li><li><p><code>'Predator'</code></p></li><li><p><code>'AC-100'</code></p></li><li><p><code>5490</code></p></li><li><p><code>0.2</code></p></li></ul><p>and assign it to the variable <em>laptop</em>. In response, call <code>display_private_attrs()</code> on the <em>laptop </em>instance.</p><p><br></p><p><strong>Expected result:</strong></p><p><br></p><div class=\"ud-component--base-components--code-block\"><div><pre class=\"prettyprint linenums prettyprinted\" role=\"presentation\" style=\"\"><ol class=\"linenums\"><li class=\"L0\"><span class=\"typ\">_Laptop__price</span></li><li class=\"L1\"><span class=\"typ\">_Laptop__margin</span></li></ol></pre></div></div><p><br></p></div></div>"
   ]
  },
  {
   "cell_type": "code",
   "execution_count": 274,
   "id": "1fd91206-1176-460e-8716-3474e5a4f0ef",
   "metadata": {},
   "outputs": [
    {
     "name": "stdout",
     "output_type": "stream",
     "text": [
      "_Laptop__price\n",
      "_Laptop__margin\n"
     ]
    }
   ],
   "source": [
    "# class Laptop:\n",
    "\n",
    "#     def __init__(self, brand, model, code, price, margin):\n",
    "#         self.brand = brand\n",
    "#         self._model = model\n",
    "#         self._code = code\n",
    "#         self.__price = price\n",
    "#         self.__margin = margin\n",
    "        \n",
    "#     def display_private_attrs(self):\n",
    "#         for attr in self.__dict__.keys():\n",
    "#             if attr.startswith('_Laptop__'):\n",
    "#                 print(attr)\n",
    "                \n",
    "# laptop = Laptop('Acer', 'Predator', 'AX-100', 5490, 0.2)\n",
    "# laptop.display_private_attrs()"
   ]
  },
  {
   "cell_type": "code",
   "execution_count": 284,
   "id": "00d748d9-3341-44e2-a0f6-6c196a05e7bc",
   "metadata": {},
   "outputs": [
    {
     "name": "stdout",
     "output_type": "stream",
     "text": [
      "_Laptop__price\n",
      "_Laptop__margin\n"
     ]
    }
   ],
   "source": [
    "class Laptop:\n",
    " \n",
    "    def __init__(self, brand, model, code, price, margin):\n",
    "        self.brand = brand\n",
    "        self._model = model\n",
    "        self._code = code\n",
    "        self.__price = price\n",
    "        self.__margin = margin\n",
    " \n",
    "    def display_private_attrs(self):\n",
    "        for attr in self.__dict__:\n",
    "            if attr.startswith(f'_{self.__class__.__name__}__'):\n",
    "                print(attr)    \n",
    " \n",
    " \n",
    "laptop = Laptop('Acer', 'Predator', 'AC-100', 5490, 0.2)\n",
    "laptop.display_private_attrs()"
   ]
  },
  {
   "cell_type": "markdown",
   "id": "ac3ec1ff-2f9d-4bcc-b75c-fce709c707db",
   "metadata": {},
   "source": [
    "<div class=\"instructions--content--1JI0g\"><div class=\"udlite-heading-xl instructions--title--3vSDk\" data-purpose=\"exercise-title\">Exercise 4</div><div data-purpose=\"safely-set-inner-html:rich-text-viewer:html\" class=\"udlite-text-sm rt-scaffolding\"><p>An implementation of the <em>Laptop </em>class is given. Implement a method called <code>display_protected_attrs()</code> in the <em>Laptop </em>class that displays the names of the protected attribute of the instance. Then create an instance with the given arguments:</p><ul><li><p><code>'Acer'</code></p></li><li><p><code>'Predator'</code></p></li><li><p><code>'AC-100'</code></p></li><li><p><code>5490</code></p></li><li><p><code>0.2</code></p></li></ul><p>and assign it to the variable <em>laptop</em>. In response, call <code>display_protected_attrs()</code> on the <em>laptop </em>instance.</p><p><br></p><p><strong>Expected result:</strong></p><p><br></p><div class=\"ud-component--base-components--code-block\"><div><pre class=\"prettyprint linenums prettyprinted\" role=\"presentation\" style=\"\"><ol class=\"linenums\"><li class=\"L0\"><span class=\"pln\">_model</span></li><li class=\"L1\"><span class=\"pln\">_code</span></li></ol></pre></div></div><p><br></p></div></div>"
   ]
  },
  {
   "cell_type": "code",
   "execution_count": 290,
   "id": "d0ad31dd-87d1-47be-85f0-df039ffca0fb",
   "metadata": {},
   "outputs": [
    {
     "name": "stdout",
     "output_type": "stream",
     "text": [
      "_model\n",
      "_code\n"
     ]
    }
   ],
   "source": [
    "class Laptop:\n",
    " \n",
    "    def __init__(self, brand, model, code, price, margin):\n",
    "        self.brand = brand\n",
    "        self._model = model\n",
    "        self._code = code\n",
    "        self.__price = price\n",
    "        self.__margin = margin\n",
    " \n",
    "    def display_private_attrs(self):\n",
    "        for attr in self.__dict__:\n",
    "            if (not attr.startswith(f'_{self.__class__.__name__}__')) and (attr.startswith('_')):\n",
    "                print(attr)    \n",
    " \n",
    " \n",
    "laptop = Laptop('Acer', 'Predator', 'AC-100', 5490, 0.2)\n",
    "laptop.display_private_attrs()"
   ]
  },
  {
   "cell_type": "markdown",
   "id": "cb3b17ec-64e0-4fcf-916b-db640b442170",
   "metadata": {},
   "source": [
    "# Encapsulation"
   ]
  },
  {
   "cell_type": "markdown",
   "id": "7eca7a87-7bdd-4339-8541-08437c3b789d",
   "metadata": {},
   "source": [
    "<div class=\"instructions--content--1JI0g\"><div class=\"udlite-heading-xl instructions--title--3vSDk\" data-purpose=\"exercise-title\">Exercise 1</div><div data-purpose=\"safely-set-inner-html:rich-text-viewer:html\" class=\"udlite-text-sm rt-scaffolding\"><p>Implement a class called <em>Laptop </em>which in the <code>__init __()</code> method sets the value of the <em>price </em>protected attribute that stores the price of the laptop (without any validation). Then implement a method to read that attribute named <code>get_price()</code> and a method to modify that attribute named <code>set_price()</code> without validation as well.</p><p>Then create an instance of the <em>Laptop </em>class with a price of 3499 and follow these steps:</p><ul><li><p>using the <code>get_price()</code> method print the value of the <em>price </em>protected attribute to the console</p></li><li><p>using the <code>set_price()</code> method, set the value of the <em>price </em>protected attribute to 3999</p></li><li><p>using the <code>get_price()</code> method print the value of the <em>price </em>protected attribute to the console</p></li></ul><p><br></p><p><strong>Expected result:</strong></p><p><br></p><div class=\"ud-component--base-components--code-block\"><div><pre class=\"prettyprint linenums prettyprinted\" role=\"presentation\" style=\"\"><ol class=\"linenums\"><li class=\"L0\"><span class=\"lit\">3499</span></li><li class=\"L1\"><span class=\"lit\">3999</span></li></ol></pre></div></div><p><br></p></div></div>"
   ]
  },
  {
   "cell_type": "code",
   "execution_count": 20,
   "id": "9e23c59e-8dd8-4112-9db7-127f4df23f7c",
   "metadata": {},
   "outputs": [
    {
     "name": "stdout",
     "output_type": "stream",
     "text": [
      "3499\n",
      "3999\n"
     ]
    }
   ],
   "source": [
    "class Laptop:\n",
    "    def __init__(self, price):\n",
    "        self._price = price\n",
    "\n",
    "    def get_price(self):\n",
    "        return self._price\n",
    "    \n",
    "    def set_price(self, value):\n",
    "        self._price = value\n",
    "    \n",
    "laptop = Laptop(3499)\n",
    "print(laptop.get_price())\n",
    "laptop.set_price(3999)\n",
    "print(laptop.get_price())"
   ]
  },
  {
   "cell_type": "markdown",
   "id": "ff720cf2-9d28-4b82-8649-ada7d9fdd69c",
   "metadata": {},
   "source": [
    "<div class=\"instructions--content--1JI0g\"><div class=\"udlite-heading-xl instructions--title--3vSDk\" data-purpose=\"exercise-title\">Exercise 2</div><div data-purpose=\"safely-set-inner-html:rich-text-viewer:html\" class=\"udlite-text-sm rt-scaffolding\"><p>A class called <em>Laptop </em>was implemented. Implement a method named <code>set_price()</code> to modify <em>price</em> attribute that validates the value. Validation checks:</p><ul><li><p>whether the value is an <code>int</code> or <code>float</code> type, if it is not raise a <code>TypeError</code> with the following message:<br><br></p></li></ul><div class=\"ud-component--base-components--code-block\"><div><pre class=\"prettyprint linenums prettyprinted\" role=\"presentation\" style=\"\"><ol class=\"linenums\"><li class=\"L0\"><span class=\"str\">'The price attribute must be an int or float type.'</span></li></ol></pre></div></div><ul><li><p>whether the value is positive, if it is not raise <code>ValueError</code> with the following message:<br><br></p></li></ul><div class=\"ud-component--base-components--code-block\"><div><pre class=\"prettyprint linenums prettyprinted\" role=\"presentation\" style=\"\"><ol class=\"linenums\"><li class=\"L0\"><span class=\"str\">'The price attribute must be a positive int or float value.'</span></li></ol></pre></div></div><p>Then create an instance of the <em>Laptop </em>class with a price of 3499 and try to set <code>'-3000'</code> to the price using <code>set_price()</code> method. If an error is raised, print the error message to the console. Use a <code>try ... except ...</code> clause in your solution.</p><p><br></p><p><strong>Expected result:</strong></p><p><br></p><div class=\"ud-component--base-components--code-block\"><div><pre class=\"prettyprint linenums prettyprinted\" role=\"presentation\" style=\"\"><ol class=\"linenums\"><li class=\"L0\"><span class=\"typ\">The</span><span class=\"pln\"> price attribute must be an </span><span class=\"kwd\">int</span><span class=\"pln\"> </span><span class=\"kwd\">or</span><span class=\"pln\"> </span><span class=\"kwd\">float</span><span class=\"pln\"> type</span><span class=\"pun\">.</span></li></ol></pre></div></div><p><br></p></div></div>"
   ]
  },
  {
   "cell_type": "code",
   "execution_count": 49,
   "id": "367d8b40-2e3a-478a-aed7-b15f07a549e0",
   "metadata": {},
   "outputs": [],
   "source": [
    "class Laptop:\n",
    "\n",
    "    def __init__(self, price):\n",
    "        self._price = price\n",
    "\n",
    "    def get_price(self):\n",
    "        return self._price\n",
    "    def set_price(self, value):\n",
    "        if not isinstance(value, (int, float)):\n",
    "            raise TypeError('The price attribute must be an int or float type.')\n",
    "        \n",
    "        if not value > 0:\n",
    "            raise ValueError('The price attribute must be a positive int or float value.')\n",
    "            \n",
    "        self._price = value\n",
    "               "
   ]
  },
  {
   "cell_type": "code",
   "execution_count": 48,
   "id": "9d91f0e3-8271-4165-bef5-deff851970ae",
   "metadata": {},
   "outputs": [
    {
     "name": "stdout",
     "output_type": "stream",
     "text": [
      "The price attribute must be a positive int or float value.\n"
     ]
    }
   ],
   "source": [
    "laptop = Laptop(3499)\n",
    "try:\n",
    "    laptop.set_price(\"-3400\")\n",
    "except TypeError as error:\n",
    "    print(error)\n",
    "except ValueError as error:\n",
    "    print(error)"
   ]
  },
  {
   "cell_type": "markdown",
   "id": "86c6a3da-9952-4815-9531-a7c0ca65b9bf",
   "metadata": {},
   "source": [
    "<div class=\"instructions--content--1JI0g\"><div class=\"udlite-heading-xl instructions--title--3vSDk\" data-purpose=\"exercise-title\">Exercise 4</div><div data-purpose=\"safely-set-inner-html:rich-text-viewer:html\" class=\"udlite-text-sm rt-scaffolding\"><p>A class called <em>Laptop </em>was implemented. </p><p>Add validation of the <em>price </em>attribute also at the stage of creating the instance (in <code>__init__()</code> method).</p><p>Then try to create an instance of the <em>Laptop </em>class with a price of -3499. If an error is raised, print the error message to the console. Use a <code>try ... except ...</code> clause in your solution.</p><p><br></p><p><strong>Expected result:</strong></p><p><br></p><div class=\"ud-component--base-components--code-block\"><div><pre class=\"prettyprint linenums prettyprinted\" role=\"presentation\" style=\"\"><ol class=\"linenums\"><li class=\"L0\"><span class=\"typ\">The</span><span class=\"pln\"> price attribute must be a positive </span><span class=\"kwd\">int</span><span class=\"pln\"> </span><span class=\"kwd\">or</span><span class=\"pln\"> </span><span class=\"kwd\">float</span><span class=\"pln\"> value</span><span class=\"pun\">.</span></li></ol></pre></div></div><p><br></p></div></div>"
   ]
  },
  {
   "cell_type": "code",
   "execution_count": 61,
   "id": "47aff4cf-a0d7-487a-842d-6857bb4cb869",
   "metadata": {},
   "outputs": [],
   "source": [
    "class Laptop:\n",
    "\n",
    "    def __init__(self, price):\n",
    "        self.set_price(price)\n",
    "\n",
    "    def get_price(self):\n",
    "        return self._price\n",
    "    def set_price(self, value):\n",
    "        if not isinstance(value, (int, float)):\n",
    "            raise TypeError('The price attribute must be an int or float type.')\n",
    "        \n",
    "        if not value > 0:\n",
    "            raise ValueError('The price attribute must be a positive int or float value.')\n",
    "            \n",
    "        self._price = value"
   ]
  },
  {
   "cell_type": "code",
   "execution_count": 62,
   "id": "1ee6d74f-6970-4c36-bfdf-be0c26021b2a",
   "metadata": {},
   "outputs": [
    {
     "name": "stdout",
     "output_type": "stream",
     "text": [
      "The price attribute must be a positive int or float value.\n"
     ]
    }
   ],
   "source": [
    "try:\n",
    "    laptop = Laptop(-3499)\n",
    "except TypeError as error:\n",
    "    print(error)\n",
    "except ValueError as error:\n",
    "    print(error)"
   ]
  },
  {
   "cell_type": "markdown",
   "id": "e8a26890-5d43-44a5-96cc-310c7b64d960",
   "metadata": {},
   "source": [
    "## Jak zrobić pole tylko do odczytu - funkcja <code>property<code\\>"
   ]
  },
  {
   "cell_type": "markdown",
   "id": "564dfda6-b401-4990-8df7-dfc6ed13c7c8",
   "metadata": {},
   "source": [
    "<div class=\"instructions--content--1JI0g\"><div class=\"udlite-heading-xl instructions--title--3vSDk\" data-purpose=\"exercise-title\">Exercise 5</div><div data-purpose=\"safely-set-inner-html:rich-text-viewer:html\" class=\"udlite-text-sm rt-scaffolding\"><p>Implement a class named <em>Person </em>that has one protected instance attribute named <em>first_name</em>. Next, implement a method <code>get_first_name()</code> which reads the value of the <em>first_name </em>protected attribute. Then, using the <code>get_first_name()</code> method and the <em>property </em>class (do it in the standard way) create a property named <em>first_name </em>(read-only property).</p><p>Create an instance of the <em>Person </em>class and set the <em>first_name </em>attribute to <code>'John'</code>. Print the value of the <em>first_name </em>attribute of this instance to the console.</p><p><br></p><p><strong>Expected result:</strong></p><p><br></p><div class=\"ud-component--base-components--code-block\"><div><pre class=\"prettyprint linenums prettyprinted\" role=\"presentation\" style=\"\"><ol class=\"linenums\"><li class=\"L0\"><span class=\"typ\">John</span></li></ol></pre></div></div><p><br></p></div></div>"
   ]
  },
  {
   "cell_type": "code",
   "execution_count": 115,
   "id": "91fb1a1b-f7f1-4f9e-9a9d-bf314dd26f70",
   "metadata": {},
   "outputs": [
    {
     "name": "stdout",
     "output_type": "stream",
     "text": [
      "John\n"
     ]
    }
   ],
   "source": [
    "class Person:\n",
    "    def __init__(self, first_name):\n",
    "        self._first_name = first_name\n",
    "        \n",
    "    def get_first_name(self):\n",
    "        return self._first_name\n",
    "    \n",
    "    first_name = property(get_first_name, )\n",
    "    # first_name = property(fget=get_first_name)\n",
    "\n",
    "person = Person(\"John\")\n",
    "\n",
    "print(person.first_name)"
   ]
  },
  {
   "cell_type": "markdown",
   "id": "f9f07d86-68ad-48c0-89ba-9ab24c444029",
   "metadata": {},
   "source": [
    "<div class=\"instructions--content--1JI0g\"><div class=\"udlite-heading-xl instructions--title--3vSDk\" data-purpose=\"exercise-title\">Exercise 6</div><div data-purpose=\"safely-set-inner-html:rich-text-viewer:html\" class=\"udlite-text-sm rt-scaffolding\"><p>Implement a class named <em>Person </em>that has two instance protected attributes named <em>first_name </em>and <em>last_name</em>, respectively. Then implement methods named <code>get_first_name()</code> and <code>get_last_name()</code>, which reads the protected attributes: <em>first_name </em>and <em>last_name</em>. </p><p>Then, using the <code>get_first_name()</code> and <code>get_last_name()</code> methods and the <em>property </em>class (do it in the standard way) create two properties named <em>first_name </em>and <em>last_name </em>(read-only properties).</p><p>Create an instance of the <em>Person </em>class and set the following attributes:</p><ul><li><p><em>first_name</em> to the value <code>'John'</code></p></li><li><p><em>last_name </em>to the value <code>'Dow'</code></p></li></ul><p>Print the value of the <em>first_name </em>and <em>last_name </em>attribute of this instance to the console.</p><p><br></p><p><strong>Expected result:</strong></p><p><br></p><div class=\"ud-component--base-components--code-block\"><div><pre class=\"prettyprint linenums prettyprinted\" role=\"presentation\" style=\"\"><ol class=\"linenums\"><li class=\"L0\"><span class=\"typ\">John</span></li><li class=\"L1\"><span class=\"typ\">Dow</span></li></ol></pre></div></div><p><br></p></div></div>"
   ]
  },
  {
   "cell_type": "code",
   "execution_count": 127,
   "id": "f1ed1adc-b614-4c28-a385-4977e4619c2d",
   "metadata": {},
   "outputs": [],
   "source": [
    "class Person:\n",
    "    def __init__(self, first_name, last_name):\n",
    "        self._first_name = first_name\n",
    "        self._last_name = last_name\n",
    "        \n",
    "    def get_first_name(self):\n",
    "        return self._first_name\n",
    "    \n",
    "    def get_last_name(self):\n",
    "        return self._last_name\n",
    "    \n",
    "    first_name = property(fget=get_first_name)\n",
    "    last_name = property(fget=get_last_name)"
   ]
  },
  {
   "cell_type": "code",
   "execution_count": 130,
   "id": "f9216aba-7a52-4b06-8e8b-6d4b09e99a13",
   "metadata": {},
   "outputs": [
    {
     "name": "stdout",
     "output_type": "stream",
     "text": [
      "John\n",
      "Dow\n"
     ]
    }
   ],
   "source": [
    "person = Person('John', 'Dow')\n",
    "print(person.first_name)\n",
    "print(person.last_name)"
   ]
  },
  {
   "cell_type": "markdown",
   "id": "907ae923-c4f8-454c-965c-2d2bb37375b3",
   "metadata": {},
   "source": [
    "<div class=\"instructions--content--1JI0g\"><div class=\"udlite-heading-xl instructions--title--3vSDk\" data-purpose=\"exercise-title\">Exercise 7</div><div data-purpose=\"safely-set-inner-html:rich-text-viewer:html\" class=\"udlite-text-sm rt-scaffolding\"><p>Implement a class named <em>Person </em>that has one protected attribute <em>first_name</em>. Next, implement a method <code>get_first_name()</code> which reads the value of the <em>first_name </em>protected attribute. Declare a method&nbsp; <code>set_first_name()</code> that allows you to modify the value of the <em>first_name </em>protected attribute (without validation).</p><p>Then, using the <code>get_first_name()</code>, <code>set_first_name()</code> methods and the <em>property </em>class (do it in the standard way) create a property called <em>first_name </em>(property to read and modify).</p><p>Create an instance of the <em>Person </em>class and set the <em>first_name </em>attribute to <code>'John'</code>. Then, using the <code>set_first_name()</code> method, set new value <code>'Mike'</code>. </p><p>In response, print the value of the <em>first_name</em> attribute to the console.</p><p><br></p><p><strong>Expected result:</strong></p><p><br></p><div class=\"ud-component--base-components--code-block\"><div><pre class=\"prettyprint linenums prettyprinted\" role=\"presentation\" style=\"\"><ol class=\"linenums\"><li class=\"L0\"><span class=\"typ\">Mike</span></li></ol></pre></div></div><p><br></p></div></div>"
   ]
  },
  {
   "cell_type": "code",
   "execution_count": 140,
   "id": "c828dbd4-8b66-4e13-a1fb-a260e190fc61",
   "metadata": {},
   "outputs": [
    {
     "name": "stdout",
     "output_type": "stream",
     "text": [
      "Mike\n"
     ]
    }
   ],
   "source": [
    "class Person:\n",
    "    def __init__(self, first_name):\n",
    "        self._first_name = first_name\n",
    "        \n",
    "    def get_first_name(self):\n",
    "        return self._first_name\n",
    "    \n",
    "    def set_first_name(self, name):\n",
    "        self._first_name = name\n",
    "    \n",
    "    first_name = property(fget=get_first_name, fset=set_first_name)\n",
    "\n",
    "person = Person('John')\n",
    "person.set_first_name('Mike')\n",
    "print(person.first_name)"
   ]
  },
  {
   "cell_type": "markdown",
   "id": "0802b009-0a3f-4365-81e5-8e67c28ce6de",
   "metadata": {},
   "source": [
    "<div class=\"instructions--content--1JI0g\"><div class=\"udlite-heading-xl instructions--title--3vSDk\" data-purpose=\"exercise-title\">Exercise 8</div><div data-purpose=\"safely-set-inner-html:rich-text-viewer:html\" class=\"udlite-text-sm rt-scaffolding\"><p>Implement a class named <em>Person </em>that has two protected attributes: <em>first_name </em>and <em>last_name</em>, respectively. Next implement methods named <code>get_first_name()</code>, <code>set_first_name()</code>, <code>get_last_name()</code>, <code>set_last_name()</code>, which allows you to read and modify the value of the <em>first_name </em>and <em>last_name </em>protected attributes.</p><p><br></p><p>Then, using the methods <code>get_first_name()</code>, <code>set_first_name()</code>, <code>get_last_name()</code>, <code>set_last_name()</code> and the <em>property </em>class (do it in the standard way) create properties: <em>first_name </em>and <em>last_name </em>(properties to read and modify).</p><p>Create an instance of the <em>Person </em>class with the following values:</p><ul><li><p><code>first_name = 'John'</code></p></li><li><p><code>last_name = 'Dow'</code></p></li></ul><p>Then print the values of these attributes to the console as shown below. </p><p>Using the dot notation, modify the attribute values for this instance, respectively:</p><ul><li><p><em>first_name</em> to the value <code>'Tom'</code></p></li><li><p><em>last_name </em>to the value <code>'Smith'</code></p></li></ul><p>In response, print the <code>__dict__</code> attribute of the created instance to the console.</p><p><br></p><p><strong>Expected result:</strong></p><p><br></p><div class=\"ud-component--base-components--code-block\"><div><pre class=\"prettyprint linenums prettyprinted\" role=\"presentation\" style=\"\"><ol class=\"linenums\"><li class=\"L0\"><span class=\"typ\">John</span></li><li class=\"L1\"><span class=\"typ\">Dow</span></li><li class=\"L2\"><span class=\"pun\">{</span><span class=\"str\">'_first_name'</span><span class=\"pun\">:</span><span class=\"pln\">&nbsp;</span><span class=\"str\">'Tom'</span><span class=\"pun\">,</span><span class=\"pln\">&nbsp;</span><span class=\"str\">'_last_name'</span><span class=\"pun\">:</span><span class=\"pln\">&nbsp;</span><span class=\"str\">'Smith'</span><span class=\"pun\">}</span></li></ol></pre></div></div><p><br></p></div></div>"
   ]
  },
  {
   "cell_type": "code",
   "execution_count": 152,
   "id": "58226f83-905b-47e7-ab99-fc1227cd1b7f",
   "metadata": {},
   "outputs": [
    {
     "name": "stdout",
     "output_type": "stream",
     "text": [
      "John\n",
      "Dow\n",
      "{'_first_name': 'Tom', '_last_name': 'Smith'}\n"
     ]
    }
   ],
   "source": [
    "class Person:\n",
    "    def __init__(self, first_name, last_name):\n",
    "        self._first_name = first_name\n",
    "        self._last_name = last_name\n",
    "        \n",
    "    def get_first_name(self):\n",
    "        return self._first_name\n",
    "    \n",
    "    def set_first_name(self, name):\n",
    "        self._first_name = name\n",
    "    \n",
    "    def get_last_name(self):\n",
    "        return self._last_name\n",
    "    \n",
    "    def set_last_name(self, name):\n",
    "        self._last_name = name\n",
    "    \n",
    "    first_name = property(fget=get_first_name, fset=set_first_name)\n",
    "    last_name = property(fget=get_last_name, fset=set_last_name)\n",
    "\n",
    "person = Person('John', 'Dow')\n",
    "print(person.first_name)\n",
    "print(person.last_name)\n",
    "person.set_first_name('Tom')\n",
    "person.set_last_name('Smith')\n",
    "print(person.__dict__)"
   ]
  },
  {
   "cell_type": "markdown",
   "id": "5a5cbde9-b216-47b3-be39-df1e381ef4c8",
   "metadata": {},
   "source": [
    "<div class=\"instructions--content--1JI0g\"><div class=\"udlite-heading-xl instructions--title--3vSDk\" data-purpose=\"exercise-title\">Exercise 9</div><div data-purpose=\"safely-set-inner-html:rich-text-viewer:html\" class=\"udlite-text-sm rt-scaffolding\"><p>A class named <em>Person </em>was implemented.</p><p>Implement the <code>del_first_name()</code> method to remove the <em>first_name </em>protected attribute.</p><p>Then, using the methods <code>get_first_name()</code>, <code>set_first_name()</code>, <code>del_first_name()</code> and the <em>property </em>class (do this in the standard way) create property named <em>first_name </em>(properties to read, modify and delete).</p><p>Create an instance of the <em>Person </em>class named <em>person </em>and assign the value <code>'Tom'</code> to <em>first_name</em>. Use the <code>del_first_name()</code> method to delete the <em>first_name </em>attribute of the person instance. Display the <code>__dict__</code> attribute of the <em>person </em>instance to the console.</p><p><br></p><p><strong>Expected result:</strong></p><p><br></p><div class=\"ud-component--base-components--code-block\"><div><pre class=\"prettyprint linenums prettyprinted\" role=\"presentation\" style=\"\"><ol class=\"linenums\"><li class=\"L0\"><span class=\"pun\">{}</span></li></ol></pre></div></div><p><br></p></div></div>"
   ]
  },
  {
   "cell_type": "code",
   "execution_count": 154,
   "id": "e77be380-5f2d-4763-9155-29551581b7cc",
   "metadata": {},
   "outputs": [
    {
     "name": "stdout",
     "output_type": "stream",
     "text": [
      "{}\n"
     ]
    }
   ],
   "source": [
    "class Person:\n",
    "    def __init__(self, first_name):\n",
    "        self._first_name = first_name\n",
    "        \n",
    "    def get_first_name(self):\n",
    "        return self._first_name\n",
    "    \n",
    "    def set_first_name(self, name):\n",
    "        self._first_name = name\n",
    "    \n",
    "    def del_first_name(self):\n",
    "        del self._first_name\n",
    "    \n",
    "    first_name = property(fget=get_first_name, fset=set_first_name, fdel=del_first_name)\n",
    "\n",
    "person = Person('John')\n",
    "person.del_first_name()\n",
    "print(person.__dict__)"
   ]
  },
  {
   "cell_type": "markdown",
   "id": "ec793229-e313-4a89-ad2e-a6bb5d8c3279",
   "metadata": {},
   "source": [
    "## Dekorator <code>property<code\\>"
   ]
  },
  {
   "cell_type": "markdown",
   "id": "404fc04c-19f8-47c2-b688-1fa3934d3edc",
   "metadata": {},
   "source": [
    "<div class=\"instructions--content--1JI0g\"><div class=\"udlite-heading-xl instructions--title--3vSDk\" data-purpose=\"exercise-title\">Exercise 10</div><div data-purpose=\"safely-set-inner-html:rich-text-viewer:html\" class=\"udlite-text-sm rt-scaffolding\"><p>Implement a class named <em>Pet </em>that has one protected instance attribute <em>name</em>. Then implement a method <code>name()</code> which reads the value of the protected <em>name </em>attribute. </p><p>Create a property <em>name </em>(read-only) using the <code>@property</code> decorator.</p><p>Create an instance of the <em>Pet </em>class named <em>pet</em> and set <em>name </em>attribute to <code>'Max'</code>. In response, print the contents of the <code>__dict__</code> attribute of this<em> </em>instance.</p><p><br></p><p><strong>Expected result:</strong></p><p><br></p><div class=\"ud-component--base-components--code-block\"><div><pre class=\"prettyprint linenums prettyprinted\" role=\"presentation\" style=\"\"><ol class=\"linenums\"><li class=\"L0\"><span class=\"pun\">{</span><span class=\"str\">'_name'</span><span class=\"pun\">:</span><span class=\"pln\">&nbsp;</span><span class=\"str\">'Max'</span><span class=\"pun\">}</span></li></ol></pre></div></div><p><br></p></div></div>"
   ]
  },
  {
   "cell_type": "code",
   "execution_count": 16,
   "id": "c322e2bb-7f3d-4b78-9990-4c6b6e75536e",
   "metadata": {},
   "outputs": [
    {
     "name": "stdout",
     "output_type": "stream",
     "text": [
      "{'_name': 'Max'}\n"
     ]
    }
   ],
   "source": [
    "class Pet:\n",
    "    def __init__(self, name):\n",
    "        self._name = name\n",
    "        \n",
    "    @property\n",
    "    def name(self):\n",
    "        return self._name\n",
    "    @name.setter\n",
    "    def name(self, name):\n",
    "        self._name = name\n",
    "\n",
    "pet = Pet('Max')\n",
    "print(pet.__dict__)"
   ]
  },
  {
   "cell_type": "code",
   "execution_count": 120,
   "id": "1bb174c2-46e3-4ad9-b674-82e34f89f3fd",
   "metadata": {},
   "outputs": [
    {
     "name": "stdout",
     "output_type": "stream",
     "text": [
      "{'_name': 'Max'}\n"
     ]
    }
   ],
   "source": [
    "class Pet:\n",
    " \n",
    "    def __init__(self, name):\n",
    "        self._name = name\n",
    " \n",
    "    @property\n",
    "    def name(self):\n",
    "        return self._name\n",
    " \n",
    "        \n",
    "pet = Pet('Max')\n",
    "print(pet.__dict__)"
   ]
  },
  {
   "cell_type": "markdown",
   "id": "58fe4e28-74b6-4054-aabd-30c2d347d294",
   "metadata": {},
   "source": [
    "<div class=\"instructions--content--1JI0g\"><div class=\"udlite-heading-xl instructions--title--3vSDk\" data-purpose=\"exercise-title\">Exercise 11</div><div data-purpose=\"safely-set-inner-html:rich-text-viewer:html\" class=\"udlite-text-sm rt-scaffolding\"><p>Implement a class named <em>Pet </em>that has two protected instance attributes: name and <em>age</em>, respectively. Next implement the methods: <code>name()</code> and <code>age()</code>, which reads the value of the protected attributes: <em>name </em>and <em>age</em>. </p><p>Using the <code>@property</code> decorator, create properties: <em>name</em> and <em>age</em>, respectively (read-only properties).</p><p>Create an instance of the <em>Pet </em>class named <em>pet </em>and set the <em>name </em>attribute to <code>'Max'</code> and <em>age </em>to <code>5</code>. </p><p>In response. print the contents of the <code>__dict__</code> attribute of <em>pet </em>instance to the console.</p><p><br></p><p><strong>Expected result:</strong></p><p><br></p><div class=\"ud-component--base-components--code-block\"><div><pre class=\"prettyprint linenums prettyprinted\" role=\"presentation\" style=\"\"><ol class=\"linenums\"><li class=\"L0\"><span class=\"pun\">{</span><span class=\"str\">'_name'</span><span class=\"pun\">:</span><span class=\"pln\"> </span><span class=\"str\">'Max'</span><span class=\"pun\">,</span><span class=\"pln\"> </span><span class=\"str\">'_age'</span><span class=\"pun\">:</span><span class=\"pln\"> </span><span class=\"lit\">5</span><span class=\"pun\">}</span></li></ol></pre></div></div><p><br></p></div></div>"
   ]
  },
  {
   "cell_type": "code",
   "execution_count": 22,
   "id": "4b3c6d24-8138-4418-b40c-4c9e333819c3",
   "metadata": {},
   "outputs": [
    {
     "name": "stdout",
     "output_type": "stream",
     "text": [
      "{'_name': 'Max', '_age': 5}\n"
     ]
    }
   ],
   "source": [
    "class Pet:\n",
    "    def __init__(self, name, age):\n",
    "        self._name = name\n",
    "        self._age = age\n",
    "        \n",
    "    @property\n",
    "    def name(self):\n",
    "        return self._name\n",
    "    \n",
    "    @property\n",
    "    def age(self):\n",
    "        return self._age\n",
    "\n",
    "    \n",
    "pet = Pet('Max', 5)\n",
    "print(pet.__dict__)"
   ]
  },
  {
   "cell_type": "markdown",
   "id": "bbe0e615-9531-441e-855b-5dc49eb0c9a9",
   "metadata": {},
   "source": [
    "<div class=\"instructions--content--1JI0g\"><div class=\"udlite-heading-xl instructions--title--3vSDk\" data-purpose=\"exercise-title\">Exercise 12</div><div data-purpose=\"safely-set-inner-html:rich-text-viewer:html\" class=\"udlite-text-sm rt-scaffolding\"><p>Implement a class named <em>Pet </em>that has one protected instance attribute <em>name</em>. Then, using the <code>@property</code> decorator, create a property <em>name </em>(property to read and modify, without validation).</p><p>Create an instance of the <em>Pet </em>class named <em>pet</em> and set the <em>name </em>attribute to <code>'Max'</code>. Then, using dot notation, modify the value of the <em>name </em>attribute to <code>'Oscar'</code>. </p><p>In response, print the contents of the <code>__dict__ </code>attribute of this instance to the console.</p><p><br></p><p><strong>Expected result:</strong></p><p><br></p><div class=\"ud-component--base-components--code-block\"><div><pre class=\"prettyprint linenums prettyprinted\" role=\"presentation\" style=\"\"><ol class=\"linenums\"><li class=\"L0\"><span class=\"pun\">{</span><span class=\"str\">'_name'</span><span class=\"pun\">:</span><span class=\"pln\">&nbsp;</span><span class=\"str\">'Oscar'</span><span class=\"pun\">}</span></li></ol></pre></div></div><p><br></p></div></div>"
   ]
  },
  {
   "cell_type": "code",
   "execution_count": 30,
   "id": "b3b097ff-e1b6-48ff-975a-8b7c5af90c1e",
   "metadata": {},
   "outputs": [
    {
     "name": "stdout",
     "output_type": "stream",
     "text": [
      "{'_name': 'Oscar'}\n"
     ]
    }
   ],
   "source": [
    "class Pet:\n",
    "    def __init__(self, name):\n",
    "        self._name = name\n",
    "        \n",
    "    @property\n",
    "    def name(self):\n",
    "        return self._name\n",
    "    @name.setter\n",
    "    def name(self, value):\n",
    "        self._name = value\n",
    "    \n",
    "\n",
    "pet = Pet('Max')\n",
    "pet.name = 'Oscar'\n",
    "print(pet.__dict__)"
   ]
  },
  {
   "cell_type": "markdown",
   "id": "fd1a22b3-5f10-46dd-9677-6219388ca74f",
   "metadata": {},
   "source": [
    "<div class=\"instructions--content--1JI0g\"><div class=\"udlite-heading-xl instructions--title--3vSDk\" data-purpose=\"exercise-title\">Exercise 13</div><div data-purpose=\"safely-set-inner-html:rich-text-viewer:html\" class=\"udlite-text-sm rt-scaffolding\"><p>Implement a class named <em>Pet </em>that has two protected instance attributes: <em>name </em>and <em>age</em>, respectively. Then, using the <code>@property</code> decorator, create properties: <em>name </em>and <em>age</em>, respectively (properties to read and modify, without validation).</p><p>Create an instance of the <em>Pet </em>class with the name <em>pet </em>and attributes:</p><ul><li><p><code>name = 'Max'</code></p></li><li><p><code>age = 5</code></p></li></ul><p>Print the <code>__dict__</code> attribute of the <em>pet </em>instance to the console. Then modify the attributes using the dot notation:</p><ul><li><p><em>name </em>to the value <code>'Tom'</code></p></li><li><p><em>age</em> to the value <code>8</code></p></li></ul><p>Again, print the <code>__dict__</code> attribute of the <em>pet</em> instance to the console again.</p><p><br></p><p><strong>Expected result:</strong></p><p><br></p><div class=\"ud-component--base-components--code-block\"><div><pre class=\"prettyprint linenums prettyprinted\" role=\"presentation\" style=\"\"><ol class=\"linenums\"><li class=\"L0\"><span class=\"pun\">{</span><span class=\"str\">'_name'</span><span class=\"pun\">:</span><span class=\"pln\">&nbsp;</span><span class=\"str\">'Max'</span><span class=\"pun\">,</span><span class=\"pln\">&nbsp;</span><span class=\"str\">'_age'</span><span class=\"pun\">:</span><span class=\"pln\">&nbsp;</span><span class=\"lit\">5</span><span class=\"pun\">}</span></li><li class=\"L1\"><span class=\"pun\">{</span><span class=\"str\">'_name'</span><span class=\"pun\">:</span><span class=\"pln\">&nbsp;</span><span class=\"str\">'Tom'</span><span class=\"pun\">,</span><span class=\"pln\">&nbsp;</span><span class=\"str\">'_age'</span><span class=\"pun\">:</span><span class=\"pln\">&nbsp;</span><span class=\"lit\">8</span><span class=\"pun\">}</span></li></ol></pre></div></div><p><br></p></div></div>"
   ]
  },
  {
   "cell_type": "code",
   "execution_count": 32,
   "id": "bbd17c05-4665-405e-a29a-1c19b03a8373",
   "metadata": {},
   "outputs": [
    {
     "name": "stdout",
     "output_type": "stream",
     "text": [
      "{'_name': 'Max', '_age': 5}\n",
      "{'_name': 'Tom', '_age': 8}\n"
     ]
    }
   ],
   "source": [
    "class Pet:\n",
    "    def __init__(self, name, age):\n",
    "        self._name = name\n",
    "        self._age = age\n",
    "        \n",
    "    @property\n",
    "    def name(self):\n",
    "        return self._name\n",
    "    @name.setter\n",
    "    def name(self, value):\n",
    "        self._name = value\n",
    "        \n",
    "    @property\n",
    "    def age(self):\n",
    "        return self._age\n",
    "    @age.setter\n",
    "    def age(self, value):\n",
    "        self._age = value\n",
    "    \n",
    "\n",
    "pet = Pet('Max', 5)\n",
    "print(pet.__dict__)\n",
    "pet.name = 'Tom'\n",
    "pet.age = 8\n",
    "print(pet.__dict__)"
   ]
  },
  {
   "cell_type": "markdown",
   "id": "9b1ca91c-4562-41ff-b40a-896c1479f98c",
   "metadata": {},
   "source": [
    "<div class=\"instructions--content--1JI0g\"><div class=\"udlite-heading-xl instructions--title--3vSDk\" data-purpose=\"exercise-title\">Exercise 14</div><div data-purpose=\"safely-set-inner-html:rich-text-viewer:html\" class=\"udlite-text-sm rt-scaffolding\"><p>A class called <em>Pet </em>is implemented that has two properties: <em>name</em> and <em>age </em>(see below). Add validation to the <em>age </em>property at the stage of object creation and attribute modification:</p><ul><li><p>the value of the <em>age </em>attribute must be an <code>int</code> type, otherwise raise a <code>TypeError</code> with the following message:</p><p><br></p></li></ul><div class=\"ud-component--base-components--code-block\"><div><pre class=\"prettyprint linenums prettyprinted\" role=\"presentation\" style=\"\"><ol class=\"linenums\"><li class=\"L0\"><span class=\"str\">'The value of age must be of type int.'</span></li></ol></pre></div></div><ul><li><p>the value of the <em>age </em>attribute must be positive, otherwise raise <code>ValueError</code> with the following message:<br><br></p></li></ul><div class=\"ud-component--base-components--code-block\"><div><pre class=\"prettyprint linenums prettyprinted\" role=\"presentation\" style=\"\"><ol class=\"linenums\"><li class=\"L0\"><span class=\"str\">'The value of age must be a positive integer.'</span></li></ol></pre></div></div><p>Then try to create an instance of the <em>Pet </em>class named <em>pet</em> and set the following values:</p><ul><li><p><code>'Max'</code></p></li><li><p><code>'seven'</code></p></li></ul><p>If there is an error, print an error message to the console. Use a <code>try ... except ...</code> clause in your solution.</p><p><br></p><p><strong>Expected result:</strong></p><p><br></p><div class=\"ud-component--base-components--code-block\"><div><pre class=\"prettyprint linenums prettyprinted\" role=\"presentation\" style=\"\"><ol class=\"linenums\"><li class=\"L0\"><span class=\"typ\">The</span><span class=\"pln\">&nbsp;value&nbsp;of&nbsp;age&nbsp;must&nbsp;be&nbsp;of&nbsp;type&nbsp;</span><span class=\"kwd\">int</span><span class=\"pun\">.</span></li></ol></pre></div></div><p><br></p></div></div>"
   ]
  },
  {
   "cell_type": "code",
   "execution_count": 123,
   "id": "2a75552a-7198-4142-b093-cfe6f2992d22",
   "metadata": {},
   "outputs": [],
   "source": [
    "class Pet:\n",
    "\n",
    "    def __init__(self, name, age):\n",
    "        self._name = name\n",
    "        self.age = age\n",
    "\n",
    "    @property\n",
    "    def name(self):\n",
    "        return self._name\n",
    "\n",
    "    @name.setter\n",
    "    def name(self, value):\n",
    "            self._name = value\n",
    "\n",
    "    @property\n",
    "    def age(self):\n",
    "        return self._age\n",
    "  \n",
    "    @age.setter\n",
    "    def age(self, value):\n",
    "        if isinstance(value, int):\n",
    "            if value >= 0:\n",
    "                self._age = value\n",
    "            else:\n",
    "                raise ValueError('The value of age must be a positive integer.')\n",
    "        else:\n",
    "            raise TypeError('The value of age must be of type int.')"
   ]
  },
  {
   "cell_type": "code",
   "execution_count": 124,
   "id": "95c074e1-194b-4e4b-a388-0a4cdf4280a1",
   "metadata": {},
   "outputs": [
    {
     "name": "stdout",
     "output_type": "stream",
     "text": [
      "The value of age must be of type int.\n"
     ]
    }
   ],
   "source": [
    "try:\n",
    "    pet = Pet('Max', 'seven')\n",
    "except TypeError as error:\n",
    "    print(error)\n",
    "except ValueError as error:\n",
    "    print(error)"
   ]
  },
  {
   "cell_type": "markdown",
   "id": "6fb812bd-87e6-447d-8d61-cada196d8b62",
   "metadata": {},
   "source": [
    "<div class=\"instructions--content--1JI0g\"><div class=\"udlite-heading-xl instructions--title--3vSDk\" data-purpose=\"exercise-title\">Exercise 15</div><div data-purpose=\"safely-set-inner-html:rich-text-viewer:html\" class=\"udlite-text-sm rt-scaffolding\"><p>A class called <em>Pet </em>is implemented that has two properties: <em>name </em>and <em>age </em>(see below). Create an instance of the <em>Pet </em>class with the name <em>pet </em>and attribute values respectively:</p><ul><li><p><code>'Max'</code></p></li><li><p><code>7</code></p></li></ul><p>Then try to modify the value of the <em>age </em>attribute to -10. If there is an error, print this error message to the console. Use a <code>try ... except ...</code> clause in your solution.</p><p><br></p><p><strong>Expected result:</strong></p><p><br></p><div class=\"ud-component--base-components--code-block\"><div><pre class=\"prettyprint linenums prettyprinted\" role=\"presentation\" style=\"\"><ol class=\"linenums\"><li class=\"L0\"><span class=\"typ\">The</span><span class=\"pln\"> value of age must be a positive integer</span><span class=\"pun\">.</span></li></ol></pre></div></div><p><br></p></div></div>"
   ]
  },
  {
   "cell_type": "code",
   "execution_count": 116,
   "id": "e375f6b4-13f5-4419-bec5-67f315752dcb",
   "metadata": {},
   "outputs": [],
   "source": [
    "class Pet:\n",
    "\n",
    "    def __init__(self, name, age):\n",
    "        self._name = name\n",
    "        self.age = age\n",
    "\n",
    "    @property\n",
    "    def name(self):\n",
    "        return self._name\n",
    "\n",
    "    @name.setter\n",
    "    def name(self, value):\n",
    "            self._name = value\n",
    "\n",
    "    @property\n",
    "    def age(self):\n",
    "        return self._age\n",
    "  \n",
    "    @age.setter\n",
    "    def age(self, value):\n",
    "        if isinstance(value, int):\n",
    "            if value >= 0:\n",
    "                self._age = value\n",
    "            else:\n",
    "                raise ValueError('The value of age must be a positive integer.')\n",
    "        else:\n",
    "            raise TypeError('The value of age must be of type int.')"
   ]
  },
  {
   "cell_type": "code",
   "execution_count": 117,
   "id": "dc477bc5-016e-4e16-87f0-abe49e6aad64",
   "metadata": {},
   "outputs": [
    {
     "name": "stdout",
     "output_type": "stream",
     "text": [
      "The value of age must be a positive integer.\n"
     ]
    }
   ],
   "source": [
    "try:\n",
    "    pet = Pet('Max', 7)\n",
    "except TypeError as error:\n",
    "    print(error)\n",
    "except ValueError as error:\n",
    "    print(error)\n",
    "    \n",
    "try:\n",
    "    pet.age = -10\n",
    "except TypeError as error:\n",
    "    print(error)\n",
    "except ValueError as error:\n",
    "    print(error)"
   ]
  },
  {
   "cell_type": "markdown",
   "id": "ac7dd27f-670c-45db-9295-3488d90381da",
   "metadata": {},
   "source": [
    "<div class=\"instructions--content--1JI0g\"><div class=\"udlite-heading-xl instructions--title--3vSDk\" data-purpose=\"exercise-title\">Exercise 16</div><div data-purpose=\"safely-set-inner-html:rich-text-viewer:html\" class=\"udlite-text-sm rt-scaffolding\"><p>Implement a class named <em>TechStack </em>that has one protected instance attribute named <em>tech_names</em>. Then, using the <code>@property</code> decorator, create a property named <em>tech_names </em>(read, modify, and delete property, without validation). </p><p>Create an instance of the class named <em>tech_stack</em> and the <em>tech_names </em>attribute value:</p><ul><li><p><code>'python,java,sql'</code></p></li></ul><p>Print the content of the <em>tech_names </em>attribute. Then, modify this attribute to value:</p><ul><li><p><code>'python,sql'</code></p></li></ul><p>Also print the contents of the <em>tech_names </em>attribute to the console. </p><p>Remove the <em>tech_names </em>attribute of the <em>tech_stack </em>instance.</p><p>Print the contents of the <code>__dict__</code> attribute of the <em>tech_stack </em>instance to the console.</p><p><br></p><p><strong>Expected result:</strong></p><p><br></p><div class=\"ud-component--base-components--code-block\"><div><pre class=\"prettyprint linenums prettyprinted\" role=\"presentation\" style=\"\"><ol class=\"linenums\"><li class=\"L0\"><span class=\"pln\">python</span><span class=\"pun\">,</span><span class=\"pln\">java</span><span class=\"pun\">,</span><span class=\"pln\">sql</span></li><li class=\"L1\"><span class=\"pln\">python</span><span class=\"pun\">,</span><span class=\"pln\">sql</span></li><li class=\"L2\"><span class=\"pun\">{}</span></li></ol></pre></div></div><p><br></p></div></div>"
   ]
  },
  {
   "cell_type": "code",
   "execution_count": 148,
   "id": "0a0a395e-f18d-4ef8-9584-436cffad479b",
   "metadata": {},
   "outputs": [],
   "source": [
    "class TechStack:\n",
    "    def __init__(self, tech_names):\n",
    "        self._tech_names = tech_names\n",
    "        \n",
    "    @property\n",
    "    def tech_names(self):\n",
    "        return self._tech_names\n",
    "    \n",
    "    @tech_names.setter\n",
    "    def tech_names(self, value):\n",
    "        self._tech_names = value\n",
    "    \n",
    "    @tech_names.getter\n",
    "    def tech_names(self):\n",
    "        return self._tech_names  \n",
    "    \n",
    "    @tech_names.deleter\n",
    "    def tech_names(self):\n",
    "        del self._tech_names     "
   ]
  },
  {
   "cell_type": "code",
   "execution_count": 153,
   "id": "18eeb18b-47d2-4446-9390-7a0efe18e544",
   "metadata": {},
   "outputs": [
    {
     "name": "stdout",
     "output_type": "stream",
     "text": [
      "python,java,sql\n",
      "python,sql\n",
      "{}\n"
     ]
    }
   ],
   "source": [
    "tech_stack = TechStack('python,java,sql')\n",
    "print(tech_stack.tech_names)\n",
    "tech_stack.tech_names = 'python,sql'\n",
    "print(tech_stack.tech_names)\n",
    "del tech_stack.tech_names\n",
    "print(tech_stack.__dict__)"
   ]
  },
  {
   "cell_type": "markdown",
   "id": "c726cf62-9c9a-4b91-a014-8392c4436672",
   "metadata": {},
   "source": [
    "<div class=\"instructions--content--1JI0g\"><div class=\"udlite-heading-xl instructions--title--3vSDk\" data-purpose=\"exercise-title\">Exercise 17</div><div data-purpose=\"safely-set-inner-html:rich-text-viewer:html\" class=\"udlite-text-sm rt-scaffolding\"><p>Implement a class <em>Game </em>that has a property named <em>level </em>(read and modify property, defaults to 0). The value of the <em>level </em>attribute should be an integer in the range <code>[0, 100]</code>. Add validation at the instance creation and attribute modification stage. If the value is not of the <code>int</code> type, raise a <code>TypeError</code> with the following message:<br><br></p><div class=\"ud-component--base-components--code-block\"><div><pre class=\"prettyprint linenums prettyprinted\" role=\"presentation\" style=\"\"><ol class=\"linenums\"><li class=\"L0\"><span class=\"str\">'The value of level must be of type int.'</span></li></ol></pre></div></div><p>If the value is outside the range <code>[0, 100]</code>, set the exceeded boundary value (0 or 100 respectively). Then create a list called <em>games </em>consisting of four instances of the <em>Game </em>class:</p><p><br></p><div class=\"ud-component--base-components--code-block\"><div><pre class=\"prettyprint linenums prettyprinted\" role=\"presentation\" style=\"\"><ol class=\"linenums\"><li class=\"L0\"><span class=\"pln\">games </span><span class=\"pun\">=</span><span class=\"pln\"> </span><span class=\"pun\">[</span><span class=\"typ\">Game</span><span class=\"pun\">(),</span><span class=\"pln\"> </span><span class=\"typ\">Game</span><span class=\"pun\">(</span><span class=\"lit\">10</span><span class=\"pun\">),</span><span class=\"pln\"> </span><span class=\"typ\">Game</span><span class=\"pun\">(-</span><span class=\"lit\">10</span><span class=\"pun\">),</span><span class=\"pln\"> </span><span class=\"typ\">Game</span><span class=\"pun\">(</span><span class=\"lit\">120</span><span class=\"pun\">)]</span></li></ol></pre></div></div><p>Iterate through the <em>games </em>list and print the value of the <em>level </em>attribute for each instance.</p><p><br></p><p><strong>Expected result:</strong></p><p><br></p><div class=\"ud-component--base-components--code-block\"><div><pre class=\"prettyprint linenums prettyprinted\" role=\"presentation\" style=\"\"><ol class=\"linenums\"><li class=\"L0\"><span class=\"lit\">0</span></li><li class=\"L1\"><span class=\"lit\">10</span></li><li class=\"L2\"><span class=\"lit\">0</span></li><li class=\"L3\"><span class=\"lit\">100</span></li></ol></pre></div></div><p><br></p></div></div>"
   ]
  },
  {
   "cell_type": "code",
   "execution_count": 163,
   "id": "fe097b72-2e75-4e10-8920-5b262c0bcc74",
   "metadata": {},
   "outputs": [],
   "source": [
    "class Game:\n",
    "    def __init__(self, level = None):\n",
    "        # self.level = level\n",
    "        self.level = level if level else 0\n",
    "        \n",
    "    @property\n",
    "    def level(self):\n",
    "        return self._level\n",
    "    \n",
    "    @level.setter\n",
    "    def level(self, value):\n",
    "        if not isinstance(value, int):\n",
    "            raise TypeError('The value of level must be of type int.')\n",
    "        if value < 0:\n",
    "            value = 0\n",
    "        if value > 100:\n",
    "            value = 100\n",
    "        \n",
    "        self._level = value"
   ]
  },
  {
   "cell_type": "code",
   "execution_count": 164,
   "id": "6c28ba29-6923-44ab-8ca8-68cd30094235",
   "metadata": {},
   "outputs": [],
   "source": [
    "games = [Game(), Game(10), Game(-10), Game(120)]"
   ]
  },
  {
   "cell_type": "code",
   "execution_count": 165,
   "id": "06bd5959-2954-47a8-875f-fcd977285a91",
   "metadata": {},
   "outputs": [
    {
     "name": "stdout",
     "output_type": "stream",
     "text": [
      "0\n",
      "10\n",
      "0\n",
      "100\n"
     ]
    }
   ],
   "source": [
    "for game in games:\n",
    "    try:\n",
    "        print(game.level)\n",
    "    except TypeError as error:\n",
    "        print(error)        "
   ]
  },
  {
   "cell_type": "markdown",
   "id": "448fbb4d-e6c1-4c0d-beed-7f13355c070f",
   "metadata": {},
   "source": [
    "# Computed Attributes"
   ]
  },
  {
   "cell_type": "markdown",
   "id": "3a2da284-ff20-490b-8136-b46b8dec830f",
   "metadata": {},
   "source": [
    "<div class=\"instructions--content--1JI0g\"><div class=\"udlite-heading-xl instructions--title--3vSDk\" data-purpose=\"exercise-title\">Exercise 1</div><div data-purpose=\"safely-set-inner-html:rich-text-viewer:html\" class=\"udlite-text-sm rt-scaffolding\"><p>Implement a class named <em>Circle </em>that will have the protected instance attribute <em>radius</em> - the radius of the circle (readable and modifiable property). Use the <code>@property</code> decorator.</p><p>Then create an instance named <em>circle </em>with <code>radius=3</code>. </p><p>In response, display the <code>__dict__</code> attribute of <em>circle </em>instance.</p><p><br></p><p><strong>Expected result:</strong></p><p><br></p><div class=\"ud-component--base-components--code-block\"><div><pre class=\"prettyprint linenums prettyprinted\" role=\"presentation\" style=\"\"><ol class=\"linenums\"><li class=\"L0\"><span class=\"pun\">{</span><span class=\"str\">'_radius'</span><span class=\"pun\">:</span><span class=\"pln\">&nbsp;</span><span class=\"lit\">3</span><span class=\"pun\">}</span></li></ol></pre></div></div><p><br></p></div></div>"
   ]
  },
  {
   "cell_type": "code",
   "execution_count": 2,
   "id": "8f63ab75-0397-4524-b07e-5e0fa1a29104",
   "metadata": {},
   "outputs": [],
   "source": [
    "class Circle:\n",
    "    def __init__(self, radius):\n",
    "        self.radius = radius\n",
    "        \n",
    "    @property\n",
    "    def radius(self):\n",
    "        return self._radius\n",
    "    \n",
    "    @radius.setter\n",
    "    def radius(self, radius):\n",
    "        self._radius = radius\n",
    "    \n",
    "    @radius.getter\n",
    "    def radius(self):\n",
    "        return self._radius\n",
    "        "
   ]
  },
  {
   "cell_type": "code",
   "execution_count": 10,
   "id": "a9e3e252-4cda-4587-ae95-56e7b4f45a19",
   "metadata": {},
   "outputs": [
    {
     "name": "stdout",
     "output_type": "stream",
     "text": [
      "{'_radius': 3}\n"
     ]
    }
   ],
   "source": [
    "circle = Circle(3)\n",
    "print(circle.__dict__)"
   ]
  },
  {
   "cell_type": "markdown",
   "id": "69d4c3be-e1ca-4a1f-8a11-1ac128ff7121",
   "metadata": {},
   "source": [
    "<div class=\"instructions--content--1JI0g\"><div class=\"udlite-heading-xl instructions--title--3vSDk\" data-purpose=\"exercise-title\">Exercise 2</div><div data-purpose=\"safely-set-inner-html:rich-text-viewer:html\" class=\"udlite-text-sm rt-scaffolding\"><p>A class named <em>Circle </em>is given. Add a property called <em>area </em>(read-only) to the class that calculates the <em>area </em>of a circle with a given <em>radius</em>. This<em> </em>property should only be computed <strong>at first reading or after modifying the <em>radius </em>attribute</strong>. To do this, also modify the way of setting the value of the <em>radius </em>attribute in the <code>__init __()</code> method. Make sure that the value of the <em>area </em>attribute is recalculated after changing the <em>radius </em>attribute.</p><p>Then create an instance named <em>circle </em>with <code>radius=3</code>. </p><p>In response, display the value of the <em>area </em>attribute to the console (round the result to four decimal places).</p><p><br></p><p><strong>Expected result:</strong></p><p><br></p><div class=\"ud-component--base-components--code-block\"><div><pre class=\"prettyprint linenums prettyprinted\" role=\"presentation\" style=\"\"><ol class=\"linenums\"><li class=\"L0\"><span class=\"lit\">28.2743</span></li></ol></pre></div></div><p><br></p></div></div>"
   ]
  },
  {
   "cell_type": "code",
   "execution_count": 17,
   "id": "07d48deb-5577-46cd-ab63-a1a14e5b400e",
   "metadata": {},
   "outputs": [
    {
     "name": "stdout",
     "output_type": "stream",
     "text": [
      "28.2743\n"
     ]
    }
   ],
   "source": [
    "# import math\n",
    "\n",
    "\n",
    "# class Circle:\n",
    "\n",
    "#     def __init__(self, radius):\n",
    "#         self.radius = radius\n",
    "\n",
    "#     @property\n",
    "#     def radius(self):\n",
    "#         return self._radius\n",
    "\n",
    "#     @radius.setter\n",
    "#     def radius(self, value):\n",
    "#         self._radius = value\n",
    "    \n",
    "#     @property\n",
    "#     def area(self):\n",
    "#         return area\n",
    "    \n",
    "#     @area.getter\n",
    "#     def area(self):\n",
    "#         area = round(math.pi*self.radius*self.radius,4)\n",
    "#         return area\n",
    "    \n",
    "# circle = Circle(3)\n",
    "# print(circle.area)"
   ]
  },
  {
   "cell_type": "code",
   "execution_count": 20,
   "id": "59551506-473f-48ff-8bc2-3170b4de7037",
   "metadata": {},
   "outputs": [
    {
     "name": "stdout",
     "output_type": "stream",
     "text": [
      "28.2743\n"
     ]
    }
   ],
   "source": [
    "import math\n",
    " \n",
    " \n",
    "class Circle:\n",
    "    def __init__(self, radius):\n",
    "        self.radius = radius\n",
    "        self._area = None\n",
    " \n",
    "    @property\n",
    "    def radius(self):\n",
    "        return self._radius\n",
    " \n",
    "    @radius.setter\n",
    "    def radius(self, value):\n",
    "        self._radius = value\n",
    "        self._area = None\n",
    " \n",
    "    @property\n",
    "    def area(self):\n",
    "        if self._area is None:\n",
    "            self._area = math.pi * self._radius * self._radius\n",
    "        return self._area\n",
    " \n",
    " \n",
    "circle = Circle(3)\n",
    "print(f'{circle.area:.4f}')"
   ]
  },
  {
   "cell_type": "markdown",
   "id": "2c44ac98-b878-4269-b29a-54d5609b57ee",
   "metadata": {},
   "source": [
    "<div class=\"instructions--content--1JI0g\"><div class=\"udlite-heading-xl instructions--title--3vSDk\" data-purpose=\"exercise-title\">Exercise 3</div><div data-purpose=\"safely-set-inner-html:rich-text-viewer:html\" class=\"udlite-text-sm rt-scaffolding\"><p>A class named <em>Circle </em>is given. Add a property to the class called <em>perimeter </em>(read-only) that calculates the length of circle with a given <em>radius</em>. This property should be computed only <strong>at the first reading or after modifying the radius attribute</strong>. To do this, also modify the way of setting the value of the <em>radius </em>attribute in the <code>__init __()</code> method. Make sure that the value of the perimeter attribute is recalculated when the <em>radius </em>attribute is changed.</p><p>Then create an instance named <em>circle </em>with <code>radius=3</code>. </p><p>In response, display the value of the <em>perimeter </em>attribute to the console (round the result to four decimal places).</p><p><br></p><p><strong>Expected result:</strong></p><p><br></p><div class=\"ud-component--base-components--code-block\"><div><pre class=\"prettyprint linenums prettyprinted\" role=\"presentation\" style=\"\"><ol class=\"linenums\"><li class=\"L0\"><span class=\"lit\">18.8496</span></li></ol></pre></div></div><p><br></p></div></div>"
   ]
  },
  {
   "cell_type": "code",
   "execution_count": 26,
   "id": "fcb57fd8-96cc-4f98-8765-855480eb6898",
   "metadata": {},
   "outputs": [],
   "source": [
    "import math\n",
    "\n",
    "\n",
    "class Circle:\n",
    "    def __init__(self, radius):\n",
    "        self.radius = radius\n",
    "        self._area = None\n",
    "        self._perimeter = None\n",
    "\n",
    "    @property\n",
    "    def radius(self):\n",
    "        return self._radius\n",
    "\n",
    "    @radius.setter\n",
    "    def radius(self, value):\n",
    "        self._radius = value\n",
    "        self._area = None\n",
    "        self._perimeter = None\n",
    "\n",
    "    @property\n",
    "    def area(self):\n",
    "        if self._area is None:\n",
    "            self._area = math.pi * self._radius * self._radius\n",
    "        return self._area\n",
    "    \n",
    "    @property\n",
    "    def perimeter(self):\n",
    "        if self._perimeter is None:\n",
    "            self._perimeter = 2 * math.pi * self._radius\n",
    "        return self._perimeter\n",
    "    \n"
   ]
  },
  {
   "cell_type": "code",
   "execution_count": 30,
   "id": "0657752d-cec1-49d5-a11c-8a1fad268c3e",
   "metadata": {},
   "outputs": [
    {
     "name": "stdout",
     "output_type": "stream",
     "text": [
      "18.8496\n"
     ]
    }
   ],
   "source": [
    "circle = Circle(3)\n",
    "print(f'{circle.perimeter:.4f}')"
   ]
  },
  {
   "cell_type": "markdown",
   "id": "afb246bf-ac18-4574-97c0-4e1b70a8a264",
   "metadata": {},
   "source": [
    "<div class=\"instructions--content--1JI0g\"><div class=\"udlite-heading-xl instructions--title--3vSDk\" data-purpose=\"exercise-title\">Exercise 4</div><div data-purpose=\"safely-set-inner-html:rich-text-viewer:html\" class=\"udlite-text-sm rt-scaffolding\"><p>Implement a class named <em>Rectangle </em>which will have the following properties:</p><ul><li><p><em>width</em></p></li><li><p><em>height</em></p></li></ul><p>The width and height of the rectangle, respectively (for reading and for modification). Also add a property named <em>area </em>that stores the area of the rectangle (read-only). This property should be computed only at the first reading or after modifying any of the rectangle sides. Skip attribute validation.</p><p>Then create an instance named <em>rectangle</em> with a width = 3 and a height = 4 and print the information about the <em>rectangle </em>instance to the console as shown below.</p><p><br></p><p><strong>Expected result:</strong></p><p><br></p><div class=\"ud-component--base-components--code-block\"><div><pre class=\"prettyprint linenums prettyprinted\" role=\"presentation\" style=\"\"><ol class=\"linenums\"><li class=\"L0\"><span class=\"pln\">width</span><span class=\"pun\">:</span><span class=\"pln\"> </span><span class=\"lit\">3</span><span class=\"pun\">,</span><span class=\"pln\"> height</span><span class=\"pun\">:</span><span class=\"pln\"> </span><span class=\"lit\">4</span><span class=\"pln\"> </span><span class=\"pun\">-&gt;</span><span class=\"pln\"> area</span><span class=\"pun\">:</span><span class=\"pln\"> </span><span class=\"lit\">12</span></li></ol></pre></div></div><p><br></p></div></div>"
   ]
  },
  {
   "cell_type": "code",
   "execution_count": 16,
   "id": "9f1fdaa6-a786-4ebb-99dd-3a846d023d24",
   "metadata": {},
   "outputs": [],
   "source": [
    "class Rectangle:\n",
    "    \n",
    "    def __init__(self, width, height):\n",
    "        self.width = width\n",
    "        self.height = height\n",
    "        self._area = None\n",
    "        \n",
    "    @property\n",
    "    def width(self):\n",
    "        return self._width\n",
    " \n",
    "    @width.setter\n",
    "    def width(self, value):\n",
    "        self._area = None\n",
    "        self._width = value\n",
    "    \n",
    "    @property\n",
    "    def height(self):\n",
    "        return self._height\n",
    "    \n",
    "    @height.setter\n",
    "    def height(self, value):\n",
    "        self._area = None\n",
    "        self._height = value\n",
    "          \n",
    "    @property\n",
    "    def area(self):\n",
    "        if self._area is None:\n",
    "            self._area = self._height * self._width\n",
    "        return self._area\n",
    "    \n",
    "    \n",
    "        "
   ]
  },
  {
   "cell_type": "code",
   "execution_count": 19,
   "id": "8921a369-dd2b-41c6-9521-3e44033958b4",
   "metadata": {},
   "outputs": [
    {
     "name": "stdout",
     "output_type": "stream",
     "text": [
      "width: 3, height: 4 -> area: 12\n"
     ]
    }
   ],
   "source": [
    "rectangle = Rectangle(3, 4)\n",
    "print(f'width: {rectangle.width}, height: {rectangle.height} -> area: {rectangle.area}')"
   ]
  },
  {
   "cell_type": "markdown",
   "id": "ae2e59d6-c6c1-46f3-a905-2e759c7e4712",
   "metadata": {},
   "source": [
    "<div class=\"instructions--content--1JI0g\"><div class=\"udlite-heading-xl instructions--title--3vSDk\" data-purpose=\"exercise-title\">Exercise 5</div><div data-purpose=\"safely-set-inner-html:rich-text-viewer:html\" class=\"udlite-text-sm rt-scaffolding\"><p>A class called <em>Rectangle </em>is given. Add a property called <em>perimeter</em>, which stores the perimeter of the rectangle (read only). The <em>perimeter </em>property should be computed only at the first reading or after modifying any of the sides of the rectangle. Skip attribute validation.</p><p>Then create an instance named <em>rectangle </em>with a width = 3 and a height = 4 and print the information about the <em>rectangle </em>instance to the console as shown below.</p><p><br></p><p><strong>Expected result:</strong></p><p><br></p><div class=\"ud-component--base-components--code-block\"><div><pre class=\"prettyprint linenums prettyprinted\" role=\"presentation\" style=\"\"><ol class=\"linenums\"><li class=\"L0\"><span class=\"pln\">width</span><span class=\"pun\">:</span><span class=\"pln\"> </span><span class=\"lit\">3</span><span class=\"pun\">,</span><span class=\"pln\"> height</span><span class=\"pun\">:</span><span class=\"pln\"> </span><span class=\"lit\">4</span><span class=\"pln\"> </span><span class=\"pun\">-&gt;</span><span class=\"pln\"> perimeter</span><span class=\"pun\">:</span><span class=\"pln\"> </span><span class=\"lit\">14</span></li></ol></pre></div></div><p><br></p></div></div>"
   ]
  },
  {
   "cell_type": "code",
   "execution_count": 32,
   "id": "9aec6c30-0982-4880-a8a1-25de301e7066",
   "metadata": {},
   "outputs": [],
   "source": [
    "class Rectangle:\n",
    "\n",
    "    def __init__(self, width, height):\n",
    "        self.width = width\n",
    "        self.height = height\n",
    "        self._area = None\n",
    "        self._perimeter = None\n",
    "\n",
    "    @property\n",
    "    def width(self):\n",
    "        return self._width\n",
    "\n",
    "    @width.setter\n",
    "    def width(self, value):\n",
    "        self._width = value\n",
    "        self._area = None\n",
    "        self._perimeter = None\n",
    "\n",
    "    @property\n",
    "    def height(self):\n",
    "        return self._height\n",
    "\n",
    "    @height.setter\n",
    "    def height(self, value):\n",
    "        self._height = value\n",
    "        self._area = None\n",
    "        self._perimeter = None\n",
    "\n",
    "    @property\n",
    "    def area(self):\n",
    "        if self._area is None:\n",
    "            self._area = self._width * self._height\n",
    "        return self._area\n",
    "    \n",
    "    @property\n",
    "    def perimeter(self):\n",
    "        if self._perimeter is None:\n",
    "            self._perimeter = 2 * (self._width + self._height)\n",
    "        return self._perimeter"
   ]
  },
  {
   "cell_type": "code",
   "execution_count": 33,
   "id": "b727c64e-0cb0-46a4-9ed9-e63abef24390",
   "metadata": {},
   "outputs": [],
   "source": [
    "rectangle = Rectangle(3,4)"
   ]
  },
  {
   "cell_type": "code",
   "execution_count": 34,
   "id": "bb077c1a-ef2d-4b02-8350-dd3e0605ad70",
   "metadata": {},
   "outputs": [
    {
     "data": {
      "text/plain": [
       "12"
      ]
     },
     "execution_count": 34,
     "metadata": {},
     "output_type": "execute_result"
    }
   ],
   "source": [
    "rectangle.area"
   ]
  },
  {
   "cell_type": "markdown",
   "id": "7682eed1-391f-449e-929b-b2ac9f1a3857",
   "metadata": {},
   "source": [
    "# Class method - decorator @classmethod"
   ]
  },
  {
   "cell_type": "markdown",
   "id": "b969efa8-e0ec-45a4-a27e-01bf7db6f6ba",
   "metadata": {},
   "source": [
    "<div class=\"instructions--content--1JI0g\"><div class=\"udlite-heading-xl instructions--title--3vSDk\" data-purpose=\"exercise-title\">Exercise 1</div><div data-purpose=\"safely-set-inner-html:rich-text-viewer:html\" class=\"udlite-text-sm rt-scaffolding\"><p>Using the <em>classmethod </em>class (do it in the standard way) implement a class named <em>Person </em>that has a class method named <code>show_details()</code> which displays the following text to the console:</p><p><br></p><div class=\"ud-component--base-components--code-block\"><div><pre class=\"prettyprint linenums prettyprinted\" role=\"presentation\" style=\"\"><ol class=\"linenums\"><li class=\"L0\"><span class=\"str\">'Running&nbsp;from&nbsp;Person&nbsp;class.'</span></li></ol></pre></div></div><p>Try to pass the class name using the appropriate attribute of the <em>Person </em>class. </p><p>In response, call the <code>show_details()</code> class method.</p><p><br></p><p><strong>Expected result:</strong></p><p><br></p><div class=\"ud-component--base-components--code-block\"><div><pre class=\"prettyprint linenums prettyprinted\" role=\"presentation\" style=\"\"><ol class=\"linenums\"><li class=\"L0\"><span class=\"typ\">Running</span><span class=\"pln\">&nbsp;</span><span class=\"kwd\">from</span><span class=\"pln\">&nbsp;</span><span class=\"typ\">Person</span><span class=\"pln\">&nbsp;</span><span class=\"kwd\">class</span><span class=\"pun\">.</span></li></ol></pre></div></div><p><br></p></div></div>"
   ]
  },
  {
   "cell_type": "code",
   "execution_count": 44,
   "id": "9fd017a0-a1a0-4c02-96ac-df519ea6f389",
   "metadata": {},
   "outputs": [],
   "source": [
    "class Person:\n",
    "    \n",
    "    def show_details(cls):\n",
    "        print(f'Running from {cls.__name__} class')\n",
    "        \n",
    "    show_details = classmethod(show_details)\n",
    "\n",
    "Person.show_details()"
   ]
  },
  {
   "cell_type": "markdown",
   "id": "78e07953-9293-40b5-8e18-648a933b8d7a",
   "metadata": {},
   "source": [
    "<div class=\"instructions--content--1JI0g\"><div class=\"udlite-heading-xl instructions--title--3vSDk\" data-purpose=\"exercise-title\">Exercise 2</div><div data-purpose=\"safely-set-inner-html:rich-text-viewer:html\" class=\"udlite-text-sm rt-scaffolding\"><p>Using the <code>@classmethod</code> decorator, implement a class named <em>Container </em>which has a class method named <code>show_details()</code> displaying the following text to the console:</p><p><br></p><div class=\"ud-component--base-components--code-block\"><div><pre class=\"prettyprint linenums prettyprinted\" role=\"presentation\" style=\"\"><ol class=\"linenums\"><li class=\"L0\"><span class=\"str\">'Running&nbsp;from&nbsp;Container&nbsp;class.'</span></li></ol></pre></div></div><p>Try to pass the class name using the appropriate attribute of the <em>Container </em>class.</p><p> In response, call the <code>show_details()</code> class method.</p><p><br></p><p><strong>Expected result:</strong></p><p><br></p><div class=\"ud-component--base-components--code-block\"><div><pre class=\"prettyprint linenums prettyprinted\" role=\"presentation\" style=\"\"><ol class=\"linenums\"><li class=\"L0\"><span class=\"typ\">Running</span><span class=\"pln\">&nbsp;</span><span class=\"kwd\">from</span><span class=\"pln\">&nbsp;</span><span class=\"typ\">Container</span><span class=\"pln\">&nbsp;</span><span class=\"kwd\">class</span><span class=\"pun\">.</span></li></ol></pre></div></div><p><br></p></div></div>"
   ]
  },
  {
   "cell_type": "code",
   "execution_count": 47,
   "id": "b7f16bbf-b332-4a7b-b641-e02adeca06c6",
   "metadata": {},
   "outputs": [
    {
     "name": "stdout",
     "output_type": "stream",
     "text": [
      "Running from Container class.\n"
     ]
    }
   ],
   "source": [
    "class Container:\n",
    "    \n",
    "    @classmethod\n",
    "    def show_details(cls):\n",
    "        print(f'Running from {cls.__name__} class.')\n",
    "        \n",
    "Container.show_details()"
   ]
  },
  {
   "cell_type": "markdown",
   "id": "b4a49977-2106-4132-9046-1a375f03b1e6",
   "metadata": {},
   "source": [
    "<div class=\"instructions--content--1JI0g\"><div class=\"udlite-heading-xl instructions--title--3vSDk\" data-purpose=\"exercise-title\">Exercise 3</div><div data-purpose=\"safely-set-inner-html:rich-text-viewer:html\" class=\"udlite-text-sm rt-scaffolding\"><p>The <em>Container </em>class is given. Create an instance of this class named <em>container </em>and call the <code>show_details()</code> method from this instance.</p><p><br></p><p><strong>Expected result:</strong></p><p><br></p><div class=\"ud-component--base-components--code-block\"><div><pre class=\"prettyprint linenums prettyprinted\" role=\"presentation\" style=\"\"><ol class=\"linenums\"><li class=\"L0\"><span class=\"typ\">Running</span><span class=\"pln\">&nbsp;</span><span class=\"kwd\">from</span><span class=\"pln\">&nbsp;</span><span class=\"typ\">Container</span><span class=\"pln\">&nbsp;</span><span class=\"kwd\">class</span><span class=\"pun\">.</span></li></ol></pre></div></div><p><br></p></div></div>"
   ]
  },
  {
   "cell_type": "code",
   "execution_count": 48,
   "id": "b23c5b69-5a05-43d4-a690-41f4b17f7844",
   "metadata": {},
   "outputs": [],
   "source": [
    "class Container:\n",
    "\n",
    "    @classmethod\n",
    "    def show_details(cls):\n",
    "        print(f'Running from {cls.__name__} class.')"
   ]
  },
  {
   "cell_type": "code",
   "execution_count": 51,
   "id": "396ca5c6-42bf-44f8-969c-0db9495a87d7",
   "metadata": {},
   "outputs": [],
   "source": [
    "container = Container()\n",
    "\n",
    "container.show_details()"
   ]
  },
  {
   "cell_type": "markdown",
   "id": "11735567-df98-4490-aa7e-368d9429452c",
   "metadata": {},
   "source": [
    "<div class=\"instructions--content--1JI0g\"><div class=\"udlite-heading-xl instructions--title--3vSDk\" data-purpose=\"exercise-title\">Exercise 4</div><div data-purpose=\"safely-set-inner-html:rich-text-viewer:html\" class=\"udlite-text-sm rt-scaffolding\"><p>Implement a class named <em>Person </em>which has a class attribute named <em>instances </em>as an empty list. Then, each time you create an instance of the <em>Person </em>class, add it to the <em>Person.instances</em> list (use the <code>__init __()</code> method for this).</p><p>Also implement a class method called <code>count_instances()</code> that returns the number of <em>Person </em>objects created (the number of items in the <em>Person.instances</em> list).</p><p>Create three instances of the Person class. Then call the <code>count_instances()</code> class method and print result to the console.</p><p><br></p><p><strong>Expected result:</strong></p><p><br></p><div class=\"ud-component--base-components--code-block\"><div><pre class=\"prettyprint linenums prettyprinted\" role=\"presentation\" style=\"\"><ol class=\"linenums\"><li class=\"L0\"><span class=\"lit\">3</span></li></ol></pre></div></div><p><br></p></div></div>"
   ]
  },
  {
   "cell_type": "code",
   "execution_count": 71,
   "id": "b8d91047-fb73-4c83-9dcc-783965c9c02e",
   "metadata": {},
   "outputs": [],
   "source": [
    "class Person:\n",
    "    \n",
    "    instances = []\n",
    "    \n",
    "    def __init__(self):\n",
    "        self.instances.append(self)\n",
    "    \n",
    "    @classmethod\n",
    "    def count_instances(cls):\n",
    "        return print(len(cls.instances))\n",
    "\n",
    "person1 = Person()\n",
    "person2 = Person()\n",
    "person3 = Person()\n",
    "\n",
    "Person.count_instances()"
   ]
  },
  {
   "cell_type": "markdown",
   "id": "c0ae3b18-ec3b-44dd-8241-206593f0c5b1",
   "metadata": {},
   "source": [
    "<div class=\"instructions--content--1JI0g\"><div class=\"udlite-heading-xl instructions--title--3vSDk\" data-purpose=\"exercise-title\">Exercise 5</div><div data-purpose=\"safely-set-inner-html:rich-text-viewer:html\" class=\"udlite-text-sm rt-scaffolding\"><p>A class named <em>Person </em>is given. Modify the <code>__init__()</code> method so that you can set two instance attributes: <em>first_name </em>and <em>last_name </em>(bare attributes, without any validation). </p><p>Create two instances of the <em>Person </em>class<em>.</em> Then call the <code>count_instances()</code> class method and print result to the console.</p><p><br></p><p><strong>Expected result:</strong></p><p><br></p><div class=\"ud-component--base-components--code-block\"><div><pre class=\"prettyprint linenums prettyprinted\" role=\"presentation\" style=\"\"><ol class=\"linenums\"><li class=\"L0\"><span class=\"lit\">2</span></li></ol></pre></div></div><p><br></p></div></div>"
   ]
  },
  {
   "cell_type": "code",
   "execution_count": 78,
   "id": "16a3aab8-7d56-422e-a2f1-66e6561a413a",
   "metadata": {},
   "outputs": [
    {
     "name": "stdout",
     "output_type": "stream",
     "text": [
      "2\n"
     ]
    }
   ],
   "source": [
    "class Person:\n",
    "\n",
    "    instances = []\n",
    "\n",
    "    def __init__(self, first_name, last_name):\n",
    "        self.first_name = first_name\n",
    "        self.last_name = last_name\n",
    "        Person.instances.append(self)\n",
    "    \n",
    "    @classmethod\n",
    "    def count_instances(cls):\n",
    "        return len(Person.instances)\n",
    "    \n",
    "person1 = Person('John', 'Doe')\n",
    "person2 = Person('Mike', 'Smith')\n",
    "print(person1.count_instances())"
   ]
  },
  {
   "cell_type": "markdown",
   "id": "2cdfa826-e8d1-456b-a98d-dccdcf31be66",
   "metadata": {},
   "source": [
    "# @staticmethod"
   ]
  },
  {
   "cell_type": "markdown",
   "id": "816f9013-aaa7-47df-96ce-47d5eaaba076",
   "metadata": {},
   "source": [
    "<div class=\"instructions--content--1JI0g\"><div class=\"udlite-heading-xl instructions--title--3vSDk\" data-purpose=\"exercise-title\">Exercise 1</div><div data-purpose=\"safely-set-inner-html:rich-text-viewer:html\" class=\"udlite-text-sm rt-scaffolding\"><p>Define a <em>Container </em>class that has a static method (use the <em>staticmethod </em>class - do it in the standard way) named <code>get_current_time()</code> returning the current time in the format <code>'%H:%M:%S'</code>, e.g. <code>'09:45:10'</code>.</p><p><br></p><p><strong>Tip: </strong>Use the built-in <em>time </em>module.</p><p><br></p></div></div>"
   ]
  },
  {
   "cell_type": "code",
   "execution_count": 4,
   "id": "d2c35616-fbf4-413d-a235-01f8ac2aba6f",
   "metadata": {},
   "outputs": [
    {
     "name": "stdout",
     "output_type": "stream",
     "text": [
      "15:20:54\n"
     ]
    }
   ],
   "source": [
    "import time\n",
    "\n",
    "class Container:\n",
    "    \n",
    "    def get_current_time():\n",
    "        current_time = time.strftime(\"%H:%M:%S\", time.localtime())\n",
    "        return current_time\n",
    "    \n",
    "    get_current_time = get_current_time()\n",
    "        \n",
    "print(Container.get_current_time)"
   ]
  },
  {
   "cell_type": "markdown",
   "id": "e2950d65-7bd7-4e9a-8886-eb05b85331f9",
   "metadata": {},
   "source": [
    "<div class=\"instructions--content--1JI0g\"><div class=\"udlite-heading-xl instructions--title--3vSDk\" data-purpose=\"exercise-title\">Exercise 2</div><div data-purpose=\"safely-set-inner-html:rich-text-viewer:html\" class=\"udlite-text-sm rt-scaffolding\"><p>Define a <em>Container </em>class that has a static method (use the <code>@staticmethod</code> decorator) named <code>get_current_time()</code> returning the current time in the format <code>'%H:%M:%S'</code>, e.g. <code>'09:45:10'</code>.</p><p><br></p><p><strong>Tip: </strong>Use the built-in <em>time </em>module.</p><p><br></p></div></div>"
   ]
  },
  {
   "cell_type": "code",
   "execution_count": 5,
   "id": "11d3ae9a-2aa6-4d2c-8dac-bfd660367ab0",
   "metadata": {},
   "outputs": [
    {
     "name": "stdout",
     "output_type": "stream",
     "text": [
      "15:21:07\n"
     ]
    }
   ],
   "source": [
    "import time\n",
    "\n",
    "class Container:\n",
    "    \n",
    "    @staticmethod\n",
    "    def get_current_time():\n",
    "        current_time = time.strftime(\"%H:%M:%S\", time.localtime())\n",
    "        return current_time\n",
    "        \n",
    "print(Container.get_current_time())"
   ]
  },
  {
   "cell_type": "markdown",
   "id": "ca5309c2-66e8-474a-87fc-b1cc48ca626b",
   "metadata": {},
   "source": [
    "<div class=\"instructions--content--1JI0g\"><div class=\"udlite-heading-xl instructions--title--3vSDk\" data-purpose=\"exercise-title\">Exercise 3</div><div data-purpose=\"safely-set-inner-html:rich-text-viewer:html\" class=\"udlite-text-sm rt-scaffolding\"><p>Complete the implementation of the <em>Book </em>class. In the <code>__init__()</code> method, set the bare attributes of the instance with names:</p><ul><li><p><em>title</em></p></li><li><p><em>author</em></p></li><li><p><em>book_id</em></p></li></ul><p>Set the instance <em>book_id </em>attribute using the <em>uuid </em>module. Exactly the <code>uuid.uuid4()</code> function from this module. An example of using this function:</p><p><br></p><div class=\"ud-component--base-components--code-block\"><div><pre class=\"prettyprint linenums prettyprinted\" role=\"presentation\" style=\"\"><ol class=\"linenums\"><li class=\"L0\"><span class=\"kwd\">import</span><span class=\"pln\"> uuid</span></li><li class=\"L1\"><span class=\"pln\">&nbsp;</span></li><li class=\"L2\"><span class=\"pln\">&nbsp;</span></li><li class=\"L3\"><span class=\"pln\">str</span><span class=\"pun\">(</span><span class=\"pln\">uuid</span><span class=\"pun\">.</span><span class=\"pln\">uuid4</span><span class=\"pun\">().</span><span class=\"pln\">fields</span><span class=\"pun\">[-</span><span class=\"lit\">1</span><span class=\"pun\">])[:</span><span class=\"lit\">6</span><span class=\"pun\">]</span></li></ol></pre></div></div><p>Returns a 6-element string. This will be the value of the <em>book_id </em>attribute.</p><p>Using the above code, create a static method of the <em>Book </em>class (use the <code>@staticmethod</code> decorator) called <code>get_id()</code>, which will generate a 6-digit <code>str</code> object (the value of the <em>book_id </em>field).</p><p>Then create an instance of the class named <em>book1 </em>with the following arguments:</p><ul><li><p><code>title='Inferno'</code></p></li><li><p><code>author='Dan Brown'</code></p></li></ul><p>In response, print all the <code>__dict__</code> attribute keys of <em>book1 </em>to the console.</p><p><br></p><p><strong>Expected result:</strong></p><p><br></p><div class=\"ud-component--base-components--code-block\"><div><pre class=\"prettyprint linenums prettyprinted\" role=\"presentation\" style=\"\"><ol class=\"linenums\"><li class=\"L0\"><span class=\"pln\">dict_keys</span><span class=\"pun\">([</span><span class=\"str\">'book_id'</span><span class=\"pun\">,</span><span class=\"pln\"> </span><span class=\"str\">'title'</span><span class=\"pun\">,</span><span class=\"pln\"> </span><span class=\"str\">'author'</span><span class=\"pun\">])</span></li></ol></pre></div></div><p><br></p></div></div>"
   ]
  },
  {
   "cell_type": "code",
   "execution_count": 6,
   "id": "800a9d84-5dc8-4e77-8852-ebbae18f7f31",
   "metadata": {},
   "outputs": [],
   "source": [
    "import uuid"
   ]
  },
  {
   "cell_type": "code",
   "execution_count": 8,
   "id": "3e5908d0-79b1-4a9d-a53a-f9c5611f6bd6",
   "metadata": {},
   "outputs": [
    {
     "data": {
      "text/plain": [
       "'116052'"
      ]
     },
     "execution_count": 8,
     "metadata": {},
     "output_type": "execute_result"
    }
   ],
   "source": [
    "str(uuid.uuid4().fields[-1])[:6]"
   ]
  },
  {
   "cell_type": "code",
   "execution_count": 25,
   "id": "a0571794-350e-4915-b11a-b46d6f47634a",
   "metadata": {},
   "outputs": [
    {
     "name": "stdout",
     "output_type": "stream",
     "text": [
      "dict_keys(['book_id', 'title', 'author'])\n"
     ]
    }
   ],
   "source": [
    "import uuid\n",
    "\n",
    "\n",
    "class Book:\n",
    "\n",
    "    def __init__(self, title, author):\n",
    "        self.book_id = self.get_id()\n",
    "        self.title = title\n",
    "        self.author = author\n",
    "    \n",
    "    @staticmethod\n",
    "    def get_id():\n",
    "        return str(uuid.uuid4().fields[-1])[:6]\n",
    "\n",
    "book = Book('Inferno', 'Dan Brown')\n",
    "\n",
    "print(book.__dict__.keys())"
   ]
  },
  {
   "cell_type": "markdown",
   "id": "3d5ae04d-3e3a-4c17-9527-525fa0a43d81",
   "metadata": {},
   "source": [
    "<div class=\"instructions--content--1JI0g\"><div class=\"udlite-heading-xl instructions--title--3vSDk\" data-purpose=\"exercise-title\">Exercise 4</div><div data-purpose=\"safely-set-inner-html:rich-text-viewer:html\" class=\"udlite-text-sm rt-scaffolding\"><p>The <em>Book </em>class is implemented. Add a <code>__repr__()</code> method to the <em>Book </em>class that represents an instance of this class (see below).</p><p>Then create an instance of the class named <em>book1 </em>passing the following arguments:</p><ul><li><p><code>title='Inferno'</code></p></li><li><p><code>author='Dan Brown'</code></p></li></ul><p>In response, print the instance <em>book1 </em>to the console.</p><p><br></p><p><strong>Expected result:</strong></p><p><br></p><div class=\"ud-component--base-components--code-block\"><div><pre class=\"prettyprint linenums prettyprinted\" role=\"presentation\" style=\"\"><ol class=\"linenums\"><li class=\"L0\"><span class=\"typ\">Book</span><span class=\"pun\">(</span><span class=\"pln\">title</span><span class=\"pun\">=</span><span class=\"str\">'Inferno'</span><span class=\"pun\">,</span><span class=\"pln\"> author</span><span class=\"pun\">=</span><span class=\"str\">'Dan Brown'</span><span class=\"pun\">)</span></li></ol></pre></div></div><p><br></p></div></div>"
   ]
  },
  {
   "cell_type": "code",
   "execution_count": 30,
   "id": "167e6701-79f6-4000-b607-99f6a58aaebe",
   "metadata": {},
   "outputs": [
    {
     "name": "stdout",
     "output_type": "stream",
     "text": [
      "Book(title='Inferno', author='Dan Brown')\n"
     ]
    }
   ],
   "source": [
    "import uuid\n",
    "\n",
    "\n",
    "class Book:\n",
    "\n",
    "    def __init__(self, title, author):\n",
    "        self.book_id = self.get_id()\n",
    "        self.title = title\n",
    "        self.author = author\n",
    "    \n",
    "    @staticmethod\n",
    "    def get_id():\n",
    "        return str(uuid.uuid4().fields[-1])[:6]\n",
    "    \n",
    "    def __repr__(self):\n",
    "        rep = \"Book(title='\" + self.title + \"', author='\" + str(self.author) + \"')\"\n",
    "        return rep\n",
    "\n",
    "book1 = Book('Inferno', 'Dan Brown')\n",
    "\n",
    "print(repr(book1))"
   ]
  },
  {
   "cell_type": "code",
   "execution_count": null,
   "id": "dc27f499-a5fb-40d2-867c-ec5cf20266ff",
   "metadata": {},
   "outputs": [],
   "source": []
  }
 ],
 "metadata": {
  "kernelspec": {
   "display_name": "OPP_UdemyCourse",
   "language": "python",
   "name": "opp_udemycourse"
  },
  "language_info": {
   "codemirror_mode": {
    "name": "ipython",
    "version": 3
   },
   "file_extension": ".py",
   "mimetype": "text/x-python",
   "name": "python",
   "nbconvert_exporter": "python",
   "pygments_lexer": "ipython3",
   "version": "3.9.7"
  },
  "toc-autonumbering": true
 },
 "nbformat": 4,
 "nbformat_minor": 5
}
