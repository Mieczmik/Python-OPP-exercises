{
  "nbformat": 4,
  "nbformat_minor": 0,
  "metadata": {
    "colab": {
      "name": "Excercise0.ipynb",
      "provenance": [],
      "authorship_tag": "ABX9TyMXILQKBfmkg+pBUIbBFiZJ",
      "include_colab_link": true
    },
    "kernelspec": {
      "name": "python3",
      "display_name": "Python 3"
    },
    "language_info": {
      "name": "python"
    }
  },
  "cells": [
    {
      "cell_type": "markdown",
      "metadata": {
        "id": "view-in-github",
        "colab_type": "text"
      },
      "source": [
        "<a href=\"https://colab.research.google.com/github/Mieczmik/Python-OPP-exercises/blob/main/Excercise9.ipynb\" target=\"_parent\"><img src=\"https://colab.research.google.com/assets/colab-badge.svg\" alt=\"Open In Colab\"/></a>"
      ]
    },
    {
      "cell_type": "markdown",
      "metadata": {
        "id": "hrZl9K-Vz7by"
      },
      "source": [
        "**Exercise 9**"
      ]
    },
    {
      "cell_type": "markdown",
      "metadata": {
        "id": "wzQ0mC-o0k1U"
      },
      "source": [
        "A display_info() function was implemented. This function has an incorrectly implemented \n",
        "internal update_counter() function. Correct the implementation of this function so that you can \n",
        "modify non-local variables: counter and doLcounter from the internal function\n",
        "update_counter() .\n",
        "In response, call display_info() with the number_of_updates argument set to 10.\n",
        "Tip: Use the nonlocal statement."
      ]
    },
    {
      "cell_type": "markdown",
      "metadata": {
        "id": "0smsiNGbzqzo"
      },
      "source": [
        "1. My solution:"
      ]
    },
    {
      "cell_type": "code",
      "metadata": {
        "id": "W3f8LV6Nt9Gz",
        "colab": {
          "base_uri": "https://localhost:8080/"
        },
        "outputId": "05d136d3-7c80-4daa-abc8-1e070d828197"
      },
      "source": [
        "def display_info(number_of_updates=1):\n",
        "    counter = 100\n",
        "    dot_counter = ''\n",
        "\n",
        "    def update_counter():\n",
        "        nonlocal counter, dot_counter\n",
        "        counter += 1\n",
        "        dot_counter += '.'\n",
        "    \n",
        "    [update_counter() for _ in range(number_of_updates)]\n",
        "\n",
        "    print(counter)\n",
        "    print(dot_counter)\n",
        "\n",
        "display_info(10)"
      ],
      "execution_count": 36,
      "outputs": [
        {
          "output_type": "stream",
          "name": "stdout",
          "text": [
            "110\n",
            "..........\n"
          ]
        }
      ]
    },
    {
      "cell_type": "markdown",
      "metadata": {
        "id": "GzJA9Rzx1FXD"
      },
      "source": [
        "2. Suggested solution"
      ]
    },
    {
      "cell_type": "code",
      "metadata": {
        "colab": {
          "base_uri": "https://localhost:8080/"
        },
        "id": "gRtnutet1YtP",
        "outputId": "14857003-a46e-4f9f-b45d-dbea4d4cfebb"
      },
      "source": [
        "def display_info(number_of_updates=1):\n",
        "    counter = 100\n",
        "    dot_counter = ''\n",
        " \n",
        "    def update_counter():\n",
        "        nonlocal counter, dot_counter\n",
        "        counter += 1\n",
        "        dot_counter += '.'\n",
        "    \n",
        "    [update_counter() for _ in range(number_of_updates)]\n",
        " \n",
        "    print(counter)\n",
        "    print(dot_counter)\n",
        " \n",
        "display_info(10)"
      ],
      "execution_count": 2,
      "outputs": [
        {
          "output_type": "stream",
          "name": "stdout",
          "text": [
            "2\n"
          ]
        }
      ]
    },
    {
      "cell_type": "code",
      "metadata": {
        "id": "rgoAy0a09DtT"
      },
      "source": [
        ""
      ],
      "execution_count": null,
      "outputs": []
    }
  ]
}