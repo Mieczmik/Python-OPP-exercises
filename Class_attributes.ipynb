{
  "nbformat": 4,
  "nbformat_minor": 0,
  "metadata": {
    "colab": {
      "name": "Class attributes.ipynb",
      "provenance": [],
      "authorship_tag": "ABX9TyPZ1joDNghRNT3LyTwkYCd6",
      "include_colab_link": true
    },
    "kernelspec": {
      "name": "python3",
      "display_name": "Python 3"
    },
    "language_info": {
      "name": "python"
    }
  },
  "cells": [
    {
      "cell_type": "markdown",
      "metadata": {
        "id": "view-in-github",
        "colab_type": "text"
      },
      "source": [
        "<a href=\"https://colab.research.google.com/github/Mieczmik/Python-OPP-exercises/blob/main/Class_attributes.ipynb\" target=\"_parent\"><img src=\"https://colab.research.google.com/assets/colab-badge.svg\" alt=\"Open In Colab\"/></a>"
      ]
    },
    {
      "cell_type": "code",
      "execution_count": null,
      "metadata": {
        "id": "xv8vSprhf4JP"
      },
      "outputs": [],
      "source": [
        ""
      ]
    }
  ]
}