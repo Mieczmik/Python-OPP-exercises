{
  "nbformat": 4,
  "nbformat_minor": 0,
  "metadata": {
    "colab": {
      "name": "Excercise0.ipynb",
      "provenance": [],
      "authorship_tag": "ABX9TyNdP/NZiOdxajSEctDGNFvb",
      "include_colab_link": true
    },
    "kernelspec": {
      "name": "python3",
      "display_name": "Python 3"
    },
    "language_info": {
      "name": "python"
    }
  },
  "cells": [
    {
      "cell_type": "markdown",
      "metadata": {
        "id": "view-in-github",
        "colab_type": "text"
      },
      "source": [
        "<a href=\"https://colab.research.google.com/github/Mieczmik/Python-OPP-exercises/blob/main/Excercise12-24.ipynb\" target=\"_parent\"><img src=\"https://colab.research.google.com/assets/colab-badge.svg\" alt=\"Open In Colab\"/></a>"
      ]
    },
    {
      "cell_type": "markdown",
      "metadata": {
        "id": "hrZl9K-Vz7by"
      },
      "source": [
        "**Exercises 11**"
      ]
    },
    {
      "cell_type": "markdown",
      "metadata": {
        "id": "0smsiNGbzqzo"
      },
      "source": [
        "My solutions:"
      ]
    },
    {
      "cell_type": "code",
      "metadata": {
        "id": "W3f8LV6Nt9Gz",
        "colab": {
          "base_uri": "https://localhost:8080/"
        },
        "outputId": "001e203c-23d0-441d-c11b-759d4d1b14c1"
      },
      "source": [
        "class Phone:\n",
        "    pass\n",
        "\n",
        "type(Phone)"
      ],
      "execution_count": 1,
      "outputs": [
        {
          "output_type": "execute_result",
          "data": {
            "text/plain": [
              "type"
            ]
          },
          "metadata": {},
          "execution_count": 1
        }
      ]
    },
    {
      "cell_type": "code",
      "metadata": {
        "id": "zuAfYh3k0b_p"
      },
      "source": [
        ""
      ],
      "execution_count": null,
      "outputs": []
    }
  ]
}