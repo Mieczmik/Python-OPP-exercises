{
  "nbformat": 4,
  "nbformat_minor": 0,
  "metadata": {
    "colab": {
      "name": "Excercise0.ipynb",
      "provenance": [],
      "authorship_tag": "ABX9TyPFHIS43ZMVtejmlMEGXtMz",
      "include_colab_link": true
    },
    "kernelspec": {
      "name": "python3",
      "display_name": "Python 3"
    },
    "language_info": {
      "name": "python"
    }
  },
  "cells": [
    {
      "cell_type": "markdown",
      "metadata": {
        "id": "view-in-github",
        "colab_type": "text"
      },
      "source": [
        "<a href=\"https://colab.research.google.com/github/Mieczmik/Python-OPP-exercises/blob/main/Excercise8.ipynb\" target=\"_parent\"><img src=\"https://colab.research.google.com/assets/colab-badge.svg\" alt=\"Open In Colab\"/></a>"
      ]
    },
    {
      "cell_type": "markdown",
      "metadata": {
        "id": "hrZl9K-Vz7by"
      },
      "source": [
        "**Exercise 8**"
      ]
    },
    {
      "cell_type": "markdown",
      "metadata": {
        "id": "wzQ0mC-o0k1U"
      },
      "source": [
        "The following global variables are given:\n",
        "• counter\n",
        "• dotcounter\n",
        "and incorrectly implemented update_counters() function Correct the implementation of the \n",
        "update counters() function so that you can modify the values of the given global variables \n",
        "from this function. Then call update_counters() 40 times.\n",
        "In response, print the value of the counter and dotcounter global variables to the console as shown below"
      ]
    },
    {
      "cell_type": "markdown",
      "metadata": {
        "id": "0smsiNGbzqzo"
      },
      "source": [
        "1. My solution:"
      ]
    },
    {
      "cell_type": "code",
      "metadata": {
        "id": "W3f8LV6Nt9Gz",
        "colab": {
          "base_uri": "https://localhost:8080/"
        },
        "outputId": "0891c268-ec28-4dce-8503-cc809e5cd439"
      },
      "source": [
        "counter = 0\n",
        "dot_counter = ''\n",
        "\n",
        "def update_counter():\n",
        "    global counter\n",
        "    counter += 1\n",
        "    global dot_counter\n",
        "    dot_counter += '.'\n",
        "\n",
        "[update_counter() for _ in range(40)]\n",
        "print(counter)\n",
        "print(dot_counter)"
      ],
      "execution_count": 27,
      "outputs": [
        {
          "output_type": "stream",
          "name": "stdout",
          "text": [
            "40\n",
            "........................................\n"
          ]
        }
      ]
    },
    {
      "cell_type": "markdown",
      "metadata": {
        "id": "GzJA9Rzx1FXD"
      },
      "source": [
        "2. Suggested solution"
      ]
    },
    {
      "cell_type": "code",
      "metadata": {
        "colab": {
          "base_uri": "https://localhost:8080/"
        },
        "id": "gRtnutet1YtP",
        "outputId": "14857003-a46e-4f9f-b45d-dbea4d4cfebb"
      },
      "source": [
        "counter = 0\n",
        "dot_counter = ''\n",
        " \n",
        "def update_counter():\n",
        "    global counter, dot_counter\n",
        "    counter += 1\n",
        "    dot_counter += '.'\n",
        " \n",
        "[update_counter() for _ in range(40)]\n",
        "print(counter)\n",
        "print(dot_counter)"
      ],
      "execution_count": 2,
      "outputs": [
        {
          "output_type": "stream",
          "name": "stdout",
          "text": [
            "2\n"
          ]
        }
      ]
    },
    {
      "cell_type": "code",
      "metadata": {
        "id": "rgoAy0a09DtT"
      },
      "source": [
        ""
      ],
      "execution_count": null,
      "outputs": []
    }
  ]
}