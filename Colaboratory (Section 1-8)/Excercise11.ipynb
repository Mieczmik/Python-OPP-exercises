{
  "nbformat": 4,
  "nbformat_minor": 0,
  "metadata": {
    "colab": {
      "name": "Excercise0.ipynb",
      "provenance": [],
      "authorship_tag": "ABX9TyNZZjM4OjIpK8fXSDMb1/T9",
      "include_colab_link": true
    },
    "kernelspec": {
      "name": "python3",
      "display_name": "Python 3"
    },
    "language_info": {
      "name": "python"
    }
  },
  "cells": [
    {
      "cell_type": "markdown",
      "metadata": {
        "id": "view-in-github",
        "colab_type": "text"
      },
      "source": [
        "<a href=\"https://colab.research.google.com/github/Mieczmik/Python-OPP-exercises/blob/main/Excercise11.ipynb\" target=\"_parent\"><img src=\"https://colab.research.google.com/assets/colab-badge.svg\" alt=\"Open In Colab\"/></a>"
      ]
    },
    {
      "cell_type": "markdown",
      "metadata": {
        "id": "hrZl9K-Vz7by"
      },
      "source": [
        "**Exercise 11**"
      ]
    },
    {
      "cell_type": "markdown",
      "metadata": {
        "id": "wzQ0mC-o0k1U"
      },
      "source": [
        "Implement a function called display_info() which prints the name of the company (as shown below) and if the user also passes an argument named price , it prints the price (as shown below)"
      ]
    },
    {
      "cell_type": "markdown",
      "metadata": {
        "id": "0smsiNGbzqzo"
      },
      "source": [
        "1. My solution:"
      ]
    },
    {
      "cell_type": "code",
      "metadata": {
        "id": "W3f8LV6Nt9Gz",
        "colab": {
          "base_uri": "https://localhost:8080/"
        },
        "outputId": "d1cebc22-b4f8-4309-976c-7b7117320162"
      },
      "source": [
        "def display_info(company, **kwargs):\n",
        "    print(f'Company name: {company}')\n",
        "    if 'price' in kwargs:\n",
        "        print(f\"Price: $ {kwargs['price']}\")\n",
        " \n",
        "display_info(company='CD Projekt', price=100)"
      ],
      "execution_count": 17,
      "outputs": [
        {
          "output_type": "stream",
          "name": "stdout",
          "text": [
            "Company name: CD Projekt\n",
            "Price: $ 100\n"
          ]
        }
      ]
    },
    {
      "cell_type": "markdown",
      "metadata": {
        "id": "GzJA9Rzx1FXD"
      },
      "source": [
        "2. Suggested solution"
      ]
    },
    {
      "cell_type": "code",
      "metadata": {
        "colab": {
          "base_uri": "https://localhost:8080/"
        },
        "id": "gRtnutet1YtP",
        "outputId": "1db9d12e-3598-42ce-f383-1ae61f98cd03"
      },
      "source": [
        "def display_info(company, **kwargs):\n",
        "    print(f'Company name: {company}')\n",
        "    if 'price' in kwargs:\n",
        "        print(f\"Price: $ {kwargs['price']}\")\n",
        " \n",
        "display_info(company='CD Projekt', price=100)"
      ],
      "execution_count": 16,
      "outputs": [
        {
          "output_type": "stream",
          "name": "stdout",
          "text": [
            "Company name: CD Projekt\n",
            "Price: $ 100\n"
          ]
        }
      ]
    },
    {
      "cell_type": "code",
      "metadata": {
        "id": "zuAfYh3k0b_p"
      },
      "source": [
        ""
      ],
      "execution_count": null,
      "outputs": []
    }
  ]
}