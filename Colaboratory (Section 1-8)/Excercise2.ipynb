{
  "nbformat": 4,
  "nbformat_minor": 0,
  "metadata": {
    "colab": {
      "name": "Excercise0.ipynb",
      "provenance": [],
      "authorship_tag": "ABX9TyMi7S4dCi16TOoVvAzPLAKJ",
      "include_colab_link": true
    },
    "kernelspec": {
      "name": "python3",
      "display_name": "Python 3"
    },
    "language_info": {
      "name": "python"
    }
  },
  "cells": [
    {
      "cell_type": "markdown",
      "metadata": {
        "id": "view-in-github",
        "colab_type": "text"
      },
      "source": [
        "<a href=\"https://colab.research.google.com/github/Mieczmik/Python-OPP-exercises/blob/main/Excercise2.ipynb\" target=\"_parent\"><img src=\"https://colab.research.google.com/assets/colab-badge.svg\" alt=\"Open In Colab\"/></a>"
      ]
    },
    {
      "cell_type": "markdown",
      "metadata": {
        "id": "hrZl9K-Vz7by"
      },
      "source": [
        "**Exercise 2**"
      ]
    },
    {
      "cell_type": "markdown",
      "metadata": {
        "id": "wzQ0mC-o0k1U"
      },
      "source": [
        "The Product class is given below. Display the namespace (value of the__dict__ attribute) of this class as shown below."
      ]
    },
    {
      "cell_type": "markdown",
      "metadata": {
        "id": "0smsiNGbzqzo"
      },
      "source": [
        "1. My solution:"
      ]
    },
    {
      "cell_type": "code",
      "metadata": {
        "id": "W3f8LV6Nt9Gz"
      },
      "source": [
        "import uuid\n",
        "\n",
        "\n",
        "class Product:\n",
        "\n",
        "    def __init__(self, product_name, price):\n",
        "        self.product_id = self.get_id()\n",
        "        self.product_name = product_name\n",
        "        self.price = price\n",
        "\n",
        "    def __repr__(self):\n",
        "        return f\"Product(product_name='{self.product_name}', price={self.price})\"\n",
        "\n",
        "    @staticmethod\n",
        "    def get_id():\n",
        "        return str(uuid.uuid4().fields[-1])[:6]"
      ],
      "execution_count": 2,
      "outputs": []
    },
    {
      "cell_type": "code",
      "metadata": {
        "id": "3o3wbCoPZn9V",
        "outputId": "11b4fb03-fc84-4d9a-fc90-556c89189d60",
        "colab": {
          "base_uri": "https://localhost:8080/"
        }
      },
      "source": [
        "dictkeys = list(Product.__dict__.keys())\n",
        "for elem in dictkeys:\n",
        "  print(elem)"
      ],
      "execution_count": 21,
      "outputs": [
        {
          "output_type": "stream",
          "name": "stdout",
          "text": [
            "__module__\n",
            "__init__\n",
            "__repr__\n",
            "get_id\n",
            "__dict__\n",
            "__weakref__\n",
            "__doc__\n"
          ]
        }
      ]
    },
    {
      "cell_type": "markdown",
      "metadata": {
        "id": "GzJA9Rzx1FXD"
      },
      "source": [
        "2. Suggested solution"
      ]
    },
    {
      "cell_type": "code",
      "metadata": {
        "colab": {
          "base_uri": "https://localhost:8080/"
        },
        "id": "gRtnutet1YtP",
        "outputId": "890a77c9-285a-461c-83fc-ec7f7ba97b2b"
      },
      "source": [
        "import uuid\n",
        " \n",
        " \n",
        "class Product:\n",
        " \n",
        "    def __init__(self, product_name, price):\n",
        "        self.product_id = self.get_id()\n",
        "        self.product_name = product_name\n",
        "        self.price = price\n",
        " \n",
        "    def __repr__(self):\n",
        "        return f\"Product(product_name='{self.product_name}', price={self.price})\"\n",
        " \n",
        "    @staticmethod\n",
        "    def get_id():\n",
        "        return str(uuid.uuid4().fields[-1])[:6]\n",
        " \n",
        " \n",
        "for name in Product.__dict__:\n",
        "    print(name)"
      ],
      "execution_count": 22,
      "outputs": [
        {
          "output_type": "stream",
          "name": "stdout",
          "text": [
            "__module__\n",
            "__init__\n",
            "__repr__\n",
            "get_id\n",
            "__dict__\n",
            "__weakref__\n",
            "__doc__\n"
          ]
        }
      ]
    },
    {
      "cell_type": "code",
      "metadata": {
        "id": "Q6KSmiKgcDlJ"
      },
      "source": [
        ""
      ],
      "execution_count": null,
      "outputs": []
    }
  ]
}