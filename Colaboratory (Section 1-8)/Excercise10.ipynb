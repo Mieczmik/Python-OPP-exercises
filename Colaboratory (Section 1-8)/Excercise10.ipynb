{
  "nbformat": 4,
  "nbformat_minor": 0,
  "metadata": {
    "colab": {
      "name": "Excercise0.ipynb",
      "provenance": [],
      "authorship_tag": "ABX9TyP2c+EIDQLr89vg32RnTDaU",
      "include_colab_link": true
    },
    "kernelspec": {
      "name": "python3",
      "display_name": "Python 3"
    },
    "language_info": {
      "name": "python"
    }
  },
  "cells": [
    {
      "cell_type": "markdown",
      "metadata": {
        "id": "view-in-github",
        "colab_type": "text"
      },
      "source": [
        "<a href=\"https://colab.research.google.com/github/Mieczmik/Python-OPP-exercises/blob/main/Excercise10.ipynb\" target=\"_parent\"><img src=\"https://colab.research.google.com/assets/colab-badge.svg\" alt=\"Open In Colab\"/></a>"
      ]
    },
    {
      "cell_type": "markdown",
      "metadata": {
        "id": "hrZl9K-Vz7by"
      },
      "source": [
        "**Exercise 10**"
      ]
    },
    {
      "cell_type": "markdown",
      "metadata": {
        "id": "wzQ0mC-o0k1U"
      },
      "source": [
        "implement a function called stick() that takes any number of bare arguments and return an object of type str being a concatenation of all arguments of type str passed to the function with the \"#' sign (see below)."
      ]
    },
    {
      "cell_type": "markdown",
      "metadata": {
        "id": "0smsiNGbzqzo"
      },
      "source": [
        "1. My solution:"
      ]
    },
    {
      "cell_type": "code",
      "metadata": {
        "id": "W3f8LV6Nt9Gz",
        "colab": {
          "base_uri": "https://localhost:8080/"
        },
        "outputId": "1ff0067b-fff6-4cdf-eac6-4eb4dffa969f"
      },
      "source": [
        "def stick(*args):\n",
        "  string = ''\n",
        "  for item in args:\n",
        "    if type(item)==str:\n",
        "      string = string + str(item) + \"#\"\n",
        "  return print(string[:-1])\n",
        "\n",
        "stick('sport', 'summer')\n",
        "stick(3,5,7)\n",
        "stick(False, 'time', True, 'workout', [], 'gym')"
      ],
      "execution_count": 69,
      "outputs": [
        {
          "output_type": "stream",
          "name": "stdout",
          "text": [
            "sport#summer\n",
            "\n",
            "time#workout#gym\n"
          ]
        }
      ]
    },
    {
      "cell_type": "code",
      "metadata": {
        "id": "QGgDbFa9ezjV",
        "outputId": "a7ef605e-8ccd-4460-e634-731b148bdb6c",
        "colab": {
          "base_uri": "https://localhost:8080/"
        }
      },
      "source": [
        "type('str')==str"
      ],
      "execution_count": 62,
      "outputs": [
        {
          "output_type": "execute_result",
          "data": {
            "text/plain": [
              "True"
            ]
          },
          "metadata": {},
          "execution_count": 62
        }
      ]
    },
    {
      "cell_type": "markdown",
      "metadata": {
        "id": "GzJA9Rzx1FXD"
      },
      "source": [
        "2. Suggested solution"
      ]
    },
    {
      "cell_type": "code",
      "metadata": {
        "colab": {
          "base_uri": "https://localhost:8080/"
        },
        "id": "gRtnutet1YtP",
        "outputId": "66df50dd-5573-439d-e682-d2ebddd4cc5b"
      },
      "source": [
        "def stick(*args):\n",
        "    args = [arg for arg in args if isinstance(arg, str)]\n",
        "    result = '#'.join(args)\n",
        "    return result\n",
        " \n",
        "print(stick('sport', 'summer'))\n",
        "print(stick(3, 5, 7))\n",
        "print(stick(False, 'time', True, 'workout', [], 'gym'))"
      ],
      "execution_count": 70,
      "outputs": [
        {
          "output_type": "stream",
          "name": "stdout",
          "text": [
            "sport#summer\n",
            "\n",
            "time#workout#gym\n"
          ]
        }
      ]
    }
  ]
}