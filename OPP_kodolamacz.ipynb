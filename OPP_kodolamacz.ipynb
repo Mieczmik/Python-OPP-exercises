{
 "cells": [
  {
   "cell_type": "markdown",
   "id": "5095de39-15ce-420d-8ae9-2f730f9c1aae",
   "metadata": {},
   "source": [
    "# Dziedziczenie"
   ]
  },
  {
   "cell_type": "code",
   "execution_count": 1,
   "id": "dc7030c7-623a-4c06-aa13-6c961a46050c",
   "metadata": {},
   "outputs": [],
   "source": [
    "class Zwierze:\n",
    "    def __init__(self, nazwa, wiek, waga):\n",
    "        self.nazwa = nazwa\n",
    "        self.wiek = wiek\n",
    "        self.waga = waga\n",
    "    \n",
    "    def przedstaw_sie(self):\n",
    "        print(f\"Jestem zwierzęciem {self.nazwa}, mam {self.wiek} lat oraz wazę {self.waga} kg.\")\n",
    "        \n",
    "    def urodziny(self):\n",
    "        self.wiek += 1"
   ]
  },
  {
   "cell_type": "code",
   "execution_count": 2,
   "id": "d2b95808-278e-46f1-9105-89ba9d99cf5d",
   "metadata": {},
   "outputs": [],
   "source": [
    "class Slon(Zwierze):\n",
    "    pass"
   ]
  },
  {
   "cell_type": "code",
   "execution_count": 3,
   "id": "622c41e7-7733-4cb3-8acb-21fce853887a",
   "metadata": {},
   "outputs": [],
   "source": [
    "class Lew(Zwierze):\n",
    "    pass"
   ]
  },
  {
   "cell_type": "code",
   "execution_count": 4,
   "id": "1df60089-b240-4d40-adf2-868c5efda40b",
   "metadata": {},
   "outputs": [],
   "source": [
    "class Papuga(Zwierze):\n",
    "    pass"
   ]
  },
  {
   "cell_type": "code",
   "execution_count": 5,
   "id": "7b9b745a-2a39-4b28-8a51-fb9e56245829",
   "metadata": {},
   "outputs": [
    {
     "name": "stdout",
     "output_type": "stream",
     "text": [
      "Jestem zwierzęciem Dumboo, mam 77 lat oraz wazę 6000 kg.\n",
      "Jestem zwierzęciem Simba, mam 24 lat oraz wazę 100 kg.\n",
      "Jestem zwierzęciem Katarzyna, mam 31 lat oraz wazę 80 kg.\n",
      "Jestem zwierzęciem Jago, mam 33 lat oraz wazę 3 kg.\n"
     ]
    }
   ],
   "source": [
    "def main():\n",
    "    Dumboo = Slon(\"Dumboo\", 77, 6000)\n",
    "    Simba = Lew(\"Simba\", 24, 100)\n",
    "    Jago = Papuga(\"Jago\", 32, 3)\n",
    "    jakis_zwierz = Zwierze(\"Katarzyna\", 31, 80) \n",
    "    \n",
    "    Dumboo.przedstaw_sie()\n",
    "    Simba.przedstaw_sie()\n",
    "    jakis_zwierz.przedstaw_sie()\n",
    "    \n",
    "    Jago.urodziny()\n",
    "    Jago.przedstaw_sie()\n",
    "if __name__ == \"__main__\":\n",
    "    main()"
   ]
  },
  {
   "cell_type": "markdown",
   "id": "92b4d99d-d086-4482-a229-7768535623c4",
   "metadata": {},
   "source": [
    "# Przesłanianie metod"
   ]
  },
  {
   "cell_type": "code",
   "execution_count": 12,
   "id": "80da9f71-78fe-4a79-8992-d123d2ef9ff4",
   "metadata": {},
   "outputs": [],
   "source": [
    "class Zwierze:\n",
    "    def __init__(self, nazwa, wiek, waga):\n",
    "        self.nazwa = nazwa\n",
    "        self.wiek = wiek\n",
    "        self.waga = waga\n",
    "    \n",
    "    def przedstaw_sie(self):\n",
    "        print(f\"Jestem zwierzęciem {self.nazwa}, mam {self.wiek} lat oraz wazę {self.waga} kg.\")\n",
    "        \n",
    "    def urodziny(self):\n",
    "        self.wiek += 1"
   ]
  },
  {
   "cell_type": "markdown",
   "id": "16589e9e-b685-413f-b4b0-e2ea8a3576bf",
   "metadata": {},
   "source": [
    "<code>super()</code> zwraca obiekt klasy bazowej!"
   ]
  },
  {
   "cell_type": "code",
   "execution_count": 6,
   "id": "7e577e51-52c9-45f0-8b06-6e85eb1723f9",
   "metadata": {},
   "outputs": [],
   "source": [
    "class Slon(Zwierze):\n",
    "    def przedstaw_sie(self):\n",
    "        print(f\"Jestem słoniem {self.nazwa}, mam {self.wiek} lat oraz wazę {self.waga} kg.\")\n",
    "    \n",
    "class Lew(Zwierze):\n",
    "    def przedstaw_sie(self):\n",
    "        super().przedstaw_sie()\n",
    "        print(\"A tak w ogóle to jestem lwem\")\n",
    "        \n",
    "class Papuga(Zwierze):\n",
    "    pass"
   ]
  },
  {
   "cell_type": "code",
   "execution_count": 7,
   "id": "9b4c27c2-2780-4caa-891d-f7f7a6b0dfc1",
   "metadata": {},
   "outputs": [
    {
     "name": "stdout",
     "output_type": "stream",
     "text": [
      "Jestem słoniem Dumboo, mam 77 lat oraz wazę 6000 kg.\n",
      "Jestem zwierzęciem Simba, mam 24 lat oraz wazę 100 kg.\n",
      "A tak w ogóle to jestem lwem\n",
      "Jestem zwierzęciem Katarzyna, mam 31 lat oraz wazę 80 kg.\n",
      "Jestem zwierzęciem Jago, mam 33 lat oraz wazę 3 kg.\n"
     ]
    }
   ],
   "source": [
    "def main():\n",
    "    Dumboo = Slon(\"Dumboo\", 77, 6000)\n",
    "    Simba = Lew(\"Simba\", 24, 100)\n",
    "    Jago = Papuga(\"Jago\", 32, 3)\n",
    "    jakis_zwierz = Zwierze(\"Katarzyna\", 31, 80) \n",
    "    \n",
    "    Dumboo.przedstaw_sie()\n",
    "    Simba.przedstaw_sie()\n",
    "    jakis_zwierz.przedstaw_sie()\n",
    "    \n",
    "    Jago.urodziny()\n",
    "    Jago.przedstaw_sie()\n",
    "if __name__ == \"__main__\":\n",
    "    main()"
   ]
  },
  {
   "cell_type": "markdown",
   "id": "9677db15-c90f-417b-9bda-362dc036024f",
   "metadata": {},
   "source": [
    "# Konstruktory"
   ]
  },
  {
   "cell_type": "code",
   "execution_count": 9,
   "id": "2b8f14a3-8e49-4543-99c6-0a212fb162cb",
   "metadata": {},
   "outputs": [],
   "source": [
    "class Zwierze:\n",
    "    def __init__(self, nazwa, wiek, waga):\n",
    "        self.nazwa = nazwa\n",
    "        self.wiek = wiek\n",
    "        self.waga = waga\n",
    "    def przedstaw_sie(self):\n",
    "        print(f\"Jestem zwierzęciem {self.nazwa}, mam {self.wiek} lat oraz wazę {self.waga} kg.\")\n",
    "        \n",
    "    def urodziny(self):\n",
    "        self.wiek += 1"
   ]
  },
  {
   "cell_type": "code",
   "execution_count": 10,
   "id": "7cb173dc-a691-474b-9e0c-01f2883ec541",
   "metadata": {},
   "outputs": [],
   "source": [
    "class Slon(Zwierze):\n",
    "    def przedstaw_sie(self):\n",
    "        print(f\"Jestem słoniem {self.nazwa}, mam {self.wiek} lat oraz wazę {self.waga} kg.\")"
   ]
  },
  {
   "cell_type": "code",
   "execution_count": 11,
   "id": "936174b6-3cc5-4807-b507-9062d2664758",
   "metadata": {},
   "outputs": [],
   "source": [
    "class Lew(Zwierze):\n",
    "    def przedstaw_sie(self):\n",
    "        super().przedstaw_sie()\n",
    "        print(\"A tak w ogóle to jestem lwem\")"
   ]
  },
  {
   "cell_type": "code",
   "execution_count": 13,
   "id": "141443ee-ddf0-420d-ba9f-9e6c5c8098e9",
   "metadata": {},
   "outputs": [],
   "source": [
    "class Papuga(Zwierze):\n",
    "    def __init__(self, nazwa, wiek, waga, kolor):\n",
    "        super().__init__(nazwa, wiek, waga)\n",
    "        self.kolor = kolor\n",
    "        \n",
    "    def przedstaw_sie(self):\n",
    "        super().przedstaw_sie()\n",
    "        print(f\"Jako papuga mój kolor to {self.kolor}\")"
   ]
  },
  {
   "cell_type": "code",
   "execution_count": 14,
   "id": "45008cc0-b6ee-438d-b698-e92cdc940663",
   "metadata": {},
   "outputs": [
    {
     "name": "stdout",
     "output_type": "stream",
     "text": [
      "Jestem słoniem Dumboo, mam 77 lat oraz wazę 6000 kg.\n",
      "Jestem zwierzęciem Simba, mam 24 lat oraz wazę 100 kg.\n",
      "A tak w ogóle to jestem lwem\n",
      "Jestem zwierzęciem Katarzyna, mam 31 lat oraz wazę 80 kg.\n",
      "Jestem zwierzęciem Jago, mam 33 lat oraz wazę 3 kg.\n",
      "Jako papuga mój kolor to czerwony\n"
     ]
    }
   ],
   "source": [
    "def main():\n",
    "    Dumboo = Slon(\"Dumboo\", 77, 6000)\n",
    "    Simba = Lew(\"Simba\", 24, 100)\n",
    "    # Jago = Papuga(\"Jago\", 32, 3) # będzie błąd\n",
    "    Jago = Papuga(\"Jago\", 32, 3, \"czerwony\")\n",
    "    jakis_zwierz = Zwierze(\"Katarzyna\", 31, 80) \n",
    "    \n",
    "    Dumboo.przedstaw_sie()\n",
    "    Simba.przedstaw_sie()\n",
    "    jakis_zwierz.przedstaw_sie()\n",
    "    \n",
    "    Jago.urodziny()\n",
    "    Jago.przedstaw_sie()\n",
    "if __name__ == \"__main__\":\n",
    "    main()"
   ]
  },
  {
   "cell_type": "markdown",
   "id": "6f9bca81-61c1-4faa-b398-37742dd82a68",
   "metadata": {},
   "source": [
    "# Polimorfizm"
   ]
  },
  {
   "cell_type": "code",
   "execution_count": 17,
   "id": "b463b6f7-3941-4d71-8321-76cefae2644f",
   "metadata": {},
   "outputs": [
    {
     "name": "stdout",
     "output_type": "stream",
     "text": [
      "isinstance(Dumboo, Slon): True\n",
      "isinstance(Dumboo, Lew): False\n",
      "isinstance(Jago, Papuga): True\n",
      "isinstance(Jago, Zwierze): True\n",
      "isinstance(jakis_zwierz, Zwierze): True\n",
      "isinstance(jakis_zwierz, Papuga): False\n"
     ]
    }
   ],
   "source": [
    "def main():\n",
    "    Dumboo = Slon(\"Dumboo\", 77, 6000)\n",
    "    Simba = Lew(\"Simba\", 24, 100)\n",
    "    Jago = Papuga(\"Jago\", 32, 3, \"czerwony\")\n",
    "    jakis_zwierz = Zwierze(\"Katarzyna\", 31, 80) \n",
    "    \n",
    "    print(f\"isinstance(Dumboo, Slon): {isinstance(Dumboo, Slon)}\")\n",
    "    print(f\"isinstance(Dumboo, Lew): {isinstance(Dumboo, Lew)}\")\n",
    "    print(f\"isinstance(Jago, Papuga): {isinstance(Jago, Papuga)}\")\n",
    "    print(f\"isinstance(Jago, Zwierze): {isinstance(Jago, Zwierze)}\")\n",
    "    print(f\"isinstance(jakis_zwierz, Zwierze): {isinstance(jakis_zwierz, Zwierze)}\")\n",
    "    print(f\"isinstance(jakis_zwierz, Papuga): {isinstance(jakis_zwierz, Papuga)}\")\n",
    "\n",
    "if __name__ == \"__main__\":\n",
    "    main()"
   ]
  },
  {
   "cell_type": "code",
   "execution_count": 18,
   "id": "82f5533d-91b1-46e8-81a6-908bf506fff9",
   "metadata": {},
   "outputs": [
    {
     "name": "stdout",
     "output_type": "stream",
     "text": [
      "Jestem słoniem Dumboo, mam 78 lat oraz wazę 6000 kg.\n",
      "Jestem zwierzęciem Simba, mam 25 lat oraz wazę 100 kg.\n",
      "A tak w ogóle to jestem lwem\n",
      "Jestem zwierzęciem Jago, mam 33 lat oraz wazę 3 kg.\n",
      "Jako papuga mój kolor to czerwony\n",
      "Jestem zwierzęciem Katarzyna, mam 32 lat oraz wazę 80 kg.\n"
     ]
    }
   ],
   "source": [
    "def nowy_rok(zoo):\n",
    "    for zwierze in zoo:\n",
    "        zwierze.urodziny()\n",
    "def przedstaw_zwierzeta(zoo):\n",
    "    for zwierze in zoo:\n",
    "        zwierze.przedstaw_sie()\n",
    "        \n",
    "def main():\n",
    "    Dumboo = Slon(\"Dumboo\", 77, 6000)\n",
    "    Simba = Lew(\"Simba\", 24, 100)\n",
    "    Jago = Papuga(\"Jago\", 32, 3, \"czerwony\")\n",
    "    jakis_zwierz = Zwierze(\"Katarzyna\", 31, 80) \n",
    "    \n",
    "    zoo = [Dumboo, Simba, Jago, jakis_zwierz]\n",
    "    nowy_rok(zoo)\n",
    "    przedstaw_zwierzeta(zoo)\n",
    "if __name__ == \"__main__\":\n",
    "    main()"
   ]
  },
  {
   "cell_type": "markdown",
   "id": "2ba8b10d-f9f8-43c9-b79d-1367c309bd70",
   "metadata": {},
   "source": [
    "# Abstrakcja"
   ]
  },
  {
   "cell_type": "code",
   "execution_count": 1,
   "id": "50cb6ee1-d4f2-4597-8d0f-3a916aba34be",
   "metadata": {},
   "outputs": [],
   "source": [
    "from abc import ABC, abstractmethod\n",
    "class Zwierze(ABC):\n",
    "    def __init__(self, nazwa, wiek, waga):\n",
    "        self.nazwa = nazwa\n",
    "        self.wiek = wiek\n",
    "        self.waga = waga\n",
    "        \n",
    "    @abstractmethod # tutaj wymuszamy implementację tej metody w klasach pochodnych\n",
    "    def nazwa_gatunku(self): \n",
    "        pass\n",
    "    def przedstaw_sie(self):\n",
    "        print(f\"Jestem {self.nazwa_gatunku()}. Mam na imię {self.nazwa}, mam {self.wiek} lat oraz wazę {self.waga} kg.\")\n",
    "        \n",
    "    def urodziny(self):\n",
    "        self.wiek += 1"
   ]
  },
  {
   "cell_type": "code",
   "execution_count": 2,
   "id": "4694ff93-f45b-4432-8c87-ae0c406fbaa6",
   "metadata": {},
   "outputs": [],
   "source": [
    "class Slon(Zwierze):\n",
    "    def nazwa_gatunku(self):\n",
    "        return \"Słoń\"\n",
    "    \n",
    "class Lew(Zwierze):\n",
    "    def nazwa_gatunku(self):\n",
    "        return \"Lew\"\n",
    "        \n",
    "class Papuga(Zwierze):\n",
    "    def nazwa_gatunku(self):\n",
    "        return \"Papuga\"\n",
    "        \n",
    "    def __init__(self, nazwa, wiek, waga, kolor):\n",
    "        super().__init__(nazwa, wiek, waga)\n",
    "        self.kolor = kolor\n",
    "        \n",
    "    def przedstaw_sie(self):\n",
    "        super().przedstaw_sie()\n",
    "        print(f\"Jako papuga mój kolor to {self.kolor}\")"
   ]
  },
  {
   "cell_type": "code",
   "execution_count": 3,
   "id": "e683439a-38c3-483d-b386-bc2dd0fd1574",
   "metadata": {},
   "outputs": [
    {
     "name": "stdout",
     "output_type": "stream",
     "text": [
      "Jestem Słoń. Mam na imię Dumboo, mam 77 lat oraz wazę 6000 kg.\n",
      "Jestem Lew. Mam na imię Simba, mam 24 lat oraz wazę 100 kg.\n",
      "Jestem Papuga. Mam na imię Jago, mam 33 lat oraz wazę 3 kg.\n",
      "Jako papuga mój kolor to czerwony\n"
     ]
    }
   ],
   "source": [
    "def main():\n",
    "    Dumboo = Slon(\"Dumboo\", 77, 6000)\n",
    "    Simba = Lew(\"Simba\", 24, 100)\n",
    "    Jago = Papuga(\"Jago\", 32, 3, \"czerwony\")\n",
    "    # jakis_zwierz = Zwierze(\"Katarzyna\", 31, 80) # będzie błąd\n",
    "    \n",
    "    Dumboo.przedstaw_sie()\n",
    "    Simba.przedstaw_sie()\n",
    "    # jakis_zwierz.przedstaw_sie()\n",
    "    \n",
    "    Jago.urodziny()\n",
    "    Jago.przedstaw_sie()\n",
    "if __name__ == \"__main__\":\n",
    "    main()"
   ]
  },
  {
   "cell_type": "markdown",
   "id": "6e0b03e6-87e7-4e03-a06f-524782b7e84f",
   "metadata": {},
   "source": [
    "# Hermetyzacja"
   ]
  },
  {
   "cell_type": "code",
   "execution_count": 24,
   "id": "664ead55-aa1e-42ba-a9d2-833000f9ac41",
   "metadata": {},
   "outputs": [
    {
     "name": "stdout",
     "output_type": "stream",
     "text": [
      "200\n",
      "0\n",
      "30\n"
     ]
    }
   ],
   "source": [
    "class Zwierze:\n",
    "    def __init__(self, wiek):\n",
    "        self.wiek = wiek\n",
    "        \n",
    "    @property\n",
    "    def wiek(self):\n",
    "        return self.__wiek\n",
    "    @wiek.setter\n",
    "    def wiek(self, wiek):\n",
    "        if wiek < 0:\n",
    "            self.__wiek = 0\n",
    "        elif wiek > 200:\n",
    "            self.__wiek = 200\n",
    "        else:\n",
    "            self.__wiek = wiek\n",
    "def main():\n",
    "    jakis_zwierz = Zwierze(202)\n",
    "    print(jakis_zwierz.wiek)\n",
    "    jakis_zwierz.wiek = -10\n",
    "    print(jakis_zwierz.wiek)\n",
    "    jakis_zwierz.wiek = 30\n",
    "    print(jakis_zwierz.wiek)\n",
    "    \n",
    "if __name__ == \"__main__\":\n",
    "    main()"
   ]
  },
  {
   "cell_type": "code",
   "execution_count": 21,
   "id": "d3b9e12d-b78b-4783-9cf7-c9d2f4a6a4da",
   "metadata": {},
   "outputs": [],
   "source": [
    "jakis_zwierz.wiek = 30"
   ]
  }
 ],
 "metadata": {
  "kernelspec": {
   "display_name": "Python 3 (ipykernel)",
   "language": "python",
   "name": "python3"
  },
  "language_info": {
   "codemirror_mode": {
    "name": "ipython",
    "version": 3
   },
   "file_extension": ".py",
   "mimetype": "text/x-python",
   "name": "python",
   "nbconvert_exporter": "python",
   "pygments_lexer": "ipython3",
   "version": "3.9.7"
  },
  "toc-autonumbering": true
 },
 "nbformat": 4,
 "nbformat_minor": 5
}
