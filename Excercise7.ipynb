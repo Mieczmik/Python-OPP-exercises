{
  "nbformat": 4,
  "nbformat_minor": 0,
  "metadata": {
    "colab": {
      "name": "Excercise0.ipynb",
      "provenance": [],
      "authorship_tag": "ABX9TyMD6NV7/Eate9oHZI2UNi20",
      "include_colab_link": true
    },
    "kernelspec": {
      "name": "python3",
      "display_name": "Python 3"
    },
    "language_info": {
      "name": "python"
    }
  },
  "cells": [
    {
      "cell_type": "markdown",
      "metadata": {
        "id": "view-in-github",
        "colab_type": "text"
      },
      "source": [
        "<a href=\"https://colab.research.google.com/github/Mieczmik/Python-OPP-exercises/blob/main/Excercise7.ipynb\" target=\"_parent\"><img src=\"https://colab.research.google.com/assets/colab-badge.svg\" alt=\"Open In Colab\"/></a>"
      ]
    },
    {
      "cell_type": "markdown",
      "metadata": {
        "id": "hrZl9K-Vz7by"
      },
      "source": [
        "**Exercise 7**"
      ]
    },
    {
      "cell_type": "markdown",
      "metadata": {
        "id": "wzQ0mC-o0k1U"
      },
      "source": [
        "A global variable counter is given with an incorrectly implemented update_counter() function. Correct the implementation of the update_counter() function so that you can modify the counter variable from this function. Then call the update_counter() functi"
      ]
    },
    {
      "cell_type": "markdown",
      "metadata": {
        "id": "0smsiNGbzqzo"
      },
      "source": [
        "1. My solution:"
      ]
    },
    {
      "cell_type": "code",
      "metadata": {
        "id": "W3f8LV6Nt9Gz",
        "colab": {
          "base_uri": "https://localhost:8080/"
        },
        "outputId": "227fc8d7-0096-4459-dfed-50a817f49036"
      },
      "source": [
        "counter = 1\n",
        "\n",
        "def update_counter():\n",
        "    global counter\n",
        "    counter += 1\n",
        "    print(counter)\n",
        "\n",
        "update_counter()"
      ],
      "execution_count": 1,
      "outputs": [
        {
          "output_type": "stream",
          "name": "stdout",
          "text": [
            "2\n"
          ]
        }
      ]
    },
    {
      "cell_type": "markdown",
      "metadata": {
        "id": "GzJA9Rzx1FXD"
      },
      "source": [
        "2. Suggested solution"
      ]
    },
    {
      "cell_type": "code",
      "metadata": {
        "colab": {
          "base_uri": "https://localhost:8080/"
        },
        "id": "gRtnutet1YtP",
        "outputId": "14857003-a46e-4f9f-b45d-dbea4d4cfebb"
      },
      "source": [
        "counter = 1\n",
        " \n",
        "def update_counter():\n",
        "    global counter\n",
        "    counter += 1\n",
        "    print(counter)\n",
        " \n",
        "update_counter()"
      ],
      "execution_count": 2,
      "outputs": [
        {
          "output_type": "stream",
          "name": "stdout",
          "text": [
            "2\n"
          ]
        }
      ]
    },
    {
      "cell_type": "code",
      "metadata": {
        "id": "rgoAy0a09DtT"
      },
      "source": [
        ""
      ],
      "execution_count": null,
      "outputs": []
    }
  ]
}